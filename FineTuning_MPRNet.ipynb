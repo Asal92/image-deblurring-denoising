{
  "cells": [
    {
      "cell_type": "markdown",
      "source": [
        "# **Fine-Tuning MPRNet:**\n",
        "\n",
        "In this code, our goal is to use the pretrained weights as the initial values and fine-tune the entire network by training. This is time consuming, but the network will be trained for our custom dataset. The results show significant improvement of performance compared to the pretrained model:"
      ],
      "metadata": {
        "id": "ia-ehUYID7Na"
      }
    },
    {
      "cell_type": "markdown",
      "source": [
        "**1)** We are using the best configs of google colab to run all of our codes. Therefore, the first step is to mount google drive, where we have uploaded the MPRNet github codes + our datasets + pretrained and best trained models:"
      ],
      "metadata": {
        "id": "YpN23X5PEgIy"
      }
    },
    {
      "cell_type": "code",
      "execution_count": null,
      "metadata": {
        "colab": {
          "base_uri": "https://localhost:8080/"
        },
        "id": "SyxJbMMYePSY",
        "outputId": "cfe667fd-4d0a-4fe9-e5c3-3137181f7bf6"
      },
      "outputs": [
        {
          "name": "stdout",
          "output_type": "stream",
          "text": [
            "/\n",
            "Mounted at /content/gdrive\n",
            "bin\t dev   lib32  mydrive\t\t\tpython-apt  srv    usr\n",
            "boot\t etc   lib64  NGC-DL-CONTAINER-LICENSE\troot\t    sys    var\n",
            "content  home  media  opt\t\t\trun\t    tmp\n",
            "datalab  lib   mnt    proc\t\t\tsbin\t    tools\n"
          ]
        }
      ],
      "source": [
        "import os\n",
        "\n",
        "#mount drive\n",
        "%cd ..\n",
        "from google.colab import drive\n",
        "drive.mount('/content/gdrive', force_remount=True)\n",
        "\n",
        "# this creates a symbolic link so that now the path /content/gdrive/My\\ Drive/ is equal to /mydrive\n",
        "!ln -s /content/gdrive/My\\ Drive/ /mydrive\n",
        "\n",
        "!ls"
      ]
    },
    {
      "cell_type": "markdown",
      "source": [
        "**2)** Make the MPRNet directory, the main working directory:"
      ],
      "metadata": {
        "id": "rCLGyu6fEic0"
      }
    },
    {
      "cell_type": "code",
      "execution_count": null,
      "metadata": {
        "colab": {
          "base_uri": "https://localhost:8080/"
        },
        "id": "Om5bhEIah-YI",
        "outputId": "ef9874e5-e5f7-4f77-f25a-4d1d56918db5"
      },
      "outputs": [
        {
          "name": "stdout",
          "output_type": "stream",
          "text": [
            "checkpoints\tDatasets4\t\t  test.py\n",
            "checkpoints2\tDatasets5\t\t  training2.yml\n",
            "CHK2\t\tevaluate_GOPRO_HIDE.m\t  training3.yml\n",
            "CHK3\t\tevaluate_RealBlur.py\t  training4.yml\n",
            "CHK4\t\tInput\t\t\t  training5.yml\n",
            "CHK5\t\tlosses.py\t\t  training6.yml\n",
            "config.py\tMPRNet.py\t\t  training_Nov.yml\n",
            "data_RGB.py\tMPRNET_Training_V1.ipynb  training.yml\n",
            "dataset_RGB.py\tpretrained_models\t  train.py\n",
            "Datasets\t__pycache__\t\t  utils\n",
            "Datasets2\tREADME.md\n",
            "Datasets3\tResult\n"
          ]
        }
      ],
      "source": [
        "os.chdir('mydrive/MPRNET_V2/Deblurring')\n",
        "!ls"
      ]
    },
    {
      "cell_type": "code",
      "execution_count": null,
      "metadata": {
        "colab": {
          "base_uri": "https://localhost:8080/"
        },
        "id": "_kOag_rSiVQQ",
        "outputId": "eee0f7bf-77dd-4191-bb74-05f11ca9b217"
      },
      "outputs": [
        {
          "name": "stdout",
          "output_type": "stream",
          "text": [
            "checkpoints\tDatasets4\t\t  test.py\n",
            "checkpoints2\tDatasets5\t\t  training2.yml\n",
            "CHK2\t\tevaluate_GOPRO_HIDE.m\t  training3.yml\n",
            "CHK3\t\tevaluate_RealBlur.py\t  training4.yml\n",
            "CHK4\t\tInput\t\t\t  training5.yml\n",
            "CHK5\t\tlosses.py\t\t  training6.yml\n",
            "config.py\tMPRNet.py\t\t  training_Nov.yml\n",
            "data_RGB.py\tMPRNET_Training_V1.ipynb  training.yml\n",
            "dataset_RGB.py\tpretrained_models\t  train.py\n",
            "Datasets\t__pycache__\t\t  utils\n",
            "Datasets2\tREADME.md\n",
            "Datasets3\tResult\n"
          ]
        }
      ],
      "source": [
        "os.getcwd()\n",
        "!ls"
      ]
    },
    {
      "cell_type": "markdown",
      "source": [
        "**3)** Install required packages:"
      ],
      "metadata": {
        "id": "0Rn5nTFvEmwJ"
      }
    },
    {
      "cell_type": "code",
      "execution_count": null,
      "metadata": {
        "colab": {
          "base_uri": "https://localhost:8080/"
        },
        "id": "q09hm5U-jG-4",
        "outputId": "3489a2d6-02a3-4e87-e21e-664038463f4c"
      },
      "outputs": [
        {
          "name": "stdout",
          "output_type": "stream",
          "text": [
            "Looking in indexes: https://pypi.org/simple, https://us-python.pkg.dev/colab-wheels/public/simple/\n",
            "Collecting yacs\n",
            "  Downloading yacs-0.1.8-py3-none-any.whl (14 kB)\n",
            "Requirement already satisfied: PyYAML in /usr/local/lib/python3.8/dist-packages (from yacs) (6.0)\n",
            "Installing collected packages: yacs\n",
            "Successfully installed yacs-0.1.8\n"
          ]
        }
      ],
      "source": [
        "!pip install yacs"
      ]
    },
    {
      "cell_type": "code",
      "execution_count": null,
      "metadata": {
        "colab": {
          "base_uri": "https://localhost:8080/"
        },
        "id": "6eN49YQojnVo",
        "outputId": "442056a4-da86-45cd-e5d1-6cfb9c27796a"
      },
      "outputs": [
        {
          "name": "stdout",
          "output_type": "stream",
          "text": [
            "Looking in indexes: https://pypi.org/simple, https://us-python.pkg.dev/colab-wheels/public/simple/\n",
            "Collecting warmup-scheduler\n",
            "  Downloading warmup_scheduler-0.3.tar.gz (2.1 kB)\n",
            "Building wheels for collected packages: warmup-scheduler\n",
            "  Building wheel for warmup-scheduler (setup.py) ... \u001b[?25l\u001b[?25hdone\n",
            "  Created wheel for warmup-scheduler: filename=warmup_scheduler-0.3-py3-none-any.whl size=2983 sha256=a00b1878697e94f51862659b99dc1f9beedb86c5a9344d512dc2f478e0781473\n",
            "  Stored in directory: /root/.cache/pip/wheels/f2/ce/4a/215c4f0add432420ff90fe04656bf2664ddfac7302e2b6fe51\n",
            "Successfully built warmup-scheduler\n",
            "Installing collected packages: warmup-scheduler\n",
            "Successfully installed warmup-scheduler-0.3\n"
          ]
        }
      ],
      "source": [
        "!pip install warmup-scheduler"
      ]
    },
    {
      "cell_type": "markdown",
      "source": [
        "**4)** The .yml file includes the training hyperparameters (patch size, batch size, learning rate, etc.). Inaddition to those, the directories of the initial model and the dataset is also included."
      ],
      "metadata": {
        "id": "pV6GGsSlEtrh"
      }
    },
    {
      "cell_type": "code",
      "execution_count": null,
      "metadata": {
        "id": "JV_smtAVVzr6"
      },
      "outputs": [],
      "source": [
        "from config import Config \n",
        "opt = Config('training6.yml')\n",
        "\n",
        "gpus = ','.join([str(i) for i in opt.GPU])\n",
        "os.environ[\"CUDA_DEVICE_ORDER\"] = \"PCI_BUS_ID\"\n",
        "os.environ[\"CUDA_VISIBLE_DEVICES\"] = gpus\n",
        "\n",
        "import torch\n",
        "torch.backends.cudnn.benchmark = True\n",
        "\n",
        "import torch.nn as nn\n",
        "import torch.nn.functional as F\n",
        "import torch.optim as optim\n",
        "from torch.utils.data import DataLoader\n",
        "\n",
        "import random\n",
        "import time\n",
        "import numpy as np\n",
        "\n",
        "import utils\n",
        "from data_RGB import get_training_data, get_validation_data\n",
        "from MPRNet import MPRNet\n",
        "import losses\n",
        "from warmup_scheduler import GradualWarmupScheduler\n",
        "from tqdm import tqdm\n",
        "from pdb import set_trace as stx"
      ]
    },
    {
      "cell_type": "markdown",
      "source": [
        "**5)** As mentioned, the PNSR calculation we use exploits random patches from the image. To make this calculation repetitive, we set the random seeds to fixed values to avoid changes each time we run the code:"
      ],
      "metadata": {
        "id": "k_mXmCGAE464"
      }
    },
    {
      "cell_type": "code",
      "execution_count": null,
      "metadata": {
        "id": "5NwUa8GIjO6v"
      },
      "outputs": [],
      "source": [
        "\n",
        "######### Set Seeds ###########\n",
        "random.seed(1234)\n",
        "np.random.seed(1234)\n",
        "torch.manual_seed(1234)\n",
        "torch.cuda.manual_seed_all(1234)\n",
        "\n",
        "start_epoch = 1\n",
        "mode = opt.MODEL.MODE\n",
        "session = opt.MODEL.SESSION\n",
        "\n",
        "result_dir = os.path.join(opt.TRAINING.SAVE_DIR, mode, 'results', session)\n",
        "model_dir  = os.path.join(opt.TRAINING.SAVE_DIR, mode, 'models',  session)\n",
        "\n",
        "utils.mkdir(result_dir)\n",
        "utils.mkdir(model_dir)\n",
        "\n",
        "train_dir = opt.TRAINING.TRAIN_DIR\n",
        "val_dir   = opt.TRAINING.VAL_DIR"
      ]
    },
    {
      "cell_type": "code",
      "execution_count": null,
      "metadata": {
        "id": "pCBwtyBWI-_h"
      },
      "outputs": [],
      "source": [
        "import cv2\n",
        "import os\n",
        "\n",
        "def load_images_from_folder(folder):\n",
        "    images = []\n",
        "    for filename in os.listdir(folder):\n",
        "        img = cv2.imread(os.path.join(folder,filename))\n",
        "        if img is not None:\n",
        "            # image_rgb = cv2.cvtColor(img, cv2.COLOR_GRAY2RGB) \n",
        "            # images.append(image_rgb)\\\n",
        "            images.append(img)\n",
        "    return images"
      ]
    },
    {
      "cell_type": "markdown",
      "source": [
        "**6)** Find the validation and training datasets directories based on the given \".yml\" file, creating the dataloaders, and definding the model + optimizer."
      ],
      "metadata": {
        "id": "SqrbTsydFA0-"
      }
    },
    {
      "cell_type": "code",
      "execution_count": null,
      "metadata": {
        "colab": {
          "base_uri": "https://localhost:8080/"
        },
        "id": "4pKLxz7hZP9a",
        "outputId": "b1fd9fef-75de-49bc-a754-ad9faef3ad8d"
      },
      "outputs": [
        {
          "name": "stderr",
          "output_type": "stream",
          "text": [
            "/usr/local/lib/python3.8/dist-packages/torch/optim/lr_scheduler.py:138: UserWarning: Detected call of `lr_scheduler.step()` before `optimizer.step()`. In PyTorch 1.1.0 and later, you should call them in the opposite order: `optimizer.step()` before `lr_scheduler.step()`.  Failure to do this will result in PyTorch skipping the first value of the learning rate schedule. See more details at https://pytorch.org/docs/stable/optim.html#how-to-adjust-learning-rate\n",
            "  warnings.warn(\"Detected call of `lr_scheduler.step()` before `optimizer.step()`. \"\n"
          ]
        },
        {
          "name": "stdout",
          "output_type": "stream",
          "text": [
            "------------------------------------------------------------------------------\n",
            "==> Resuming Training with learning rate: 3.3333333333333335e-05\n",
            "------------------------------------------------------------------------------\n"
          ]
        },
        {
          "name": "stderr",
          "output_type": "stream",
          "text": [
            "/usr/local/lib/python3.8/dist-packages/torch/utils/data/dataloader.py:554: UserWarning: This DataLoader will create 16 worker processes in total. Our suggested max number of worker in current system is 12, which is smaller than what this DataLoader is going to create. Please be aware that excessive worker creation might get DataLoader running slow or even freeze, lower the worker number to avoid potential slowness/freeze if necessary.\n",
            "  warnings.warn(_create_warning_msg(\n"
          ]
        },
        {
          "name": "stdout",
          "output_type": "stream",
          "text": [
            "===> Start Epoch 1 End Epoch 3001\n",
            "===> Loading datasets\n"
          ]
        }
      ],
      "source": [
        "# %%capture\n",
        "\n",
        "######### Model ###########\n",
        "model_restoration = MPRNet()\n",
        "model_restoration.cuda()\n",
        "\n",
        "device_ids = [i for i in range(torch.cuda.device_count())]\n",
        "if torch.cuda.device_count() > 1:\n",
        "  print(\"\\n\\nLet's use\", torch.cuda.device_count(), \"GPUs!\\n\\n\")\n",
        "\n",
        "\n",
        "new_lr = opt.OPTIM.LR_INITIAL\n",
        "\n",
        "optimizer = optim.Adam(model_restoration.parameters(), lr=new_lr, betas=(0.9, 0.999),eps=1e-8)\n",
        "\n",
        "\n",
        "######### Scheduler ###########\n",
        "warmup_epochs = 3\n",
        "scheduler_cosine = optim.lr_scheduler.CosineAnnealingLR(optimizer, opt.OPTIM.NUM_EPOCHS-warmup_epochs, eta_min=opt.OPTIM.LR_MIN)\n",
        "scheduler = GradualWarmupScheduler(optimizer, multiplier=1, total_epoch=warmup_epochs, after_scheduler=scheduler_cosine)\n",
        "scheduler.step()\n",
        "\n",
        "######### Resume ###########\n",
        "if opt.TRAINING.RESUME:\n",
        "    path_chk_rest    = utils.get_last_path(model_dir, '_latest.pth')\n",
        "    utils.load_checkpoint(model_restoration,path_chk_rest)\n",
        "    # start_epoch = utils.load_start_epoch(path_chk_rest) + 1\n",
        "    # utils.load_optim(optimizer, path_chk_rest)\n",
        "\n",
        "    for i in range(1, start_epoch):\n",
        "        scheduler.step()\n",
        "    new_lr = scheduler.get_lr()[0]\n",
        "    print('------------------------------------------------------------------------------')\n",
        "    print(\"==> Resuming Training with learning rate:\", new_lr)\n",
        "    print('------------------------------------------------------------------------------')\n",
        "\n",
        "if len(device_ids)>1:\n",
        "    model_restoration = nn.DataParallel(model_restoration, device_ids = device_ids)\n",
        "\n",
        "######### Loss ###########\n",
        "criterion_char = losses.CharbonnierLoss()\n",
        "criterion_edge = losses.EdgeLoss()\n",
        "\n",
        "######### DataLoaders ###########\n",
        "train_dataset = get_training_data(train_dir, {'patch_size':opt.TRAINING.TRAIN_PS})\n",
        "train_loader = DataLoader(dataset=train_dataset, batch_size=opt.OPTIM.BATCH_SIZE, shuffle=True, num_workers=16, drop_last=False, pin_memory=True)\n",
        "\n",
        "val_dataset = get_validation_data(val_dir, {'patch_size':opt.TRAINING.VAL_PS})\n",
        "val_loader = DataLoader(dataset=val_dataset, batch_size=16, shuffle=False, num_workers=8, drop_last=False, pin_memory=True)\n",
        "\n",
        "print('===> Start Epoch {} End Epoch {}'.format(start_epoch,opt.OPTIM.NUM_EPOCHS + 1))\n",
        "print('===> Loading datasets')"
      ]
    },
    {
      "cell_type": "markdown",
      "source": [
        "**7)** Train:"
      ],
      "metadata": {
        "id": "MXvB3MshFhB1"
      }
    },
    {
      "cell_type": "code",
      "execution_count": null,
      "metadata": {
        "colab": {
          "base_uri": "https://localhost:8080/",
          "height": 1000
        },
        "id": "bg3pZlYta5a6",
        "outputId": "a18f9735-6bcb-4210-8df8-d35c3b855d42"
      },
      "outputs": [
        {
          "metadata": {
            "tags": null
          },
          "name": "stderr",
          "output_type": "stream",
          "text": [
            "100%|██████████| 350/350 [02:19<00:00,  2.51it/s]\n"
          ]
        },
        {
          "metadata": {
            "tags": null
          },
          "name": "stdout",
          "output_type": "stream",
          "text": [
            "------------------------------------------------------------------\n",
            "Epoch: 1\tTime: 139.5881\tLoss: 17.2479\tLearningRate 0.000067\n",
            "------------------------------------------------------------------\n"
          ]
        },
        {
          "metadata": {
            "tags": null
          },
          "name": "stderr",
          "output_type": "stream",
          "text": [
            "100%|██████████| 350/350 [02:06<00:00,  2.77it/s]\n"
          ]
        },
        {
          "metadata": {
            "tags": null
          },
          "name": "stdout",
          "output_type": "stream",
          "text": [
            "[epoch 2 PSNR: 31.3730 --- best_epoch 2 Best_PSNR 31.3730]\n",
            "------------------------------------------------------------------\n",
            "Epoch: 2\tTime: 146.6129\tLoss: 16.3677\tLearningRate 0.000100\n",
            "------------------------------------------------------------------\n"
          ]
        },
        {
          "metadata": {
            "tags": null
          },
          "name": "stderr",
          "output_type": "stream",
          "text": [
            "100%|██████████| 350/350 [02:06<00:00,  2.77it/s]\n",
            "/usr/local/lib/python3.8/dist-packages/torch/optim/lr_scheduler.py:807: UserWarning: To get the last learning rate computed by the scheduler, please use `get_last_lr()`.\n",
            "  warnings.warn(\"To get the last learning rate computed by the scheduler, \"\n"
          ]
        },
        {
          "metadata": {
            "tags": null
          },
          "name": "stdout",
          "output_type": "stream",
          "text": [
            "------------------------------------------------------------------\n",
            "Epoch: 3\tTime: 126.5776\tLoss: 15.9618\tLearningRate 0.000100\n",
            "------------------------------------------------------------------\n"
          ]
        },
        {
          "metadata": {
            "tags": null
          },
          "name": "stderr",
          "output_type": "stream",
          "text": [
            "100%|██████████| 350/350 [02:06<00:00,  2.77it/s]\n"
          ]
        },
        {
          "metadata": {
            "tags": null
          },
          "name": "stdout",
          "output_type": "stream",
          "text": [
            "[epoch 4 PSNR: 31.5367 --- best_epoch 4 Best_PSNR 31.5367]\n",
            "------------------------------------------------------------------\n",
            "Epoch: 4\tTime: 132.2280\tLoss: 15.9598\tLearningRate 0.000100\n",
            "------------------------------------------------------------------\n"
          ]
        },
        {
          "metadata": {
            "tags": null
          },
          "name": "stderr",
          "output_type": "stream",
          "text": [
            "100%|██████████| 350/350 [02:06<00:00,  2.76it/s]\n"
          ]
        },
        {
          "metadata": {
            "tags": null
          },
          "name": "stdout",
          "output_type": "stream",
          "text": [
            "------------------------------------------------------------------\n",
            "Epoch: 5\tTime: 126.8023\tLoss: 15.6803\tLearningRate 0.000100\n",
            "------------------------------------------------------------------\n"
          ]
        },
        {
          "metadata": {
            "tags": null
          },
          "name": "stderr",
          "output_type": "stream",
          "text": [
            "100%|██████████| 350/350 [02:06<00:00,  2.77it/s]\n"
          ]
        },
        {
          "metadata": {
            "tags": null
          },
          "name": "stdout",
          "output_type": "stream",
          "text": [
            "[epoch 6 PSNR: 31.6080 --- best_epoch 6 Best_PSNR 31.6080]\n",
            "------------------------------------------------------------------\n",
            "Epoch: 6\tTime: 132.4047\tLoss: 15.5164\tLearningRate 0.000100\n",
            "------------------------------------------------------------------\n"
          ]
        },
        {
          "metadata": {
            "tags": null
          },
          "name": "stderr",
          "output_type": "stream",
          "text": [
            "100%|██████████| 350/350 [02:06<00:00,  2.77it/s]\n"
          ]
        },
        {
          "metadata": {
            "tags": null
          },
          "name": "stdout",
          "output_type": "stream",
          "text": [
            "------------------------------------------------------------------\n",
            "Epoch: 7\tTime: 126.4913\tLoss: 15.8521\tLearningRate 0.000100\n",
            "------------------------------------------------------------------\n"
          ]
        },
        {
          "metadata": {
            "tags": null
          },
          "name": "stderr",
          "output_type": "stream",
          "text": [
            "100%|██████████| 350/350 [02:06<00:00,  2.77it/s]\n"
          ]
        },
        {
          "metadata": {
            "tags": null
          },
          "name": "stdout",
          "output_type": "stream",
          "text": [
            "[epoch 8 PSNR: 31.5866 --- best_epoch 6 Best_PSNR 31.6080]\n",
            "------------------------------------------------------------------\n",
            "Epoch: 8\tTime: 131.5244\tLoss: 15.4439\tLearningRate 0.000100\n",
            "------------------------------------------------------------------\n"
          ]
        },
        {
          "metadata": {
            "tags": null
          },
          "name": "stderr",
          "output_type": "stream",
          "text": [
            "100%|██████████| 350/350 [02:06<00:00,  2.77it/s]\n"
          ]
        },
        {
          "metadata": {
            "tags": null
          },
          "name": "stdout",
          "output_type": "stream",
          "text": [
            "------------------------------------------------------------------\n",
            "Epoch: 9\tTime: 126.5324\tLoss: 15.4584\tLearningRate 0.000100\n",
            "------------------------------------------------------------------\n"
          ]
        },
        {
          "metadata": {
            "tags": null
          },
          "name": "stderr",
          "output_type": "stream",
          "text": [
            "100%|██████████| 350/350 [02:06<00:00,  2.77it/s]\n"
          ]
        },
        {
          "metadata": {
            "tags": null
          },
          "name": "stdout",
          "output_type": "stream",
          "text": [
            "[epoch 10 PSNR: 31.6399 --- best_epoch 10 Best_PSNR 31.6399]\n",
            "------------------------------------------------------------------\n",
            "Epoch: 10\tTime: 132.4919\tLoss: 15.2466\tLearningRate 0.000100\n",
            "------------------------------------------------------------------\n"
          ]
        },
        {
          "metadata": {
            "tags": null
          },
          "name": "stderr",
          "output_type": "stream",
          "text": [
            "100%|██████████| 350/350 [02:06<00:00,  2.76it/s]\n"
          ]
        },
        {
          "metadata": {
            "tags": null
          },
          "name": "stdout",
          "output_type": "stream",
          "text": [
            "------------------------------------------------------------------\n",
            "Epoch: 11\tTime: 126.6717\tLoss: 15.3495\tLearningRate 0.000100\n",
            "------------------------------------------------------------------\n"
          ]
        },
        {
          "metadata": {
            "tags": null
          },
          "name": "stderr",
          "output_type": "stream",
          "text": [
            "100%|██████████| 350/350 [02:06<00:00,  2.77it/s]\n"
          ]
        },
        {
          "metadata": {
            "tags": null
          },
          "name": "stdout",
          "output_type": "stream",
          "text": [
            "[epoch 12 PSNR: 31.6557 --- best_epoch 12 Best_PSNR 31.6557]\n",
            "------------------------------------------------------------------\n",
            "Epoch: 12\tTime: 132.1937\tLoss: 14.9279\tLearningRate 0.000100\n",
            "------------------------------------------------------------------\n"
          ]
        },
        {
          "metadata": {
            "tags": null
          },
          "name": "stderr",
          "output_type": "stream",
          "text": [
            "100%|██████████| 350/350 [02:06<00:00,  2.77it/s]\n"
          ]
        },
        {
          "metadata": {
            "tags": null
          },
          "name": "stdout",
          "output_type": "stream",
          "text": [
            "------------------------------------------------------------------\n",
            "Epoch: 13\tTime: 126.5676\tLoss: 15.1680\tLearningRate 0.000100\n",
            "------------------------------------------------------------------\n"
          ]
        },
        {
          "metadata": {
            "tags": null
          },
          "name": "stderr",
          "output_type": "stream",
          "text": [
            "100%|██████████| 350/350 [02:06<00:00,  2.77it/s]\n"
          ]
        },
        {
          "metadata": {
            "tags": null
          },
          "name": "stdout",
          "output_type": "stream",
          "text": [
            "[epoch 14 PSNR: 31.6330 --- best_epoch 12 Best_PSNR 31.6557]\n",
            "------------------------------------------------------------------\n",
            "Epoch: 14\tTime: 131.5956\tLoss: 15.0681\tLearningRate 0.000100\n",
            "------------------------------------------------------------------\n"
          ]
        },
        {
          "metadata": {
            "tags": null
          },
          "name": "stderr",
          "output_type": "stream",
          "text": [
            "100%|██████████| 350/350 [02:06<00:00,  2.77it/s]\n"
          ]
        },
        {
          "metadata": {
            "tags": null
          },
          "name": "stdout",
          "output_type": "stream",
          "text": [
            "------------------------------------------------------------------\n",
            "Epoch: 15\tTime: 126.5265\tLoss: 14.9530\tLearningRate 0.000100\n",
            "------------------------------------------------------------------\n"
          ]
        },
        {
          "metadata": {
            "tags": null
          },
          "name": "stderr",
          "output_type": "stream",
          "text": [
            "100%|██████████| 350/350 [02:06<00:00,  2.77it/s]\n"
          ]
        },
        {
          "metadata": {
            "tags": null
          },
          "name": "stdout",
          "output_type": "stream",
          "text": [
            "[epoch 16 PSNR: 31.6266 --- best_epoch 12 Best_PSNR 31.6557]\n",
            "------------------------------------------------------------------\n",
            "Epoch: 16\tTime: 131.7569\tLoss: 15.3197\tLearningRate 0.000100\n",
            "------------------------------------------------------------------\n"
          ]
        },
        {
          "metadata": {
            "tags": null
          },
          "name": "stderr",
          "output_type": "stream",
          "text": [
            "100%|██████████| 350/350 [02:06<00:00,  2.76it/s]\n"
          ]
        },
        {
          "metadata": {
            "tags": null
          },
          "name": "stdout",
          "output_type": "stream",
          "text": [
            "------------------------------------------------------------------\n",
            "Epoch: 17\tTime: 126.7463\tLoss: 15.2597\tLearningRate 0.000100\n",
            "------------------------------------------------------------------\n"
          ]
        },
        {
          "metadata": {
            "tags": null
          },
          "name": "stderr",
          "output_type": "stream",
          "text": [
            "100%|██████████| 350/350 [02:06<00:00,  2.76it/s]\n"
          ]
        },
        {
          "metadata": {
            "tags": null
          },
          "name": "stdout",
          "output_type": "stream",
          "text": [
            "[epoch 18 PSNR: 31.6825 --- best_epoch 18 Best_PSNR 31.6825]\n",
            "------------------------------------------------------------------\n",
            "Epoch: 18\tTime: 132.6990\tLoss: 15.4258\tLearningRate 0.000100\n",
            "------------------------------------------------------------------\n"
          ]
        },
        {
          "metadata": {
            "tags": null
          },
          "name": "stderr",
          "output_type": "stream",
          "text": [
            "100%|██████████| 350/350 [02:06<00:00,  2.76it/s]\n"
          ]
        },
        {
          "metadata": {
            "tags": null
          },
          "name": "stdout",
          "output_type": "stream",
          "text": [
            "------------------------------------------------------------------\n",
            "Epoch: 19\tTime: 126.8662\tLoss: 15.2145\tLearningRate 0.000100\n",
            "------------------------------------------------------------------\n"
          ]
        },
        {
          "metadata": {
            "tags": null
          },
          "name": "stderr",
          "output_type": "stream",
          "text": [
            "100%|██████████| 350/350 [02:06<00:00,  2.76it/s]\n"
          ]
        },
        {
          "metadata": {
            "tags": null
          },
          "name": "stdout",
          "output_type": "stream",
          "text": [
            "[epoch 20 PSNR: 31.6955 --- best_epoch 20 Best_PSNR 31.6955]\n",
            "------------------------------------------------------------------\n",
            "Epoch: 20\tTime: 132.8497\tLoss: 15.1139\tLearningRate 0.000100\n",
            "------------------------------------------------------------------\n"
          ]
        },
        {
          "metadata": {
            "tags": null
          },
          "name": "stderr",
          "output_type": "stream",
          "text": [
            "100%|██████████| 350/350 [02:07<00:00,  2.75it/s]\n"
          ]
        },
        {
          "metadata": {
            "tags": null
          },
          "name": "stdout",
          "output_type": "stream",
          "text": [
            "------------------------------------------------------------------\n",
            "Epoch: 21\tTime: 127.1169\tLoss: 14.8627\tLearningRate 0.000100\n",
            "------------------------------------------------------------------\n"
          ]
        },
        {
          "metadata": {
            "tags": null
          },
          "name": "stderr",
          "output_type": "stream",
          "text": [
            "100%|██████████| 350/350 [02:06<00:00,  2.76it/s]\n"
          ]
        },
        {
          "metadata": {
            "tags": null
          },
          "name": "stdout",
          "output_type": "stream",
          "text": [
            "[epoch 22 PSNR: 31.6299 --- best_epoch 20 Best_PSNR 31.6955]\n",
            "------------------------------------------------------------------\n",
            "Epoch: 22\tTime: 132.1638\tLoss: 15.0623\tLearningRate 0.000100\n",
            "------------------------------------------------------------------\n"
          ]
        },
        {
          "metadata": {
            "tags": null
          },
          "name": "stderr",
          "output_type": "stream",
          "text": [
            "100%|██████████| 350/350 [02:06<00:00,  2.76it/s]\n"
          ]
        },
        {
          "metadata": {
            "tags": null
          },
          "name": "stdout",
          "output_type": "stream",
          "text": [
            "------------------------------------------------------------------\n",
            "Epoch: 23\tTime: 126.8392\tLoss: 15.1001\tLearningRate 0.000100\n",
            "------------------------------------------------------------------\n"
          ]
        },
        {
          "metadata": {
            "tags": null
          },
          "name": "stderr",
          "output_type": "stream",
          "text": [
            "100%|██████████| 350/350 [02:06<00:00,  2.77it/s]\n"
          ]
        },
        {
          "metadata": {
            "tags": null
          },
          "name": "stdout",
          "output_type": "stream",
          "text": [
            "[epoch 24 PSNR: 31.7169 --- best_epoch 24 Best_PSNR 31.7169]\n",
            "------------------------------------------------------------------\n",
            "Epoch: 24\tTime: 132.5610\tLoss: 15.2319\tLearningRate 0.000100\n",
            "------------------------------------------------------------------\n"
          ]
        },
        {
          "metadata": {
            "tags": null
          },
          "name": "stderr",
          "output_type": "stream",
          "text": [
            "100%|██████████| 350/350 [02:07<00:00,  2.75it/s]\n"
          ]
        },
        {
          "metadata": {
            "tags": null
          },
          "name": "stdout",
          "output_type": "stream",
          "text": [
            "------------------------------------------------------------------\n",
            "Epoch: 25\tTime: 127.2485\tLoss: 15.2323\tLearningRate 0.000100\n",
            "------------------------------------------------------------------\n"
          ]
        },
        {
          "metadata": {
            "tags": null
          },
          "name": "stderr",
          "output_type": "stream",
          "text": [
            "100%|██████████| 350/350 [02:06<00:00,  2.76it/s]\n"
          ]
        },
        {
          "metadata": {
            "tags": null
          },
          "name": "stdout",
          "output_type": "stream",
          "text": [
            "[epoch 26 PSNR: 31.7696 --- best_epoch 26 Best_PSNR 31.7696]\n",
            "------------------------------------------------------------------\n",
            "Epoch: 26\tTime: 133.3979\tLoss: 15.1353\tLearningRate 0.000100\n",
            "------------------------------------------------------------------\n"
          ]
        },
        {
          "metadata": {
            "tags": null
          },
          "name": "stderr",
          "output_type": "stream",
          "text": [
            "100%|██████████| 350/350 [02:07<00:00,  2.75it/s]\n"
          ]
        },
        {
          "metadata": {
            "tags": null
          },
          "name": "stdout",
          "output_type": "stream",
          "text": [
            "------------------------------------------------------------------\n",
            "Epoch: 27\tTime: 127.1459\tLoss: 14.9284\tLearningRate 0.000100\n",
            "------------------------------------------------------------------\n"
          ]
        },
        {
          "metadata": {
            "tags": null
          },
          "name": "stderr",
          "output_type": "stream",
          "text": [
            "100%|██████████| 350/350 [02:06<00:00,  2.76it/s]\n"
          ]
        },
        {
          "metadata": {
            "tags": null
          },
          "name": "stdout",
          "output_type": "stream",
          "text": [
            "[epoch 28 PSNR: 31.7567 --- best_epoch 26 Best_PSNR 31.7696]\n",
            "------------------------------------------------------------------\n",
            "Epoch: 28\tTime: 131.9743\tLoss: 15.0860\tLearningRate 0.000100\n",
            "------------------------------------------------------------------\n"
          ]
        },
        {
          "metadata": {
            "tags": null
          },
          "name": "stderr",
          "output_type": "stream",
          "text": [
            "100%|██████████| 350/350 [02:06<00:00,  2.76it/s]\n"
          ]
        },
        {
          "metadata": {
            "tags": null
          },
          "name": "stdout",
          "output_type": "stream",
          "text": [
            "------------------------------------------------------------------\n",
            "Epoch: 29\tTime: 126.7847\tLoss: 15.3787\tLearningRate 0.000100\n",
            "------------------------------------------------------------------\n"
          ]
        },
        {
          "metadata": {
            "tags": null
          },
          "name": "stderr",
          "output_type": "stream",
          "text": [
            "100%|██████████| 350/350 [02:06<00:00,  2.77it/s]\n"
          ]
        },
        {
          "metadata": {
            "tags": null
          },
          "name": "stdout",
          "output_type": "stream",
          "text": [
            "[epoch 30 PSNR: 31.7128 --- best_epoch 26 Best_PSNR 31.7696]\n",
            "------------------------------------------------------------------\n",
            "Epoch: 30\tTime: 131.6382\tLoss: 15.0230\tLearningRate 0.000100\n",
            "------------------------------------------------------------------\n"
          ]
        },
        {
          "metadata": {
            "tags": null
          },
          "name": "stderr",
          "output_type": "stream",
          "text": [
            "100%|██████████| 350/350 [02:06<00:00,  2.76it/s]\n"
          ]
        },
        {
          "metadata": {
            "tags": null
          },
          "name": "stdout",
          "output_type": "stream",
          "text": [
            "------------------------------------------------------------------\n",
            "Epoch: 31\tTime: 126.6782\tLoss: 14.9919\tLearningRate 0.000100\n",
            "------------------------------------------------------------------\n"
          ]
        },
        {
          "metadata": {
            "tags": null
          },
          "name": "stderr",
          "output_type": "stream",
          "text": [
            "100%|██████████| 350/350 [02:06<00:00,  2.77it/s]\n"
          ]
        },
        {
          "metadata": {
            "tags": null
          },
          "name": "stdout",
          "output_type": "stream",
          "text": [
            "[epoch 32 PSNR: 31.7719 --- best_epoch 32 Best_PSNR 31.7719]\n",
            "------------------------------------------------------------------\n",
            "Epoch: 32\tTime: 133.2977\tLoss: 15.0495\tLearningRate 0.000100\n",
            "------------------------------------------------------------------\n"
          ]
        },
        {
          "metadata": {
            "tags": null
          },
          "name": "stderr",
          "output_type": "stream",
          "text": [
            "100%|██████████| 350/350 [02:06<00:00,  2.76it/s]\n"
          ]
        },
        {
          "metadata": {
            "tags": null
          },
          "name": "stdout",
          "output_type": "stream",
          "text": [
            "------------------------------------------------------------------\n",
            "Epoch: 33\tTime: 126.8617\tLoss: 14.9282\tLearningRate 0.000100\n",
            "------------------------------------------------------------------\n"
          ]
        },
        {
          "metadata": {
            "tags": null
          },
          "name": "stderr",
          "output_type": "stream",
          "text": [
            "100%|██████████| 350/350 [02:06<00:00,  2.76it/s]\n"
          ]
        },
        {
          "metadata": {
            "tags": null
          },
          "name": "stdout",
          "output_type": "stream",
          "text": [
            "[epoch 34 PSNR: 31.7420 --- best_epoch 32 Best_PSNR 31.7719]\n",
            "------------------------------------------------------------------\n",
            "Epoch: 34\tTime: 131.8946\tLoss: 14.9025\tLearningRate 0.000100\n",
            "------------------------------------------------------------------\n"
          ]
        },
        {
          "metadata": {
            "tags": null
          },
          "name": "stderr",
          "output_type": "stream",
          "text": [
            "100%|██████████| 350/350 [02:06<00:00,  2.76it/s]\n"
          ]
        },
        {
          "metadata": {
            "tags": null
          },
          "name": "stdout",
          "output_type": "stream",
          "text": [
            "------------------------------------------------------------------\n",
            "Epoch: 35\tTime: 126.7289\tLoss: 15.2673\tLearningRate 0.000100\n",
            "------------------------------------------------------------------\n"
          ]
        },
        {
          "metadata": {
            "tags": null
          },
          "name": "stderr",
          "output_type": "stream",
          "text": [
            "100%|██████████| 350/350 [02:06<00:00,  2.77it/s]\n"
          ]
        },
        {
          "metadata": {
            "tags": null
          },
          "name": "stdout",
          "output_type": "stream",
          "text": [
            "[epoch 36 PSNR: 31.8063 --- best_epoch 36 Best_PSNR 31.8063]\n",
            "------------------------------------------------------------------\n",
            "Epoch: 36\tTime: 132.6156\tLoss: 14.9326\tLearningRate 0.000100\n",
            "------------------------------------------------------------------\n"
          ]
        },
        {
          "metadata": {
            "tags": null
          },
          "name": "stderr",
          "output_type": "stream",
          "text": [
            "100%|██████████| 350/350 [02:06<00:00,  2.77it/s]\n"
          ]
        },
        {
          "metadata": {
            "tags": null
          },
          "name": "stdout",
          "output_type": "stream",
          "text": [
            "------------------------------------------------------------------\n",
            "Epoch: 37\tTime: 126.5459\tLoss: 14.7681\tLearningRate 0.000100\n",
            "------------------------------------------------------------------\n"
          ]
        },
        {
          "metadata": {
            "tags": null
          },
          "name": "stderr",
          "output_type": "stream",
          "text": [
            "100%|██████████| 350/350 [02:06<00:00,  2.77it/s]\n"
          ]
        },
        {
          "metadata": {
            "tags": null
          },
          "name": "stdout",
          "output_type": "stream",
          "text": [
            "[epoch 38 PSNR: 31.7947 --- best_epoch 36 Best_PSNR 31.8063]\n",
            "------------------------------------------------------------------\n",
            "Epoch: 38\tTime: 131.6829\tLoss: 15.1234\tLearningRate 0.000100\n",
            "------------------------------------------------------------------\n"
          ]
        },
        {
          "metadata": {
            "tags": null
          },
          "name": "stderr",
          "output_type": "stream",
          "text": [
            "100%|██████████| 350/350 [02:06<00:00,  2.77it/s]\n"
          ]
        },
        {
          "metadata": {
            "tags": null
          },
          "name": "stdout",
          "output_type": "stream",
          "text": [
            "------------------------------------------------------------------\n",
            "Epoch: 39\tTime: 126.4559\tLoss: 14.8265\tLearningRate 0.000100\n",
            "------------------------------------------------------------------\n"
          ]
        },
        {
          "metadata": {
            "tags": null
          },
          "name": "stderr",
          "output_type": "stream",
          "text": [
            "100%|██████████| 350/350 [02:06<00:00,  2.76it/s]\n"
          ]
        },
        {
          "metadata": {
            "tags": null
          },
          "name": "stdout",
          "output_type": "stream",
          "text": [
            "[epoch 40 PSNR: 31.7846 --- best_epoch 36 Best_PSNR 31.8063]\n",
            "------------------------------------------------------------------\n",
            "Epoch: 40\tTime: 131.9891\tLoss: 15.0601\tLearningRate 0.000100\n",
            "------------------------------------------------------------------\n"
          ]
        },
        {
          "metadata": {
            "tags": null
          },
          "name": "stderr",
          "output_type": "stream",
          "text": [
            "100%|██████████| 350/350 [02:06<00:00,  2.76it/s]\n"
          ]
        },
        {
          "metadata": {
            "tags": null
          },
          "name": "stdout",
          "output_type": "stream",
          "text": [
            "------------------------------------------------------------------\n",
            "Epoch: 41\tTime: 126.6231\tLoss: 14.9315\tLearningRate 0.000100\n",
            "------------------------------------------------------------------\n"
          ]
        },
        {
          "metadata": {
            "tags": null
          },
          "name": "stderr",
          "output_type": "stream",
          "text": [
            "100%|██████████| 350/350 [02:06<00:00,  2.76it/s]\n"
          ]
        },
        {
          "metadata": {
            "tags": null
          },
          "name": "stdout",
          "output_type": "stream",
          "text": [
            "[epoch 42 PSNR: 31.8205 --- best_epoch 42 Best_PSNR 31.8205]\n",
            "------------------------------------------------------------------\n",
            "Epoch: 42\tTime: 132.6469\tLoss: 14.9882\tLearningRate 0.000100\n",
            "------------------------------------------------------------------\n"
          ]
        },
        {
          "metadata": {
            "tags": null
          },
          "name": "stderr",
          "output_type": "stream",
          "text": [
            "100%|██████████| 350/350 [02:06<00:00,  2.76it/s]\n"
          ]
        },
        {
          "metadata": {
            "tags": null
          },
          "name": "stdout",
          "output_type": "stream",
          "text": [
            "------------------------------------------------------------------\n",
            "Epoch: 43\tTime: 126.6264\tLoss: 14.7818\tLearningRate 0.000100\n",
            "------------------------------------------------------------------\n"
          ]
        },
        {
          "metadata": {
            "tags": null
          },
          "name": "stderr",
          "output_type": "stream",
          "text": [
            "100%|██████████| 350/350 [02:06<00:00,  2.77it/s]\n"
          ]
        },
        {
          "metadata": {
            "tags": null
          },
          "name": "stdout",
          "output_type": "stream",
          "text": [
            "[epoch 44 PSNR: 31.7869 --- best_epoch 42 Best_PSNR 31.8205]\n",
            "------------------------------------------------------------------\n",
            "Epoch: 44\tTime: 131.5569\tLoss: 14.8433\tLearningRate 0.000100\n",
            "------------------------------------------------------------------\n"
          ]
        },
        {
          "metadata": {
            "tags": null
          },
          "name": "stderr",
          "output_type": "stream",
          "text": [
            "100%|██████████| 350/350 [02:06<00:00,  2.76it/s]\n"
          ]
        },
        {
          "metadata": {
            "tags": null
          },
          "name": "stdout",
          "output_type": "stream",
          "text": [
            "------------------------------------------------------------------\n",
            "Epoch: 45\tTime: 126.9182\tLoss: 14.9760\tLearningRate 0.000100\n",
            "------------------------------------------------------------------\n"
          ]
        },
        {
          "metadata": {
            "tags": null
          },
          "name": "stderr",
          "output_type": "stream",
          "text": [
            "100%|██████████| 350/350 [02:06<00:00,  2.77it/s]\n"
          ]
        },
        {
          "metadata": {
            "tags": null
          },
          "name": "stdout",
          "output_type": "stream",
          "text": [
            "[epoch 46 PSNR: 31.7509 --- best_epoch 42 Best_PSNR 31.8205]\n",
            "------------------------------------------------------------------\n",
            "Epoch: 46\tTime: 131.6124\tLoss: 14.9046\tLearningRate 0.000100\n",
            "------------------------------------------------------------------\n"
          ]
        },
        {
          "metadata": {
            "tags": null
          },
          "name": "stderr",
          "output_type": "stream",
          "text": [
            "100%|██████████| 350/350 [02:06<00:00,  2.76it/s]\n"
          ]
        },
        {
          "metadata": {
            "tags": null
          },
          "name": "stdout",
          "output_type": "stream",
          "text": [
            "------------------------------------------------------------------\n",
            "Epoch: 47\tTime: 126.9091\tLoss: 14.9073\tLearningRate 0.000100\n",
            "------------------------------------------------------------------\n"
          ]
        },
        {
          "metadata": {
            "tags": null
          },
          "name": "stderr",
          "output_type": "stream",
          "text": [
            "100%|██████████| 350/350 [02:06<00:00,  2.76it/s]\n"
          ]
        },
        {
          "metadata": {
            "tags": null
          },
          "name": "stdout",
          "output_type": "stream",
          "text": [
            "[epoch 48 PSNR: 31.8407 --- best_epoch 48 Best_PSNR 31.8407]\n",
            "------------------------------------------------------------------\n",
            "Epoch: 48\tTime: 132.6344\tLoss: 14.8684\tLearningRate 0.000100\n",
            "------------------------------------------------------------------\n"
          ]
        },
        {
          "metadata": {
            "tags": null
          },
          "name": "stderr",
          "output_type": "stream",
          "text": [
            "100%|██████████| 350/350 [02:06<00:00,  2.77it/s]\n"
          ]
        },
        {
          "metadata": {
            "tags": null
          },
          "name": "stdout",
          "output_type": "stream",
          "text": [
            "------------------------------------------------------------------\n",
            "Epoch: 49\tTime: 126.4721\tLoss: 15.2528\tLearningRate 0.000100\n",
            "------------------------------------------------------------------\n"
          ]
        },
        {
          "metadata": {
            "tags": null
          },
          "name": "stderr",
          "output_type": "stream",
          "text": [
            "100%|██████████| 350/350 [02:06<00:00,  2.77it/s]\n"
          ]
        },
        {
          "metadata": {
            "tags": null
          },
          "name": "stdout",
          "output_type": "stream",
          "text": [
            "[epoch 50 PSNR: 31.8172 --- best_epoch 48 Best_PSNR 31.8407]\n",
            "------------------------------------------------------------------\n",
            "Epoch: 50\tTime: 131.6649\tLoss: 14.9485\tLearningRate 0.000100\n",
            "------------------------------------------------------------------\n"
          ]
        },
        {
          "metadata": {
            "tags": null
          },
          "name": "stderr",
          "output_type": "stream",
          "text": [
            "100%|██████████| 350/350 [02:06<00:00,  2.76it/s]\n"
          ]
        },
        {
          "metadata": {
            "tags": null
          },
          "name": "stdout",
          "output_type": "stream",
          "text": [
            "------------------------------------------------------------------\n",
            "Epoch: 51\tTime: 126.7063\tLoss: 14.8659\tLearningRate 0.000100\n",
            "------------------------------------------------------------------\n"
          ]
        },
        {
          "metadata": {
            "tags": null
          },
          "name": "stderr",
          "output_type": "stream",
          "text": [
            "100%|██████████| 350/350 [02:06<00:00,  2.76it/s]\n"
          ]
        },
        {
          "metadata": {
            "tags": null
          },
          "name": "stdout",
          "output_type": "stream",
          "text": [
            "[epoch 52 PSNR: 31.8309 --- best_epoch 48 Best_PSNR 31.8407]\n",
            "------------------------------------------------------------------\n",
            "Epoch: 52\tTime: 131.8594\tLoss: 14.7697\tLearningRate 0.000100\n",
            "------------------------------------------------------------------\n"
          ]
        },
        {
          "metadata": {
            "tags": null
          },
          "name": "stderr",
          "output_type": "stream",
          "text": [
            "100%|██████████| 350/350 [02:06<00:00,  2.76it/s]\n"
          ]
        },
        {
          "metadata": {
            "tags": null
          },
          "name": "stdout",
          "output_type": "stream",
          "text": [
            "------------------------------------------------------------------\n",
            "Epoch: 53\tTime: 126.5959\tLoss: 14.9187\tLearningRate 0.000100\n",
            "------------------------------------------------------------------\n"
          ]
        },
        {
          "metadata": {
            "tags": null
          },
          "name": "stderr",
          "output_type": "stream",
          "text": [
            "100%|██████████| 350/350 [02:06<00:00,  2.76it/s]\n"
          ]
        },
        {
          "metadata": {
            "tags": null
          },
          "name": "stdout",
          "output_type": "stream",
          "text": [
            "[epoch 54 PSNR: 31.8533 --- best_epoch 54 Best_PSNR 31.8533]\n",
            "------------------------------------------------------------------\n",
            "Epoch: 54\tTime: 132.9419\tLoss: 14.5198\tLearningRate 0.000100\n",
            "------------------------------------------------------------------\n"
          ]
        },
        {
          "metadata": {
            "tags": null
          },
          "name": "stderr",
          "output_type": "stream",
          "text": [
            "100%|██████████| 350/350 [02:06<00:00,  2.76it/s]\n"
          ]
        },
        {
          "metadata": {
            "tags": null
          },
          "name": "stdout",
          "output_type": "stream",
          "text": [
            "------------------------------------------------------------------\n",
            "Epoch: 55\tTime: 126.8371\tLoss: 14.7064\tLearningRate 0.000100\n",
            "------------------------------------------------------------------\n"
          ]
        },
        {
          "metadata": {
            "tags": null
          },
          "name": "stderr",
          "output_type": "stream",
          "text": [
            "100%|██████████| 350/350 [02:06<00:00,  2.76it/s]\n"
          ]
        },
        {
          "metadata": {
            "tags": null
          },
          "name": "stdout",
          "output_type": "stream",
          "text": [
            "[epoch 56 PSNR: 31.8520 --- best_epoch 54 Best_PSNR 31.8533]\n",
            "------------------------------------------------------------------\n",
            "Epoch: 56\tTime: 131.9498\tLoss: 14.5487\tLearningRate 0.000100\n",
            "------------------------------------------------------------------\n"
          ]
        },
        {
          "metadata": {
            "tags": null
          },
          "name": "stderr",
          "output_type": "stream",
          "text": [
            "100%|██████████| 350/350 [02:06<00:00,  2.76it/s]\n"
          ]
        },
        {
          "metadata": {
            "tags": null
          },
          "name": "stdout",
          "output_type": "stream",
          "text": [
            "------------------------------------------------------------------\n",
            "Epoch: 57\tTime: 126.8049\tLoss: 14.7358\tLearningRate 0.000100\n",
            "------------------------------------------------------------------\n"
          ]
        },
        {
          "metadata": {
            "tags": null
          },
          "name": "stderr",
          "output_type": "stream",
          "text": [
            "100%|██████████| 350/350 [02:06<00:00,  2.76it/s]\n"
          ]
        },
        {
          "metadata": {
            "tags": null
          },
          "name": "stdout",
          "output_type": "stream",
          "text": [
            "[epoch 58 PSNR: 31.8325 --- best_epoch 54 Best_PSNR 31.8533]\n",
            "------------------------------------------------------------------\n",
            "Epoch: 58\tTime: 131.9964\tLoss: 14.5770\tLearningRate 0.000100\n",
            "------------------------------------------------------------------\n"
          ]
        },
        {
          "metadata": {
            "tags": null
          },
          "name": "stderr",
          "output_type": "stream",
          "text": [
            "100%|██████████| 350/350 [02:07<00:00,  2.76it/s]\n"
          ]
        },
        {
          "metadata": {
            "tags": null
          },
          "name": "stdout",
          "output_type": "stream",
          "text": [
            "------------------------------------------------------------------\n",
            "Epoch: 59\tTime: 127.0378\tLoss: 14.7724\tLearningRate 0.000100\n",
            "------------------------------------------------------------------\n"
          ]
        },
        {
          "metadata": {
            "tags": null
          },
          "name": "stderr",
          "output_type": "stream",
          "text": [
            "100%|██████████| 350/350 [02:06<00:00,  2.76it/s]\n"
          ]
        },
        {
          "metadata": {
            "tags": null
          },
          "name": "stdout",
          "output_type": "stream",
          "text": [
            "[epoch 60 PSNR: 31.8679 --- best_epoch 60 Best_PSNR 31.8679]\n",
            "------------------------------------------------------------------\n",
            "Epoch: 60\tTime: 132.7148\tLoss: 14.6756\tLearningRate 0.000100\n",
            "------------------------------------------------------------------\n"
          ]
        },
        {
          "metadata": {
            "tags": null
          },
          "name": "stderr",
          "output_type": "stream",
          "text": [
            "100%|██████████| 350/350 [02:06<00:00,  2.76it/s]\n"
          ]
        },
        {
          "metadata": {
            "tags": null
          },
          "name": "stdout",
          "output_type": "stream",
          "text": [
            "------------------------------------------------------------------\n",
            "Epoch: 61\tTime: 126.7051\tLoss: 14.9309\tLearningRate 0.000100\n",
            "------------------------------------------------------------------\n"
          ]
        },
        {
          "metadata": {
            "tags": null
          },
          "name": "stderr",
          "output_type": "stream",
          "text": [
            "100%|██████████| 350/350 [02:06<00:00,  2.76it/s]\n"
          ]
        },
        {
          "metadata": {
            "tags": null
          },
          "name": "stdout",
          "output_type": "stream",
          "text": [
            "[epoch 62 PSNR: 31.8323 --- best_epoch 60 Best_PSNR 31.8679]\n",
            "------------------------------------------------------------------\n",
            "Epoch: 62\tTime: 131.9340\tLoss: 14.8463\tLearningRate 0.000100\n",
            "------------------------------------------------------------------\n"
          ]
        },
        {
          "metadata": {
            "tags": null
          },
          "name": "stderr",
          "output_type": "stream",
          "text": [
            "100%|██████████| 350/350 [02:06<00:00,  2.77it/s]\n"
          ]
        },
        {
          "metadata": {
            "tags": null
          },
          "name": "stdout",
          "output_type": "stream",
          "text": [
            "------------------------------------------------------------------\n",
            "Epoch: 63\tTime: 126.5740\tLoss: 14.9112\tLearningRate 0.000100\n",
            "------------------------------------------------------------------\n"
          ]
        },
        {
          "metadata": {
            "tags": null
          },
          "name": "stderr",
          "output_type": "stream",
          "text": [
            "100%|██████████| 350/350 [02:06<00:00,  2.77it/s]\n"
          ]
        },
        {
          "metadata": {
            "tags": null
          },
          "name": "stdout",
          "output_type": "stream",
          "text": [
            "[epoch 64 PSNR: 31.8375 --- best_epoch 60 Best_PSNR 31.8679]\n",
            "------------------------------------------------------------------\n",
            "Epoch: 64\tTime: 131.6997\tLoss: 14.5033\tLearningRate 0.000100\n",
            "------------------------------------------------------------------\n"
          ]
        },
        {
          "metadata": {
            "tags": null
          },
          "name": "stderr",
          "output_type": "stream",
          "text": [
            "100%|██████████| 350/350 [02:06<00:00,  2.76it/s]\n"
          ]
        },
        {
          "metadata": {
            "tags": null
          },
          "name": "stdout",
          "output_type": "stream",
          "text": [
            "------------------------------------------------------------------\n",
            "Epoch: 65\tTime: 126.6050\tLoss: 14.8902\tLearningRate 0.000100\n",
            "------------------------------------------------------------------\n"
          ]
        },
        {
          "metadata": {
            "tags": null
          },
          "name": "stderr",
          "output_type": "stream",
          "text": [
            "100%|██████████| 350/350 [02:06<00:00,  2.77it/s]\n"
          ]
        },
        {
          "metadata": {
            "tags": null
          },
          "name": "stdout",
          "output_type": "stream",
          "text": [
            "[epoch 66 PSNR: 31.8531 --- best_epoch 60 Best_PSNR 31.8679]\n",
            "------------------------------------------------------------------\n",
            "Epoch: 66\tTime: 131.7117\tLoss: 14.3994\tLearningRate 0.000100\n",
            "------------------------------------------------------------------\n"
          ]
        },
        {
          "metadata": {
            "tags": null
          },
          "name": "stderr",
          "output_type": "stream",
          "text": [
            "100%|██████████| 350/350 [02:06<00:00,  2.77it/s]\n"
          ]
        },
        {
          "metadata": {
            "tags": null
          },
          "name": "stdout",
          "output_type": "stream",
          "text": [
            "------------------------------------------------------------------\n",
            "Epoch: 67\tTime: 126.5868\tLoss: 14.7739\tLearningRate 0.000100\n",
            "------------------------------------------------------------------\n"
          ]
        },
        {
          "metadata": {
            "tags": null
          },
          "name": "stderr",
          "output_type": "stream",
          "text": [
            "100%|██████████| 350/350 [02:06<00:00,  2.76it/s]\n"
          ]
        },
        {
          "metadata": {
            "tags": null
          },
          "name": "stdout",
          "output_type": "stream",
          "text": [
            "[epoch 68 PSNR: 31.8694 --- best_epoch 68 Best_PSNR 31.8694]\n",
            "------------------------------------------------------------------\n",
            "Epoch: 68\tTime: 132.6584\tLoss: 14.8924\tLearningRate 0.000100\n",
            "------------------------------------------------------------------\n"
          ]
        },
        {
          "metadata": {
            "tags": null
          },
          "name": "stderr",
          "output_type": "stream",
          "text": [
            "100%|██████████| 350/350 [02:06<00:00,  2.76it/s]\n"
          ]
        },
        {
          "metadata": {
            "tags": null
          },
          "name": "stdout",
          "output_type": "stream",
          "text": [
            "------------------------------------------------------------------\n",
            "Epoch: 69\tTime: 126.7816\tLoss: 14.7982\tLearningRate 0.000100\n",
            "------------------------------------------------------------------\n"
          ]
        },
        {
          "metadata": {
            "tags": null
          },
          "name": "stderr",
          "output_type": "stream",
          "text": [
            "100%|██████████| 350/350 [02:06<00:00,  2.77it/s]\n"
          ]
        },
        {
          "metadata": {
            "tags": null
          },
          "name": "stdout",
          "output_type": "stream",
          "text": [
            "[epoch 70 PSNR: 31.8600 --- best_epoch 68 Best_PSNR 31.8694]\n",
            "------------------------------------------------------------------\n",
            "Epoch: 70\tTime: 131.6875\tLoss: 14.8306\tLearningRate 0.000100\n",
            "------------------------------------------------------------------\n"
          ]
        },
        {
          "metadata": {
            "tags": null
          },
          "name": "stderr",
          "output_type": "stream",
          "text": [
            "100%|██████████| 350/350 [02:06<00:00,  2.77it/s]\n"
          ]
        },
        {
          "metadata": {
            "tags": null
          },
          "name": "stdout",
          "output_type": "stream",
          "text": [
            "------------------------------------------------------------------\n",
            "Epoch: 71\tTime: 126.5902\tLoss: 14.7068\tLearningRate 0.000100\n",
            "------------------------------------------------------------------\n"
          ]
        },
        {
          "metadata": {
            "tags": null
          },
          "name": "stderr",
          "output_type": "stream",
          "text": [
            "100%|██████████| 350/350 [02:06<00:00,  2.76it/s]\n"
          ]
        },
        {
          "metadata": {
            "tags": null
          },
          "name": "stdout",
          "output_type": "stream",
          "text": [
            "[epoch 72 PSNR: 31.8507 --- best_epoch 68 Best_PSNR 31.8694]\n",
            "------------------------------------------------------------------\n",
            "Epoch: 72\tTime: 131.8510\tLoss: 14.8019\tLearningRate 0.000100\n",
            "------------------------------------------------------------------\n"
          ]
        },
        {
          "metadata": {
            "tags": null
          },
          "name": "stderr",
          "output_type": "stream",
          "text": [
            "100%|██████████| 350/350 [02:06<00:00,  2.77it/s]\n"
          ]
        },
        {
          "metadata": {
            "tags": null
          },
          "name": "stdout",
          "output_type": "stream",
          "text": [
            "------------------------------------------------------------------\n",
            "Epoch: 73\tTime: 126.5563\tLoss: 14.8409\tLearningRate 0.000100\n",
            "------------------------------------------------------------------\n"
          ]
        },
        {
          "metadata": {
            "tags": null
          },
          "name": "stderr",
          "output_type": "stream",
          "text": [
            "100%|██████████| 350/350 [02:06<00:00,  2.77it/s]\n"
          ]
        },
        {
          "metadata": {
            "tags": null
          },
          "name": "stdout",
          "output_type": "stream",
          "text": [
            "[epoch 74 PSNR: 31.8427 --- best_epoch 68 Best_PSNR 31.8694]\n",
            "------------------------------------------------------------------\n",
            "Epoch: 74\tTime: 131.6321\tLoss: 14.3352\tLearningRate 0.000100\n",
            "------------------------------------------------------------------\n"
          ]
        },
        {
          "metadata": {
            "tags": null
          },
          "name": "stderr",
          "output_type": "stream",
          "text": [
            "100%|██████████| 350/350 [02:06<00:00,  2.76it/s]\n"
          ]
        },
        {
          "metadata": {
            "tags": null
          },
          "name": "stdout",
          "output_type": "stream",
          "text": [
            "------------------------------------------------------------------\n",
            "Epoch: 75\tTime: 126.6157\tLoss: 14.7904\tLearningRate 0.000100\n",
            "------------------------------------------------------------------\n"
          ]
        },
        {
          "metadata": {
            "tags": null
          },
          "name": "stderr",
          "output_type": "stream",
          "text": [
            "100%|██████████| 350/350 [02:06<00:00,  2.77it/s]\n"
          ]
        },
        {
          "metadata": {
            "tags": null
          },
          "name": "stdout",
          "output_type": "stream",
          "text": [
            "[epoch 76 PSNR: 31.8695 --- best_epoch 76 Best_PSNR 31.8695]\n",
            "------------------------------------------------------------------\n",
            "Epoch: 76\tTime: 132.4388\tLoss: 14.8449\tLearningRate 0.000100\n",
            "------------------------------------------------------------------\n"
          ]
        },
        {
          "metadata": {
            "tags": null
          },
          "name": "stderr",
          "output_type": "stream",
          "text": [
            "100%|██████████| 350/350 [02:06<00:00,  2.77it/s]\n"
          ]
        },
        {
          "metadata": {
            "tags": null
          },
          "name": "stdout",
          "output_type": "stream",
          "text": [
            "------------------------------------------------------------------\n",
            "Epoch: 77\tTime: 126.5734\tLoss: 14.5369\tLearningRate 0.000100\n",
            "------------------------------------------------------------------\n"
          ]
        },
        {
          "metadata": {
            "tags": null
          },
          "name": "stderr",
          "output_type": "stream",
          "text": [
            "100%|██████████| 350/350 [02:06<00:00,  2.77it/s]\n"
          ]
        },
        {
          "metadata": {
            "tags": null
          },
          "name": "stdout",
          "output_type": "stream",
          "text": [
            "[epoch 78 PSNR: 31.8812 --- best_epoch 78 Best_PSNR 31.8812]\n",
            "------------------------------------------------------------------\n",
            "Epoch: 78\tTime: 132.4473\tLoss: 14.5930\tLearningRate 0.000100\n",
            "------------------------------------------------------------------\n"
          ]
        },
        {
          "metadata": {
            "tags": null
          },
          "name": "stderr",
          "output_type": "stream",
          "text": [
            "100%|██████████| 350/350 [02:06<00:00,  2.77it/s]\n"
          ]
        },
        {
          "metadata": {
            "tags": null
          },
          "name": "stdout",
          "output_type": "stream",
          "text": [
            "------------------------------------------------------------------\n",
            "Epoch: 79\tTime: 126.4637\tLoss: 14.8887\tLearningRate 0.000100\n",
            "------------------------------------------------------------------\n"
          ]
        },
        {
          "metadata": {
            "tags": null
          },
          "name": "stderr",
          "output_type": "stream",
          "text": [
            "100%|██████████| 350/350 [02:06<00:00,  2.76it/s]\n"
          ]
        },
        {
          "metadata": {
            "tags": null
          },
          "name": "stdout",
          "output_type": "stream",
          "text": [
            "[epoch 80 PSNR: 31.8717 --- best_epoch 78 Best_PSNR 31.8812]\n",
            "------------------------------------------------------------------\n",
            "Epoch: 80\tTime: 131.8051\tLoss: 14.6348\tLearningRate 0.000100\n",
            "------------------------------------------------------------------\n"
          ]
        },
        {
          "metadata": {
            "tags": null
          },
          "name": "stderr",
          "output_type": "stream",
          "text": [
            "100%|██████████| 350/350 [02:06<00:00,  2.76it/s]\n"
          ]
        },
        {
          "metadata": {
            "tags": null
          },
          "name": "stdout",
          "output_type": "stream",
          "text": [
            "------------------------------------------------------------------\n",
            "Epoch: 81\tTime: 126.6513\tLoss: 14.8415\tLearningRate 0.000100\n",
            "------------------------------------------------------------------\n"
          ]
        },
        {
          "metadata": {
            "tags": null
          },
          "name": "stderr",
          "output_type": "stream",
          "text": [
            "100%|██████████| 350/350 [02:06<00:00,  2.77it/s]\n"
          ]
        },
        {
          "metadata": {
            "tags": null
          },
          "name": "stdout",
          "output_type": "stream",
          "text": [
            "[epoch 82 PSNR: 31.8550 --- best_epoch 78 Best_PSNR 31.8812]\n",
            "------------------------------------------------------------------\n",
            "Epoch: 82\tTime: 131.6947\tLoss: 14.7058\tLearningRate 0.000100\n",
            "------------------------------------------------------------------\n"
          ]
        },
        {
          "metadata": {
            "tags": null
          },
          "name": "stderr",
          "output_type": "stream",
          "text": [
            "100%|██████████| 350/350 [02:06<00:00,  2.77it/s]\n"
          ]
        },
        {
          "metadata": {
            "tags": null
          },
          "name": "stdout",
          "output_type": "stream",
          "text": [
            "------------------------------------------------------------------\n",
            "Epoch: 83\tTime: 126.4836\tLoss: 14.5942\tLearningRate 0.000100\n",
            "------------------------------------------------------------------\n"
          ]
        },
        {
          "metadata": {
            "tags": null
          },
          "name": "stderr",
          "output_type": "stream",
          "text": [
            "100%|██████████| 350/350 [02:06<00:00,  2.76it/s]\n"
          ]
        },
        {
          "metadata": {
            "tags": null
          },
          "name": "stdout",
          "output_type": "stream",
          "text": [
            "[epoch 84 PSNR: 31.8788 --- best_epoch 78 Best_PSNR 31.8812]\n",
            "------------------------------------------------------------------\n",
            "Epoch: 84\tTime: 132.0633\tLoss: 14.5657\tLearningRate 0.000100\n",
            "------------------------------------------------------------------\n"
          ]
        },
        {
          "metadata": {
            "tags": null
          },
          "name": "stderr",
          "output_type": "stream",
          "text": [
            "100%|██████████| 350/350 [02:06<00:00,  2.77it/s]\n"
          ]
        },
        {
          "metadata": {
            "tags": null
          },
          "name": "stdout",
          "output_type": "stream",
          "text": [
            "------------------------------------------------------------------\n",
            "Epoch: 85\tTime: 126.2603\tLoss: 14.8774\tLearningRate 0.000100\n",
            "------------------------------------------------------------------\n"
          ]
        },
        {
          "metadata": {
            "tags": null
          },
          "name": "stderr",
          "output_type": "stream",
          "text": [
            "100%|██████████| 350/350 [02:06<00:00,  2.78it/s]\n"
          ]
        },
        {
          "metadata": {
            "tags": null
          },
          "name": "stdout",
          "output_type": "stream",
          "text": [
            "[epoch 86 PSNR: 31.8942 --- best_epoch 86 Best_PSNR 31.8942]\n",
            "------------------------------------------------------------------\n",
            "Epoch: 86\tTime: 132.1223\tLoss: 14.7488\tLearningRate 0.000100\n",
            "------------------------------------------------------------------\n"
          ]
        },
        {
          "metadata": {
            "tags": null
          },
          "name": "stderr",
          "output_type": "stream",
          "text": [
            "100%|██████████| 350/350 [02:06<00:00,  2.77it/s]\n"
          ]
        },
        {
          "metadata": {
            "tags": null
          },
          "name": "stdout",
          "output_type": "stream",
          "text": [
            "------------------------------------------------------------------\n",
            "Epoch: 87\tTime: 126.4584\tLoss: 14.3791\tLearningRate 0.000100\n",
            "------------------------------------------------------------------\n"
          ]
        },
        {
          "metadata": {
            "tags": null
          },
          "name": "stderr",
          "output_type": "stream",
          "text": [
            "100%|██████████| 350/350 [02:06<00:00,  2.77it/s]\n"
          ]
        },
        {
          "metadata": {
            "tags": null
          },
          "name": "stdout",
          "output_type": "stream",
          "text": [
            "[epoch 88 PSNR: 31.9110 --- best_epoch 88 Best_PSNR 31.9110]\n",
            "------------------------------------------------------------------\n",
            "Epoch: 88\tTime: 132.4503\tLoss: 14.7300\tLearningRate 0.000100\n",
            "------------------------------------------------------------------\n"
          ]
        },
        {
          "metadata": {
            "tags": null
          },
          "name": "stderr",
          "output_type": "stream",
          "text": [
            "100%|██████████| 350/350 [02:06<00:00,  2.77it/s]\n"
          ]
        },
        {
          "metadata": {
            "tags": null
          },
          "name": "stdout",
          "output_type": "stream",
          "text": [
            "------------------------------------------------------------------\n",
            "Epoch: 89\tTime: 126.5538\tLoss: 14.4644\tLearningRate 0.000100\n",
            "------------------------------------------------------------------\n"
          ]
        },
        {
          "metadata": {
            "tags": null
          },
          "name": "stderr",
          "output_type": "stream",
          "text": [
            "100%|██████████| 350/350 [02:06<00:00,  2.77it/s]\n"
          ]
        },
        {
          "metadata": {
            "tags": null
          },
          "name": "stdout",
          "output_type": "stream",
          "text": [
            "[epoch 90 PSNR: 31.9077 --- best_epoch 88 Best_PSNR 31.9110]\n",
            "------------------------------------------------------------------\n",
            "Epoch: 90\tTime: 131.5104\tLoss: 14.6959\tLearningRate 0.000100\n",
            "------------------------------------------------------------------\n"
          ]
        },
        {
          "metadata": {
            "tags": null
          },
          "name": "stderr",
          "output_type": "stream",
          "text": [
            "100%|██████████| 350/350 [02:06<00:00,  2.77it/s]\n"
          ]
        },
        {
          "metadata": {
            "tags": null
          },
          "name": "stdout",
          "output_type": "stream",
          "text": [
            "------------------------------------------------------------------\n",
            "Epoch: 91\tTime: 126.1806\tLoss: 14.5967\tLearningRate 0.000100\n",
            "------------------------------------------------------------------\n"
          ]
        },
        {
          "metadata": {
            "tags": null
          },
          "name": "stderr",
          "output_type": "stream",
          "text": [
            "100%|██████████| 350/350 [02:06<00:00,  2.77it/s]\n"
          ]
        },
        {
          "metadata": {
            "tags": null
          },
          "name": "stdout",
          "output_type": "stream",
          "text": [
            "[epoch 92 PSNR: 31.9058 --- best_epoch 88 Best_PSNR 31.9110]\n",
            "------------------------------------------------------------------\n",
            "Epoch: 92\tTime: 131.4022\tLoss: 14.8587\tLearningRate 0.000100\n",
            "------------------------------------------------------------------\n"
          ]
        },
        {
          "metadata": {
            "tags": null
          },
          "name": "stderr",
          "output_type": "stream",
          "text": [
            "100%|██████████| 350/350 [02:06<00:00,  2.77it/s]\n"
          ]
        },
        {
          "metadata": {
            "tags": null
          },
          "name": "stdout",
          "output_type": "stream",
          "text": [
            "------------------------------------------------------------------\n",
            "Epoch: 93\tTime: 126.3768\tLoss: 14.7027\tLearningRate 0.000100\n",
            "------------------------------------------------------------------\n"
          ]
        },
        {
          "metadata": {
            "tags": null
          },
          "name": "stderr",
          "output_type": "stream",
          "text": [
            "100%|██████████| 350/350 [02:06<00:00,  2.77it/s]\n"
          ]
        },
        {
          "metadata": {
            "tags": null
          },
          "name": "stdout",
          "output_type": "stream",
          "text": [
            "[epoch 94 PSNR: 31.7471 --- best_epoch 88 Best_PSNR 31.9110]\n",
            "------------------------------------------------------------------\n",
            "Epoch: 94\tTime: 131.3658\tLoss: 14.5872\tLearningRate 0.000100\n",
            "------------------------------------------------------------------\n"
          ]
        },
        {
          "metadata": {
            "tags": null
          },
          "name": "stderr",
          "output_type": "stream",
          "text": [
            "100%|██████████| 350/350 [02:06<00:00,  2.77it/s]\n"
          ]
        },
        {
          "metadata": {
            "tags": null
          },
          "name": "stdout",
          "output_type": "stream",
          "text": [
            "------------------------------------------------------------------\n",
            "Epoch: 95\tTime: 126.2298\tLoss: 14.4254\tLearningRate 0.000100\n",
            "------------------------------------------------------------------\n"
          ]
        },
        {
          "metadata": {
            "tags": null
          },
          "name": "stderr",
          "output_type": "stream",
          "text": [
            "100%|██████████| 350/350 [02:06<00:00,  2.77it/s]\n"
          ]
        },
        {
          "metadata": {
            "tags": null
          },
          "name": "stdout",
          "output_type": "stream",
          "text": [
            "[epoch 96 PSNR: 31.9343 --- best_epoch 96 Best_PSNR 31.9343]\n",
            "------------------------------------------------------------------\n",
            "Epoch: 96\tTime: 132.2020\tLoss: 14.2375\tLearningRate 0.000100\n",
            "------------------------------------------------------------------\n"
          ]
        },
        {
          "metadata": {
            "tags": null
          },
          "name": "stderr",
          "output_type": "stream",
          "text": [
            "100%|██████████| 350/350 [02:06<00:00,  2.77it/s]\n"
          ]
        },
        {
          "metadata": {
            "tags": null
          },
          "name": "stdout",
          "output_type": "stream",
          "text": [
            "------------------------------------------------------------------\n",
            "Epoch: 97\tTime: 126.4625\tLoss: 14.5690\tLearningRate 0.000100\n",
            "------------------------------------------------------------------\n"
          ]
        },
        {
          "metadata": {
            "tags": null
          },
          "name": "stderr",
          "output_type": "stream",
          "text": [
            "100%|██████████| 350/350 [02:06<00:00,  2.78it/s]\n"
          ]
        },
        {
          "metadata": {
            "tags": null
          },
          "name": "stdout",
          "output_type": "stream",
          "text": [
            "[epoch 98 PSNR: 31.8910 --- best_epoch 96 Best_PSNR 31.9343]\n",
            "------------------------------------------------------------------\n",
            "Epoch: 98\tTime: 131.3118\tLoss: 14.8058\tLearningRate 0.000100\n",
            "------------------------------------------------------------------\n"
          ]
        },
        {
          "metadata": {
            "tags": null
          },
          "name": "stderr",
          "output_type": "stream",
          "text": [
            "100%|██████████| 350/350 [02:06<00:00,  2.77it/s]\n"
          ]
        },
        {
          "metadata": {
            "tags": null
          },
          "name": "stdout",
          "output_type": "stream",
          "text": [
            "------------------------------------------------------------------\n",
            "Epoch: 99\tTime: 126.2225\tLoss: 14.5735\tLearningRate 0.000100\n",
            "------------------------------------------------------------------\n"
          ]
        },
        {
          "metadata": {
            "tags": null
          },
          "name": "stderr",
          "output_type": "stream",
          "text": [
            "100%|██████████| 350/350 [02:06<00:00,  2.77it/s]\n"
          ]
        },
        {
          "metadata": {
            "tags": null
          },
          "name": "stdout",
          "output_type": "stream",
          "text": [
            "[epoch 100 PSNR: 31.6868 --- best_epoch 96 Best_PSNR 31.9343]\n",
            "------------------------------------------------------------------\n",
            "Epoch: 100\tTime: 131.5181\tLoss: 14.6692\tLearningRate 0.000100\n",
            "------------------------------------------------------------------\n"
          ]
        },
        {
          "metadata": {
            "tags": null
          },
          "name": "stderr",
          "output_type": "stream",
          "text": [
            "100%|██████████| 350/350 [02:06<00:00,  2.77it/s]\n"
          ]
        },
        {
          "metadata": {
            "tags": null
          },
          "name": "stdout",
          "output_type": "stream",
          "text": [
            "------------------------------------------------------------------\n",
            "Epoch: 101\tTime: 126.2236\tLoss: 14.6411\tLearningRate 0.000100\n",
            "------------------------------------------------------------------\n"
          ]
        },
        {
          "metadata": {
            "tags": null
          },
          "name": "stderr",
          "output_type": "stream",
          "text": [
            "100%|██████████| 350/350 [02:06<00:00,  2.78it/s]\n"
          ]
        },
        {
          "metadata": {
            "tags": null
          },
          "name": "stdout",
          "output_type": "stream",
          "text": [
            "[epoch 102 PSNR: 31.8809 --- best_epoch 96 Best_PSNR 31.9343]\n",
            "------------------------------------------------------------------\n",
            "Epoch: 102\tTime: 131.1854\tLoss: 14.5205\tLearningRate 0.000100\n",
            "------------------------------------------------------------------\n"
          ]
        },
        {
          "metadata": {
            "tags": null
          },
          "name": "stderr",
          "output_type": "stream",
          "text": [
            "100%|██████████| 350/350 [02:05<00:00,  2.78it/s]\n"
          ]
        },
        {
          "metadata": {
            "tags": null
          },
          "name": "stdout",
          "output_type": "stream",
          "text": [
            "------------------------------------------------------------------\n",
            "Epoch: 103\tTime: 125.9852\tLoss: 14.8009\tLearningRate 0.000100\n",
            "------------------------------------------------------------------\n"
          ]
        },
        {
          "metadata": {
            "tags": null
          },
          "name": "stderr",
          "output_type": "stream",
          "text": [
            "100%|██████████| 350/350 [02:06<00:00,  2.77it/s]\n"
          ]
        },
        {
          "metadata": {
            "tags": null
          },
          "name": "stdout",
          "output_type": "stream",
          "text": [
            "[epoch 104 PSNR: 31.9016 --- best_epoch 96 Best_PSNR 31.9343]\n",
            "------------------------------------------------------------------\n",
            "Epoch: 104\tTime: 131.4784\tLoss: 14.7620\tLearningRate 0.000100\n",
            "------------------------------------------------------------------\n"
          ]
        },
        {
          "metadata": {
            "tags": null
          },
          "name": "stderr",
          "output_type": "stream",
          "text": [
            "100%|██████████| 350/350 [02:06<00:00,  2.77it/s]\n"
          ]
        },
        {
          "metadata": {
            "tags": null
          },
          "name": "stdout",
          "output_type": "stream",
          "text": [
            "------------------------------------------------------------------\n",
            "Epoch: 105\tTime: 126.3029\tLoss: 14.7610\tLearningRate 0.000100\n",
            "------------------------------------------------------------------\n"
          ]
        },
        {
          "metadata": {
            "tags": null
          },
          "name": "stderr",
          "output_type": "stream",
          "text": [
            "100%|██████████| 350/350 [02:05<00:00,  2.78it/s]\n"
          ]
        },
        {
          "metadata": {
            "tags": null
          },
          "name": "stdout",
          "output_type": "stream",
          "text": [
            "[epoch 106 PSNR: 31.9333 --- best_epoch 96 Best_PSNR 31.9343]\n",
            "------------------------------------------------------------------\n",
            "Epoch: 106\tTime: 131.1054\tLoss: 14.5635\tLearningRate 0.000100\n",
            "------------------------------------------------------------------\n"
          ]
        },
        {
          "metadata": {
            "tags": null
          },
          "name": "stderr",
          "output_type": "stream",
          "text": [
            "100%|██████████| 350/350 [02:06<00:00,  2.77it/s]\n"
          ]
        },
        {
          "metadata": {
            "tags": null
          },
          "name": "stdout",
          "output_type": "stream",
          "text": [
            "------------------------------------------------------------------\n",
            "Epoch: 107\tTime: 126.5492\tLoss: 14.3696\tLearningRate 0.000100\n",
            "------------------------------------------------------------------\n"
          ]
        },
        {
          "metadata": {
            "tags": null
          },
          "name": "stderr",
          "output_type": "stream",
          "text": [
            "100%|██████████| 350/350 [02:06<00:00,  2.76it/s]\n"
          ]
        },
        {
          "metadata": {
            "tags": null
          },
          "name": "stdout",
          "output_type": "stream",
          "text": [
            "[epoch 108 PSNR: 31.9085 --- best_epoch 96 Best_PSNR 31.9343]\n",
            "------------------------------------------------------------------\n",
            "Epoch: 108\tTime: 131.9489\tLoss: 14.4782\tLearningRate 0.000100\n",
            "------------------------------------------------------------------\n"
          ]
        },
        {
          "metadata": {
            "tags": null
          },
          "name": "stderr",
          "output_type": "stream",
          "text": [
            "100%|██████████| 350/350 [02:06<00:00,  2.76it/s]\n"
          ]
        },
        {
          "metadata": {
            "tags": null
          },
          "name": "stdout",
          "output_type": "stream",
          "text": [
            "------------------------------------------------------------------\n",
            "Epoch: 109\tTime: 126.6339\tLoss: 14.6767\tLearningRate 0.000100\n",
            "------------------------------------------------------------------\n"
          ]
        },
        {
          "metadata": {
            "tags": null
          },
          "name": "stderr",
          "output_type": "stream",
          "text": [
            "100%|██████████| 350/350 [02:06<00:00,  2.76it/s]\n"
          ]
        },
        {
          "metadata": {
            "tags": null
          },
          "name": "stdout",
          "output_type": "stream",
          "text": [
            "[epoch 110 PSNR: 31.9407 --- best_epoch 110 Best_PSNR 31.9407]\n",
            "------------------------------------------------------------------\n",
            "Epoch: 110\tTime: 132.8157\tLoss: 14.8126\tLearningRate 0.000100\n",
            "------------------------------------------------------------------\n"
          ]
        },
        {
          "metadata": {
            "tags": null
          },
          "name": "stderr",
          "output_type": "stream",
          "text": [
            "100%|██████████| 350/350 [02:06<00:00,  2.76it/s]\n"
          ]
        },
        {
          "metadata": {
            "tags": null
          },
          "name": "stdout",
          "output_type": "stream",
          "text": [
            "------------------------------------------------------------------\n",
            "Epoch: 111\tTime: 126.9089\tLoss: 14.6562\tLearningRate 0.000100\n",
            "------------------------------------------------------------------\n"
          ]
        },
        {
          "metadata": {
            "tags": null
          },
          "name": "stderr",
          "output_type": "stream",
          "text": [
            "100%|██████████| 350/350 [02:06<00:00,  2.76it/s]\n"
          ]
        },
        {
          "metadata": {
            "tags": null
          },
          "name": "stdout",
          "output_type": "stream",
          "text": [
            "[epoch 112 PSNR: 31.9320 --- best_epoch 110 Best_PSNR 31.9407]\n",
            "------------------------------------------------------------------\n",
            "Epoch: 112\tTime: 132.0270\tLoss: 14.5054\tLearningRate 0.000100\n",
            "------------------------------------------------------------------\n"
          ]
        },
        {
          "metadata": {
            "tags": null
          },
          "name": "stderr",
          "output_type": "stream",
          "text": [
            "100%|██████████| 350/350 [02:07<00:00,  2.76it/s]\n"
          ]
        },
        {
          "metadata": {
            "tags": null
          },
          "name": "stdout",
          "output_type": "stream",
          "text": [
            "------------------------------------------------------------------\n",
            "Epoch: 113\tTime: 127.0172\tLoss: 14.7157\tLearningRate 0.000100\n",
            "------------------------------------------------------------------\n"
          ]
        },
        {
          "metadata": {
            "tags": null
          },
          "name": "stderr",
          "output_type": "stream",
          "text": [
            "100%|██████████| 350/350 [02:06<00:00,  2.76it/s]\n"
          ]
        },
        {
          "metadata": {
            "tags": null
          },
          "name": "stdout",
          "output_type": "stream",
          "text": [
            "[epoch 114 PSNR: 31.9086 --- best_epoch 110 Best_PSNR 31.9407]\n",
            "------------------------------------------------------------------\n",
            "Epoch: 114\tTime: 132.0644\tLoss: 14.5881\tLearningRate 0.000100\n",
            "------------------------------------------------------------------\n"
          ]
        },
        {
          "metadata": {
            "tags": null
          },
          "name": "stderr",
          "output_type": "stream",
          "text": [
            "100%|██████████| 350/350 [02:06<00:00,  2.76it/s]\n"
          ]
        },
        {
          "metadata": {
            "tags": null
          },
          "name": "stdout",
          "output_type": "stream",
          "text": [
            "------------------------------------------------------------------\n",
            "Epoch: 115\tTime: 126.7861\tLoss: 14.4019\tLearningRate 0.000100\n",
            "------------------------------------------------------------------\n"
          ]
        },
        {
          "metadata": {
            "tags": null
          },
          "name": "stderr",
          "output_type": "stream",
          "text": [
            "100%|██████████| 350/350 [02:06<00:00,  2.77it/s]\n"
          ]
        },
        {
          "metadata": {
            "tags": null
          },
          "name": "stdout",
          "output_type": "stream",
          "text": [
            "[epoch 116 PSNR: 31.9452 --- best_epoch 116 Best_PSNR 31.9452]\n",
            "------------------------------------------------------------------\n",
            "Epoch: 116\tTime: 132.2447\tLoss: 14.7390\tLearningRate 0.000100\n",
            "------------------------------------------------------------------\n"
          ]
        },
        {
          "metadata": {
            "tags": null
          },
          "name": "stderr",
          "output_type": "stream",
          "text": [
            "100%|██████████| 350/350 [02:06<00:00,  2.77it/s]\n"
          ]
        },
        {
          "metadata": {
            "tags": null
          },
          "name": "stdout",
          "output_type": "stream",
          "text": [
            "------------------------------------------------------------------\n",
            "Epoch: 117\tTime: 126.2802\tLoss: 14.5189\tLearningRate 0.000100\n",
            "------------------------------------------------------------------\n"
          ]
        },
        {
          "metadata": {
            "tags": null
          },
          "name": "stderr",
          "output_type": "stream",
          "text": [
            "100%|██████████| 350/350 [02:06<00:00,  2.77it/s]\n"
          ]
        },
        {
          "metadata": {
            "tags": null
          },
          "name": "stdout",
          "output_type": "stream",
          "text": [
            "[epoch 118 PSNR: 31.9586 --- best_epoch 118 Best_PSNR 31.9586]\n",
            "------------------------------------------------------------------\n",
            "Epoch: 118\tTime: 132.3452\tLoss: 14.4518\tLearningRate 0.000100\n",
            "------------------------------------------------------------------\n"
          ]
        },
        {
          "metadata": {
            "tags": null
          },
          "name": "stderr",
          "output_type": "stream",
          "text": [
            "100%|██████████| 350/350 [02:06<00:00,  2.77it/s]\n"
          ]
        },
        {
          "metadata": {
            "tags": null
          },
          "name": "stdout",
          "output_type": "stream",
          "text": [
            "------------------------------------------------------------------\n",
            "Epoch: 119\tTime: 126.2272\tLoss: 14.6864\tLearningRate 0.000100\n",
            "------------------------------------------------------------------\n"
          ]
        },
        {
          "metadata": {
            "tags": null
          },
          "name": "stderr",
          "output_type": "stream",
          "text": [
            "100%|██████████| 350/350 [02:06<00:00,  2.77it/s]\n"
          ]
        },
        {
          "metadata": {
            "tags": null
          },
          "name": "stdout",
          "output_type": "stream",
          "text": [
            "[epoch 120 PSNR: 31.9322 --- best_epoch 118 Best_PSNR 31.9586]\n",
            "------------------------------------------------------------------\n",
            "Epoch: 120\tTime: 131.6487\tLoss: 14.6217\tLearningRate 0.000100\n",
            "------------------------------------------------------------------\n"
          ]
        },
        {
          "metadata": {
            "tags": null
          },
          "name": "stderr",
          "output_type": "stream",
          "text": [
            "100%|██████████| 350/350 [02:06<00:00,  2.77it/s]\n"
          ]
        },
        {
          "metadata": {
            "tags": null
          },
          "name": "stdout",
          "output_type": "stream",
          "text": [
            "------------------------------------------------------------------\n",
            "Epoch: 121\tTime: 126.2917\tLoss: 14.4986\tLearningRate 0.000100\n",
            "------------------------------------------------------------------\n"
          ]
        },
        {
          "output_type": "stream",
          "name": "stderr",
          "text": [
            "100%|██████████| 350/350 [02:06<00:00,  2.77it/s]\n"
          ]
        },
        {
          "output_type": "stream",
          "name": "stdout",
          "text": [
            "[epoch 122 PSNR: 31.9006 --- best_epoch 118 Best_PSNR 31.9586]\n",
            "------------------------------------------------------------------\n",
            "Epoch: 122\tTime: 131.5468\tLoss: 14.6087\tLearningRate 0.000100\n",
            "------------------------------------------------------------------\n"
          ]
        },
        {
          "output_type": "stream",
          "name": "stderr",
          "text": [
            "100%|██████████| 350/350 [02:06<00:00,  2.76it/s]\n"
          ]
        },
        {
          "output_type": "stream",
          "name": "stdout",
          "text": [
            "------------------------------------------------------------------\n",
            "Epoch: 123\tTime: 126.6727\tLoss: 14.4867\tLearningRate 0.000100\n",
            "------------------------------------------------------------------\n"
          ]
        },
        {
          "output_type": "stream",
          "name": "stderr",
          "text": [
            "100%|██████████| 350/350 [02:06<00:00,  2.76it/s]\n"
          ]
        },
        {
          "output_type": "stream",
          "name": "stdout",
          "text": [
            "[epoch 124 PSNR: 31.9392 --- best_epoch 118 Best_PSNR 31.9586]\n",
            "------------------------------------------------------------------\n",
            "Epoch: 124\tTime: 131.9687\tLoss: 14.6151\tLearningRate 0.000100\n",
            "------------------------------------------------------------------\n"
          ]
        },
        {
          "output_type": "stream",
          "name": "stderr",
          "text": [
            "100%|██████████| 350/350 [02:06<00:00,  2.76it/s]\n"
          ]
        },
        {
          "output_type": "stream",
          "name": "stdout",
          "text": [
            "------------------------------------------------------------------\n",
            "Epoch: 125\tTime: 126.6126\tLoss: 14.6200\tLearningRate 0.000100\n",
            "------------------------------------------------------------------\n"
          ]
        },
        {
          "output_type": "stream",
          "name": "stderr",
          "text": [
            "100%|██████████| 350/350 [02:06<00:00,  2.76it/s]\n"
          ]
        },
        {
          "output_type": "stream",
          "name": "stdout",
          "text": [
            "[epoch 126 PSNR: 31.9775 --- best_epoch 126 Best_PSNR 31.9775]\n",
            "------------------------------------------------------------------\n",
            "Epoch: 126\tTime: 132.8600\tLoss: 14.7664\tLearningRate 0.000100\n",
            "------------------------------------------------------------------\n"
          ]
        },
        {
          "output_type": "stream",
          "name": "stderr",
          "text": [
            "100%|██████████| 350/350 [02:06<00:00,  2.76it/s]\n"
          ]
        },
        {
          "output_type": "stream",
          "name": "stdout",
          "text": [
            "------------------------------------------------------------------\n",
            "Epoch: 127\tTime: 126.8712\tLoss: 14.5532\tLearningRate 0.000100\n",
            "------------------------------------------------------------------\n"
          ]
        },
        {
          "output_type": "stream",
          "name": "stderr",
          "text": [
            "100%|██████████| 350/350 [02:07<00:00,  2.75it/s]\n"
          ]
        },
        {
          "output_type": "stream",
          "name": "stdout",
          "text": [
            "[epoch 128 PSNR: 31.9129 --- best_epoch 126 Best_PSNR 31.9775]\n",
            "------------------------------------------------------------------\n",
            "Epoch: 128\tTime: 132.3323\tLoss: 14.4619\tLearningRate 0.000100\n",
            "------------------------------------------------------------------\n"
          ]
        },
        {
          "output_type": "stream",
          "name": "stderr",
          "text": [
            "100%|██████████| 350/350 [02:07<00:00,  2.75it/s]\n"
          ]
        },
        {
          "output_type": "stream",
          "name": "stdout",
          "text": [
            "------------------------------------------------------------------\n",
            "Epoch: 129\tTime: 127.0634\tLoss: 14.5218\tLearningRate 0.000100\n",
            "------------------------------------------------------------------\n"
          ]
        },
        {
          "output_type": "stream",
          "name": "stderr",
          "text": [
            "100%|██████████| 350/350 [02:06<00:00,  2.76it/s]\n"
          ]
        },
        {
          "output_type": "stream",
          "name": "stdout",
          "text": [
            "[epoch 130 PSNR: 31.9808 --- best_epoch 130 Best_PSNR 31.9808]\n",
            "------------------------------------------------------------------\n",
            "Epoch: 130\tTime: 132.8920\tLoss: 14.7993\tLearningRate 0.000100\n",
            "------------------------------------------------------------------\n"
          ]
        },
        {
          "output_type": "stream",
          "name": "stderr",
          "text": [
            "100%|██████████| 350/350 [02:06<00:00,  2.76it/s]\n"
          ]
        },
        {
          "output_type": "stream",
          "name": "stdout",
          "text": [
            "------------------------------------------------------------------\n",
            "Epoch: 131\tTime: 126.9208\tLoss: 14.7780\tLearningRate 0.000100\n",
            "------------------------------------------------------------------\n"
          ]
        },
        {
          "output_type": "stream",
          "name": "stderr",
          "text": [
            "100%|██████████| 350/350 [02:06<00:00,  2.76it/s]\n"
          ]
        },
        {
          "output_type": "stream",
          "name": "stdout",
          "text": [
            "[epoch 132 PSNR: 31.9706 --- best_epoch 130 Best_PSNR 31.9808]\n",
            "------------------------------------------------------------------\n",
            "Epoch: 132\tTime: 132.1672\tLoss: 14.4805\tLearningRate 0.000100\n",
            "------------------------------------------------------------------\n"
          ]
        },
        {
          "output_type": "stream",
          "name": "stderr",
          "text": [
            "100%|██████████| 350/350 [02:07<00:00,  2.76it/s]\n"
          ]
        },
        {
          "output_type": "stream",
          "name": "stdout",
          "text": [
            "------------------------------------------------------------------\n",
            "Epoch: 133\tTime: 127.0180\tLoss: 14.6790\tLearningRate 0.000100\n",
            "------------------------------------------------------------------\n"
          ]
        },
        {
          "output_type": "stream",
          "name": "stderr",
          "text": [
            "100%|██████████| 350/350 [02:06<00:00,  2.76it/s]\n"
          ]
        },
        {
          "output_type": "stream",
          "name": "stdout",
          "text": [
            "[epoch 134 PSNR: 31.9507 --- best_epoch 130 Best_PSNR 31.9808]\n",
            "------------------------------------------------------------------\n",
            "Epoch: 134\tTime: 132.0767\tLoss: 14.5014\tLearningRate 0.000100\n",
            "------------------------------------------------------------------\n"
          ]
        },
        {
          "output_type": "stream",
          "name": "stderr",
          "text": [
            "100%|██████████| 350/350 [02:06<00:00,  2.76it/s]\n"
          ]
        },
        {
          "output_type": "stream",
          "name": "stdout",
          "text": [
            "------------------------------------------------------------------\n",
            "Epoch: 135\tTime: 126.7750\tLoss: 14.6979\tLearningRate 0.000100\n",
            "------------------------------------------------------------------\n"
          ]
        },
        {
          "output_type": "stream",
          "name": "stderr",
          "text": [
            "100%|██████████| 350/350 [02:07<00:00,  2.75it/s]\n"
          ]
        },
        {
          "output_type": "stream",
          "name": "stdout",
          "text": [
            "[epoch 136 PSNR: 31.9549 --- best_epoch 130 Best_PSNR 31.9808]\n",
            "------------------------------------------------------------------\n",
            "Epoch: 136\tTime: 132.3750\tLoss: 14.7037\tLearningRate 0.000100\n",
            "------------------------------------------------------------------\n"
          ]
        },
        {
          "output_type": "stream",
          "name": "stderr",
          "text": [
            "100%|██████████| 350/350 [02:07<00:00,  2.75it/s]\n"
          ]
        },
        {
          "output_type": "stream",
          "name": "stdout",
          "text": [
            "------------------------------------------------------------------\n",
            "Epoch: 137\tTime: 127.1237\tLoss: 14.7415\tLearningRate 0.000100\n",
            "------------------------------------------------------------------\n"
          ]
        },
        {
          "output_type": "stream",
          "name": "stderr",
          "text": [
            "100%|██████████| 350/350 [02:07<00:00,  2.75it/s]\n"
          ]
        },
        {
          "output_type": "stream",
          "name": "stdout",
          "text": [
            "[epoch 138 PSNR: 31.9926 --- best_epoch 138 Best_PSNR 31.9926]\n",
            "------------------------------------------------------------------\n",
            "Epoch: 138\tTime: 133.2999\tLoss: 14.6129\tLearningRate 0.000100\n",
            "------------------------------------------------------------------\n"
          ]
        },
        {
          "output_type": "stream",
          "name": "stderr",
          "text": [
            "100%|██████████| 350/350 [02:07<00:00,  2.75it/s]\n"
          ]
        },
        {
          "output_type": "stream",
          "name": "stdout",
          "text": [
            "------------------------------------------------------------------\n",
            "Epoch: 139\tTime: 127.1831\tLoss: 14.4864\tLearningRate 0.000099\n",
            "------------------------------------------------------------------\n"
          ]
        },
        {
          "output_type": "stream",
          "name": "stderr",
          "text": [
            "100%|██████████| 350/350 [02:07<00:00,  2.75it/s]\n"
          ]
        },
        {
          "output_type": "stream",
          "name": "stdout",
          "text": [
            "[epoch 140 PSNR: 31.9488 --- best_epoch 138 Best_PSNR 31.9926]\n",
            "------------------------------------------------------------------\n",
            "Epoch: 140\tTime: 132.4078\tLoss: 14.5678\tLearningRate 0.000099\n",
            "------------------------------------------------------------------\n"
          ]
        },
        {
          "output_type": "stream",
          "name": "stderr",
          "text": [
            "100%|██████████| 350/350 [02:07<00:00,  2.75it/s]\n"
          ]
        },
        {
          "output_type": "stream",
          "name": "stdout",
          "text": [
            "------------------------------------------------------------------\n",
            "Epoch: 141\tTime: 127.1474\tLoss: 14.4821\tLearningRate 0.000099\n",
            "------------------------------------------------------------------\n"
          ]
        },
        {
          "output_type": "stream",
          "name": "stderr",
          "text": [
            "100%|██████████| 350/350 [02:07<00:00,  2.75it/s]\n"
          ]
        },
        {
          "output_type": "stream",
          "name": "stdout",
          "text": [
            "[epoch 142 PSNR: 31.9915 --- best_epoch 138 Best_PSNR 31.9926]\n",
            "------------------------------------------------------------------\n",
            "Epoch: 142\tTime: 132.5781\tLoss: 14.5150\tLearningRate 0.000099\n",
            "------------------------------------------------------------------\n"
          ]
        },
        {
          "output_type": "stream",
          "name": "stderr",
          "text": [
            "100%|██████████| 350/350 [02:07<00:00,  2.75it/s]\n"
          ]
        },
        {
          "output_type": "stream",
          "name": "stdout",
          "text": [
            "------------------------------------------------------------------\n",
            "Epoch: 143\tTime: 127.1284\tLoss: 14.5356\tLearningRate 0.000099\n",
            "------------------------------------------------------------------\n"
          ]
        },
        {
          "output_type": "stream",
          "name": "stderr",
          "text": [
            "100%|██████████| 350/350 [02:07<00:00,  2.75it/s]\n"
          ]
        },
        {
          "output_type": "stream",
          "name": "stdout",
          "text": [
            "[epoch 144 PSNR: 31.9865 --- best_epoch 138 Best_PSNR 31.9926]\n",
            "------------------------------------------------------------------\n",
            "Epoch: 144\tTime: 132.3805\tLoss: 14.4626\tLearningRate 0.000099\n",
            "------------------------------------------------------------------\n"
          ]
        },
        {
          "output_type": "stream",
          "name": "stderr",
          "text": [
            "100%|██████████| 350/350 [02:07<00:00,  2.75it/s]\n"
          ]
        },
        {
          "output_type": "stream",
          "name": "stdout",
          "text": [
            "------------------------------------------------------------------\n",
            "Epoch: 145\tTime: 127.4875\tLoss: 14.4405\tLearningRate 0.000099\n",
            "------------------------------------------------------------------\n"
          ]
        },
        {
          "output_type": "stream",
          "name": "stderr",
          "text": [
            "100%|██████████| 350/350 [02:07<00:00,  2.75it/s]\n"
          ]
        },
        {
          "output_type": "stream",
          "name": "stdout",
          "text": [
            "[epoch 146 PSNR: 31.9929 --- best_epoch 146 Best_PSNR 31.9929]\n",
            "------------------------------------------------------------------\n",
            "Epoch: 146\tTime: 133.2532\tLoss: 14.5584\tLearningRate 0.000099\n",
            "------------------------------------------------------------------\n"
          ]
        },
        {
          "output_type": "stream",
          "name": "stderr",
          "text": [
            "100%|██████████| 350/350 [02:07<00:00,  2.74it/s]\n"
          ]
        },
        {
          "output_type": "stream",
          "name": "stdout",
          "text": [
            "------------------------------------------------------------------\n",
            "Epoch: 147\tTime: 127.5614\tLoss: 14.2957\tLearningRate 0.000099\n",
            "------------------------------------------------------------------\n"
          ]
        },
        {
          "output_type": "stream",
          "name": "stderr",
          "text": [
            "100%|██████████| 350/350 [02:07<00:00,  2.75it/s]\n"
          ]
        },
        {
          "output_type": "stream",
          "name": "stdout",
          "text": [
            "[epoch 148 PSNR: 31.9617 --- best_epoch 146 Best_PSNR 31.9929]\n",
            "------------------------------------------------------------------\n",
            "Epoch: 148\tTime: 132.3032\tLoss: 14.5988\tLearningRate 0.000099\n",
            "------------------------------------------------------------------\n"
          ]
        },
        {
          "output_type": "stream",
          "name": "stderr",
          "text": [
            " 22%|██▏       | 77/350 [00:29<01:43,  2.65it/s]\n"
          ]
        },
        {
          "output_type": "error",
          "ename": "KeyboardInterrupt",
          "evalue": "ignored",
          "traceback": [
            "\u001b[0;31m---------------------------------------------------------------------------\u001b[0m",
            "\u001b[0;31mKeyboardInterrupt\u001b[0m                         Traceback (most recent call last)",
            "\u001b[0;32m<ipython-input-9-6190a3f8d82e>\u001b[0m in \u001b[0;36m<module>\u001b[0;34m\u001b[0m\n\u001b[1;32m     28\u001b[0m         \u001b[0mloss\u001b[0m \u001b[0;34m=\u001b[0m \u001b[0;34m(\u001b[0m\u001b[0mloss_char\u001b[0m\u001b[0;34m)\u001b[0m \u001b[0;34m+\u001b[0m \u001b[0;34m(\u001b[0m\u001b[0;36m0.05\u001b[0m\u001b[0;34m*\u001b[0m\u001b[0mloss_edge\u001b[0m\u001b[0;34m)\u001b[0m\u001b[0;34m\u001b[0m\u001b[0;34m\u001b[0m\u001b[0m\n\u001b[1;32m     29\u001b[0m \u001b[0;34m\u001b[0m\u001b[0m\n\u001b[0;32m---> 30\u001b[0;31m         \u001b[0mloss\u001b[0m\u001b[0;34m.\u001b[0m\u001b[0mbackward\u001b[0m\u001b[0;34m(\u001b[0m\u001b[0;34m)\u001b[0m\u001b[0;34m\u001b[0m\u001b[0;34m\u001b[0m\u001b[0m\n\u001b[0m\u001b[1;32m     31\u001b[0m         \u001b[0moptimizer\u001b[0m\u001b[0;34m.\u001b[0m\u001b[0mstep\u001b[0m\u001b[0;34m(\u001b[0m\u001b[0;34m)\u001b[0m\u001b[0;34m\u001b[0m\u001b[0;34m\u001b[0m\u001b[0m\n\u001b[1;32m     32\u001b[0m         \u001b[0mepoch_loss\u001b[0m \u001b[0;34m+=\u001b[0m\u001b[0mloss\u001b[0m\u001b[0;34m.\u001b[0m\u001b[0mitem\u001b[0m\u001b[0;34m(\u001b[0m\u001b[0;34m)\u001b[0m\u001b[0;34m\u001b[0m\u001b[0;34m\u001b[0m\u001b[0m\n",
            "\u001b[0;32m/usr/local/lib/python3.8/dist-packages/torch/_tensor.py\u001b[0m in \u001b[0;36mbackward\u001b[0;34m(self, gradient, retain_graph, create_graph, inputs)\u001b[0m\n\u001b[1;32m    485\u001b[0m                 \u001b[0minputs\u001b[0m\u001b[0;34m=\u001b[0m\u001b[0minputs\u001b[0m\u001b[0;34m,\u001b[0m\u001b[0;34m\u001b[0m\u001b[0;34m\u001b[0m\u001b[0m\n\u001b[1;32m    486\u001b[0m             )\n\u001b[0;32m--> 487\u001b[0;31m         torch.autograd.backward(\n\u001b[0m\u001b[1;32m    488\u001b[0m             \u001b[0mself\u001b[0m\u001b[0;34m,\u001b[0m \u001b[0mgradient\u001b[0m\u001b[0;34m,\u001b[0m \u001b[0mretain_graph\u001b[0m\u001b[0;34m,\u001b[0m \u001b[0mcreate_graph\u001b[0m\u001b[0;34m,\u001b[0m \u001b[0minputs\u001b[0m\u001b[0;34m=\u001b[0m\u001b[0minputs\u001b[0m\u001b[0;34m\u001b[0m\u001b[0;34m\u001b[0m\u001b[0m\n\u001b[1;32m    489\u001b[0m         )\n",
            "\u001b[0;32m/usr/local/lib/python3.8/dist-packages/torch/autograd/__init__.py\u001b[0m in \u001b[0;36mbackward\u001b[0;34m(tensors, grad_tensors, retain_graph, create_graph, grad_variables, inputs)\u001b[0m\n\u001b[1;32m    195\u001b[0m     \u001b[0;31m# some Python versions print out the first line of a multi-line function\u001b[0m\u001b[0;34m\u001b[0m\u001b[0;34m\u001b[0m\u001b[0;34m\u001b[0m\u001b[0m\n\u001b[1;32m    196\u001b[0m     \u001b[0;31m# calls in the traceback and some print out the last line\u001b[0m\u001b[0;34m\u001b[0m\u001b[0;34m\u001b[0m\u001b[0;34m\u001b[0m\u001b[0m\n\u001b[0;32m--> 197\u001b[0;31m     Variable._execution_engine.run_backward(  # Calls into the C++ engine to run the backward pass\n\u001b[0m\u001b[1;32m    198\u001b[0m         \u001b[0mtensors\u001b[0m\u001b[0;34m,\u001b[0m \u001b[0mgrad_tensors_\u001b[0m\u001b[0;34m,\u001b[0m \u001b[0mretain_graph\u001b[0m\u001b[0;34m,\u001b[0m \u001b[0mcreate_graph\u001b[0m\u001b[0;34m,\u001b[0m \u001b[0minputs\u001b[0m\u001b[0;34m,\u001b[0m\u001b[0;34m\u001b[0m\u001b[0;34m\u001b[0m\u001b[0m\n\u001b[1;32m    199\u001b[0m         allow_unreachable=True, accumulate_grad=True)  # Calls into the C++ engine to run the backward pass\n",
            "\u001b[0;31mKeyboardInterrupt\u001b[0m: "
          ]
        }
      ],
      "source": [
        "# %%capture\n",
        "\n",
        "best_psnr = 0\n",
        "best_epoch = 0\n",
        "\n",
        "for epoch in range(start_epoch, opt.OPTIM.NUM_EPOCHS + 1):\n",
        "    epoch_start_time = time.time()\n",
        "    epoch_loss = 0\n",
        "    train_id = 1\n",
        "\n",
        "    model_restoration.train()\n",
        "    for i, data in enumerate(tqdm(train_loader), 0):\n",
        "\n",
        "        # zero_grad\n",
        "        for param in model_restoration.parameters():\n",
        "            param.grad = None\n",
        "\n",
        "        target = data[0].cuda()\n",
        "        input_ = data[1].cuda()\n",
        "\n",
        "        restored = model_restoration(input_)\n",
        " \n",
        "        # Compute loss at each stage\n",
        "        loss_char = sum([criterion_char(restored[j],target) for j in range(len(restored))])\n",
        "        # loss_char = np.sum([criterion_char(restored[j],target) for j in range(len(restored))])\n",
        "        # loss_edge = np.sum([criterion_edge(restored[j],target) for j in range(len(restored))])\n",
        "        loss_edge = sum([criterion_edge(restored[j],target) for j in range(len(restored))])\n",
        "        loss = (loss_char) + (0.05*loss_edge)\n",
        "       \n",
        "        loss.backward()\n",
        "        optimizer.step()\n",
        "        epoch_loss +=loss.item()\n",
        "\n",
        "    #### Evaluation ####\n",
        "    if epoch%opt.TRAINING.VAL_AFTER_EVERY == 0:\n",
        "        model_restoration.eval()\n",
        "        psnr_val_rgb = []\n",
        "        for ii, data_val in enumerate((val_loader), 0):\n",
        "            target = data_val[0].cuda()\n",
        "            input_ = data_val[1].cuda()\n",
        "\n",
        "            with torch.no_grad():\n",
        "                restored = model_restoration(input_)\n",
        "            restored = restored[0]\n",
        "\n",
        "            for res,tar in zip(restored,target):\n",
        "                psnr_val_rgb.append(utils.torchPSNR(res, tar))\n",
        "\n",
        "        psnr_val_rgb  = torch.stack(psnr_val_rgb).mean().item()\n",
        "\n",
        "        if psnr_val_rgb > best_psnr:\n",
        "            best_psnr = psnr_val_rgb\n",
        "            best_epoch = epoch\n",
        "            torch.save({'epoch': epoch, \n",
        "                        'state_dict': model_restoration.state_dict(),\n",
        "                        'optimizer' : optimizer.state_dict()\n",
        "                        }, os.path.join(model_dir,\"model_best.pth\"))\n",
        "\n",
        "        print(\"[epoch %d PSNR: %.4f --- best_epoch %d Best_PSNR %.4f]\" % (epoch, psnr_val_rgb, best_epoch, best_psnr))\n",
        "\n",
        "        torch.save({'epoch': epoch, \n",
        "                    'state_dict': model_restoration.state_dict(),\n",
        "                    'optimizer' : optimizer.state_dict()\n",
        "                    }, os.path.join(model_dir,f\"model_epoch_{epoch}.pth\")) \n",
        "\n",
        "    scheduler.step()\n",
        "    \n",
        "    print(\"------------------------------------------------------------------\")\n",
        "    print(\"Epoch: {}\\tTime: {:.4f}\\tLoss: {:.4f}\\tLearningRate {:.6f}\".format(epoch, time.time()-epoch_start_time, epoch_loss, scheduler.get_lr()[0]))\n",
        "    print(\"------------------------------------------------------------------\")\n",
        "\n",
        "    torch.save({'epoch': epoch, \n",
        "                'state_dict': model_restoration.state_dict(),\n",
        "                'optimizer' : optimizer.state_dict()\n",
        "                }, os.path.join(model_dir,\"model_latest.pth\")) "
      ]
    }
  ],
  "metadata": {
    "accelerator": "GPU",
    "colab": {
      "machine_shape": "hm",
      "provenance": []
    },
    "gpuClass": "premium",
    "kernelspec": {
      "display_name": "Python 3",
      "name": "python3"
    },
    "language_info": {
      "name": "python"
    }
  },
  "nbformat": 4,
  "nbformat_minor": 0
}