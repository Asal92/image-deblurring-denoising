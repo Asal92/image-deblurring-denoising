{
  "cells": [
    {
      "cell_type": "markdown",
      "source": [
        "# **Transfer Learning MPRNet:**\n",
        "\n",
        "In this code, our goal is to transfer most of the pretrained MPRNet model, and freeze the \"stage 1\" of the model. We only want to train other sections:"
      ],
      "metadata": {
        "id": "gEpx8bnb_zi6"
      }
    },
    {
      "cell_type": "markdown",
      "source": [
        "**1)** We are using the best configs of google colab to run all of our codes. Therefore, the first step is to mount google drive, where we have uploaded the MPRNet github codes + our datasets + pretrained and best trained models:"
      ],
      "metadata": {
        "id": "G3C1XZPrBzvc"
      }
    },
    {
      "cell_type": "code",
      "execution_count": null,
      "metadata": {
        "colab": {
          "base_uri": "https://localhost:8080/"
        },
        "id": "SyxJbMMYePSY",
        "outputId": "925c358c-96a1-4f77-e54c-43c08af1d016"
      },
      "outputs": [
        {
          "name": "stdout",
          "output_type": "stream",
          "text": [
            "/\n",
            "Mounted at /content/gdrive\n",
            "bin\t dev   lib32  mydrive\t\t\tpython-apt  srv    usr\n",
            "boot\t etc   lib64  NGC-DL-CONTAINER-LICENSE\troot\t    sys    var\n",
            "content  home  media  opt\t\t\trun\t    tmp\n",
            "datalab  lib   mnt    proc\t\t\tsbin\t    tools\n"
          ]
        }
      ],
      "source": [
        "import os\n",
        "\n",
        "#mount drive\n",
        "%cd ..\n",
        "from google.colab import drive\n",
        "drive.mount('/content/gdrive', force_remount=True)\n",
        "\n",
        "# this creates a symbolic link so that now the path /content/gdrive/My\\ Drive/ is equal to /mydrive\n",
        "!ln -s /content/gdrive/My\\ Drive/ /mydrive"
      ]
    },
    {
      "cell_type": "markdown",
      "source": [
        "**2)** Make the MPRNet directory, the main working directory:"
      ],
      "metadata": {
        "id": "VJ_PyYoiB4O4"
      }
    },
    {
      "cell_type": "code",
      "execution_count": null,
      "metadata": {
        "colab": {
          "base_uri": "https://localhost:8080/"
        },
        "id": "Om5bhEIah-YI",
        "outputId": "1a88dad2-c7b9-4a72-8a20-93f7802b87a7"
      },
      "outputs": [
        {
          "name": "stdout",
          "output_type": "stream",
          "text": [
            "checkpoints   dataset_RGB.py\t     losses.py\t\t       training3.yml\n",
            "checkpoints2  Datasets\t\t     MPRNet.py\t\t       training4.yml\n",
            "CHK2\t      Datasets2\t\t     MPRNET_Training_V1.ipynb  training5.yml\n",
            "CHK3\t      Datasets3\t\t     pretrained_models\t       training6.yml\n",
            "CHK4\t      Datasets4\t\t     __pycache__\t       training7.yml\n",
            "CHK5\t      Datasets5\t\t     README.md\t\t       training_Nov.yml\n",
            "CHK6\t      evaluate_GOPRO_HIDE.m  Result\t\t       training.yml\n",
            "config.py     evaluate_RealBlur.py   test.py\t\t       train.py\n",
            "data_RGB.py   Input\t\t     training2.yml\t       utils\n"
          ]
        }
      ],
      "source": [
        "os.chdir('mydrive/MPRNET_V2/Deblurring')\n",
        "!ls"
      ]
    },
    {
      "cell_type": "code",
      "execution_count": null,
      "metadata": {
        "colab": {
          "base_uri": "https://localhost:8080/"
        },
        "id": "_kOag_rSiVQQ",
        "outputId": "7804a688-814a-4fee-fa81-8e71e66e1e41"
      },
      "outputs": [
        {
          "name": "stdout",
          "output_type": "stream",
          "text": [
            "checkpoints   dataset_RGB.py\t     losses.py\t\t       training3.yml\n",
            "checkpoints2  Datasets\t\t     MPRNet.py\t\t       training4.yml\n",
            "CHK2\t      Datasets2\t\t     MPRNET_Training_V1.ipynb  training5.yml\n",
            "CHK3\t      Datasets3\t\t     pretrained_models\t       training6.yml\n",
            "CHK4\t      Datasets4\t\t     __pycache__\t       training7.yml\n",
            "CHK5\t      Datasets5\t\t     README.md\t\t       training_Nov.yml\n",
            "CHK6\t      evaluate_GOPRO_HIDE.m  Result\t\t       training.yml\n",
            "config.py     evaluate_RealBlur.py   test.py\t\t       train.py\n",
            "data_RGB.py   Input\t\t     training2.yml\t       utils\n"
          ]
        }
      ],
      "source": [
        "os.getcwd()\n",
        "!ls"
      ]
    },
    {
      "cell_type": "markdown",
      "source": [
        "**3)** Install required packages:"
      ],
      "metadata": {
        "id": "2PCSPQ54B9eR"
      }
    },
    {
      "cell_type": "code",
      "execution_count": null,
      "metadata": {
        "colab": {
          "base_uri": "https://localhost:8080/"
        },
        "id": "q09hm5U-jG-4",
        "outputId": "e3294d0c-64eb-4dd2-9bc2-2017ef1651df"
      },
      "outputs": [
        {
          "name": "stdout",
          "output_type": "stream",
          "text": [
            "Looking in indexes: https://pypi.org/simple, https://us-python.pkg.dev/colab-wheels/public/simple/\n",
            "Collecting yacs\n",
            "  Downloading yacs-0.1.8-py3-none-any.whl (14 kB)\n",
            "Requirement already satisfied: PyYAML in /usr/local/lib/python3.8/dist-packages (from yacs) (6.0)\n",
            "Installing collected packages: yacs\n",
            "Successfully installed yacs-0.1.8\n"
          ]
        }
      ],
      "source": [
        "!pip install yacs"
      ]
    },
    {
      "cell_type": "code",
      "execution_count": null,
      "metadata": {
        "colab": {
          "base_uri": "https://localhost:8080/"
        },
        "id": "6eN49YQojnVo",
        "outputId": "a87ecd31-04d8-4760-bc40-dffd10fa9876"
      },
      "outputs": [
        {
          "name": "stdout",
          "output_type": "stream",
          "text": [
            "Looking in indexes: https://pypi.org/simple, https://us-python.pkg.dev/colab-wheels/public/simple/\n",
            "Collecting warmup-scheduler\n",
            "  Downloading warmup_scheduler-0.3.tar.gz (2.1 kB)\n",
            "Building wheels for collected packages: warmup-scheduler\n",
            "  Building wheel for warmup-scheduler (setup.py) ... \u001b[?25l\u001b[?25hdone\n",
            "  Created wheel for warmup-scheduler: filename=warmup_scheduler-0.3-py3-none-any.whl size=2983 sha256=ac4e62fa758dc65f71b31107f3e0ef9814597436a1361d32cb2e8bb00f9acf42\n",
            "  Stored in directory: /root/.cache/pip/wheels/f2/ce/4a/215c4f0add432420ff90fe04656bf2664ddfac7302e2b6fe51\n",
            "Successfully built warmup-scheduler\n",
            "Installing collected packages: warmup-scheduler\n",
            "Successfully installed warmup-scheduler-0.3\n"
          ]
        }
      ],
      "source": [
        "!pip install warmup-scheduler"
      ]
    },
    {
      "cell_type": "markdown",
      "source": [
        "**4)** The .yml file includes the training hyperparameters (patch size, batch size, learning rate, etc.). Inaddition to those, the directories of the initial model and the dataset is also included."
      ],
      "metadata": {
        "id": "6HgDKLN_CEco"
      }
    },
    {
      "cell_type": "code",
      "execution_count": null,
      "metadata": {
        "id": "JV_smtAVVzr6"
      },
      "outputs": [],
      "source": [
        "from config import Config \n",
        "opt = Config('training7.yml')\n",
        "\n",
        "gpus = ','.join([str(i) for i in opt.GPU])\n",
        "os.environ[\"CUDA_DEVICE_ORDER\"] = \"PCI_BUS_ID\"\n",
        "os.environ[\"CUDA_VISIBLE_DEVICES\"] = gpus\n",
        "\n",
        "import torch\n",
        "torch.backends.cudnn.benchmark = True\n",
        "\n",
        "import torch.nn as nn\n",
        "import torch.nn.functional as F\n",
        "import torch.optim as optim\n",
        "from torch.utils.data import DataLoader\n",
        "\n",
        "import random\n",
        "import time\n",
        "import numpy as np\n",
        "\n",
        "import utils\n",
        "from data_RGB import get_training_data, get_validation_data\n",
        "from MPRNet import MPRNet\n",
        "import losses\n",
        "from warmup_scheduler import GradualWarmupScheduler\n",
        "from tqdm import tqdm\n",
        "from pdb import set_trace as stx"
      ]
    },
    {
      "cell_type": "markdown",
      "source": [
        "**5)** As mentioned, the PNSR calculation we use exploits random patches from the image. To make this calculation repetitive, we set the random seeds to fixed values to avoid changes each time we run the code:"
      ],
      "metadata": {
        "id": "xdHE5VirCS3I"
      }
    },
    {
      "cell_type": "code",
      "execution_count": null,
      "metadata": {
        "id": "5NwUa8GIjO6v"
      },
      "outputs": [],
      "source": [
        "\n",
        "######### Set Seeds ###########\n",
        "random.seed(1234)\n",
        "np.random.seed(1234)\n",
        "torch.manual_seed(1234)\n",
        "torch.cuda.manual_seed_all(1234)\n",
        "\n",
        "start_epoch = 1\n",
        "mode = opt.MODEL.MODE\n",
        "session = opt.MODEL.SESSION\n",
        "\n",
        "result_dir = os.path.join(opt.TRAINING.SAVE_DIR, mode, 'results', session)\n",
        "model_dir  = os.path.join(opt.TRAINING.SAVE_DIR, mode, 'models',  session)\n",
        "\n",
        "utils.mkdir(result_dir)\n",
        "utils.mkdir(model_dir)\n",
        "\n",
        "train_dir = opt.TRAINING.TRAIN_DIR\n",
        "val_dir   = opt.TRAINING.VAL_DIR"
      ]
    },
    {
      "cell_type": "code",
      "execution_count": null,
      "metadata": {
        "id": "pCBwtyBWI-_h"
      },
      "outputs": [],
      "source": [
        "import cv2\n",
        "import os\n",
        "\n",
        "def load_images_from_folder(folder):\n",
        "    images = []\n",
        "    for filename in os.listdir(folder):\n",
        "        img = cv2.imread(os.path.join(folder,filename))\n",
        "        if img is not None:\n",
        "            # image_rgb = cv2.cvtColor(img, cv2.COLOR_GRAY2RGB) \n",
        "            # images.append(image_rgb)\\\n",
        "            images.append(img)\n",
        "    return images"
      ]
    },
    {
      "cell_type": "markdown",
      "source": [
        "**6)** Find the validation and training datasets directories based on the given \".yml\" file, creating the dataloaders, and definding the model + optimizer."
      ],
      "metadata": {
        "id": "X7ugeaJ1Caj7"
      }
    },
    {
      "cell_type": "code",
      "execution_count": null,
      "metadata": {
        "colab": {
          "base_uri": "https://localhost:8080/"
        },
        "id": "4pKLxz7hZP9a",
        "outputId": "1463000c-9615-4b03-cb87-2b53877f8da5"
      },
      "outputs": [
        {
          "name": "stderr",
          "output_type": "stream",
          "text": [
            "/usr/local/lib/python3.8/dist-packages/torch/optim/lr_scheduler.py:138: UserWarning: Detected call of `lr_scheduler.step()` before `optimizer.step()`. In PyTorch 1.1.0 and later, you should call them in the opposite order: `optimizer.step()` before `lr_scheduler.step()`.  Failure to do this will result in PyTorch skipping the first value of the learning rate schedule. See more details at https://pytorch.org/docs/stable/optim.html#how-to-adjust-learning-rate\n",
            "  warnings.warn(\"Detected call of `lr_scheduler.step()` before `optimizer.step()`. \"\n"
          ]
        },
        {
          "name": "stdout",
          "output_type": "stream",
          "text": [
            "------------------------------------------------------------------------------\n",
            "==> Resuming Training with learning rate: 3.3333333333333335e-05\n",
            "------------------------------------------------------------------------------\n"
          ]
        },
        {
          "name": "stderr",
          "output_type": "stream",
          "text": [
            "/usr/local/lib/python3.8/dist-packages/torch/utils/data/dataloader.py:554: UserWarning: This DataLoader will create 16 worker processes in total. Our suggested max number of worker in current system is 12, which is smaller than what this DataLoader is going to create. Please be aware that excessive worker creation might get DataLoader running slow or even freeze, lower the worker number to avoid potential slowness/freeze if necessary.\n",
            "  warnings.warn(_create_warning_msg(\n"
          ]
        },
        {
          "name": "stdout",
          "output_type": "stream",
          "text": [
            "===> Start Epoch 1 End Epoch 3001\n",
            "===> Loading datasets\n"
          ]
        }
      ],
      "source": [
        "# %%capture\n",
        "\n",
        "######### Model ###########\n",
        "model_restoration = MPRNet()\n",
        "model_restoration.cuda()\n",
        "\n",
        "device_ids = [i for i in range(torch.cuda.device_count())]\n",
        "if torch.cuda.device_count() > 1:\n",
        "  print(\"\\n\\nLet's use\", torch.cuda.device_count(), \"GPUs!\\n\\n\")\n",
        "\n",
        "\n",
        "new_lr = opt.OPTIM.LR_INITIAL\n",
        "\n",
        "optimizer = optim.Adam(model_restoration.parameters(), lr=new_lr, betas=(0.9, 0.999),eps=1e-8)\n",
        "\n",
        "\n",
        "######### Scheduler ###########\n",
        "warmup_epochs = 3\n",
        "scheduler_cosine = optim.lr_scheduler.CosineAnnealingLR(optimizer, opt.OPTIM.NUM_EPOCHS-warmup_epochs, eta_min=opt.OPTIM.LR_MIN)\n",
        "scheduler = GradualWarmupScheduler(optimizer, multiplier=1, total_epoch=warmup_epochs, after_scheduler=scheduler_cosine)\n",
        "scheduler.step()\n",
        "\n",
        "######### Resume ###########\n",
        "if opt.TRAINING.RESUME:\n",
        "    path_chk_rest    = utils.get_last_path(model_dir, '_latest.pth')\n",
        "    utils.load_checkpoint(model_restoration,path_chk_rest)\n",
        "    # start_epoch = utils.load_start_epoch(path_chk_rest) + 1\n",
        "    # utils.load_optim(optimizer, path_chk_rest)\n",
        "\n",
        "    for i in range(1, start_epoch):\n",
        "        scheduler.step()\n",
        "    new_lr = scheduler.get_lr()[0]\n",
        "    print('------------------------------------------------------------------------------')\n",
        "    print(\"==> Resuming Training with learning rate:\", new_lr)\n",
        "    print('------------------------------------------------------------------------------')\n",
        "\n",
        "if len(device_ids)>1:\n",
        "    model_restoration = nn.DataParallel(model_restoration, device_ids = device_ids)\n",
        "\n",
        "######### Loss ###########\n",
        "criterion_char = losses.CharbonnierLoss()\n",
        "criterion_edge = losses.EdgeLoss()\n",
        "\n",
        "######### DataLoaders ###########\n",
        "train_dataset = get_training_data(train_dir, {'patch_size':opt.TRAINING.TRAIN_PS})\n",
        "train_loader = DataLoader(dataset=train_dataset, batch_size=opt.OPTIM.BATCH_SIZE, shuffle=True, num_workers=16, drop_last=False, pin_memory=True)\n",
        "\n",
        "val_dataset = get_validation_data(val_dir, {'patch_size':opt.TRAINING.VAL_PS})\n",
        "val_loader = DataLoader(dataset=val_dataset, batch_size=16, shuffle=False, num_workers=8, drop_last=False, pin_memory=True)\n",
        "\n",
        "print('===> Start Epoch {} End Epoch {}'.format(start_epoch,opt.OPTIM.NUM_EPOCHS + 1))\n",
        "print('===> Loading datasets')"
      ]
    },
    {
      "cell_type": "markdown",
      "source": [
        "**7)** Train:\n",
        "\n",
        "There is a section in the following code that freezes the sections of the network we want to fix:\n",
        "\n",
        "\n",
        "```\n",
        "for name, child in model_restoration.named_children():\n",
        "        if name not in no_grad:\n",
        "            for param in child.parameters():\n",
        "                param.requires_grad = True\n",
        "        else:\n",
        "            for param in child.parameters():\n",
        "                param.requires_grad = False\n",
        "```\n",
        "\n",
        "Other parts are similar to what is mentioned for fine-tuning:\n"
      ],
      "metadata": {
        "id": "0sOHju5cCsvM"
      }
    },
    {
      "cell_type": "code",
      "execution_count": null,
      "metadata": {
        "colab": {
          "base_uri": "https://localhost:8080/",
          "height": 1000
        },
        "id": "bg3pZlYta5a6",
        "outputId": "771dfb0e-0597-4a9c-e0ef-a34d4ab989ce"
      },
      "outputs": [
        {
          "metadata": {
            "tags": null
          },
          "name": "stderr",
          "output_type": "stream",
          "text": [
            "100%|██████████| 175/175 [01:49<00:00,  1.60it/s]\n"
          ]
        },
        {
          "metadata": {
            "tags": null
          },
          "name": "stdout",
          "output_type": "stream",
          "text": [
            "------------------------------------------------------------------\n",
            "Epoch: 1\tTime: 109.6862\tLoss: 7.5871\tLearningRate 0.000067\n",
            "------------------------------------------------------------------\n"
          ]
        },
        {
          "metadata": {
            "tags": null
          },
          "name": "stderr",
          "output_type": "stream",
          "text": [
            "100%|██████████| 175/175 [01:36<00:00,  1.81it/s]\n"
          ]
        },
        {
          "metadata": {
            "tags": null
          },
          "name": "stdout",
          "output_type": "stream",
          "text": [
            "[epoch 2 PSNR: 31.6857 --- best_epoch 2 Best_PSNR 31.6857]\n",
            "------------------------------------------------------------------\n",
            "Epoch: 2\tTime: 131.2333\tLoss: 7.7304\tLearningRate 0.000100\n",
            "------------------------------------------------------------------\n"
          ]
        },
        {
          "metadata": {
            "tags": null
          },
          "name": "stderr",
          "output_type": "stream",
          "text": [
            "100%|██████████| 175/175 [01:36<00:00,  1.80it/s]\n",
            "/usr/local/lib/python3.8/dist-packages/torch/optim/lr_scheduler.py:807: UserWarning: To get the last learning rate computed by the scheduler, please use `get_last_lr()`.\n",
            "  warnings.warn(\"To get the last learning rate computed by the scheduler, \"\n"
          ]
        },
        {
          "metadata": {
            "tags": null
          },
          "name": "stdout",
          "output_type": "stream",
          "text": [
            "------------------------------------------------------------------\n",
            "Epoch: 3\tTime: 96.9841\tLoss: 7.6448\tLearningRate 0.000100\n",
            "------------------------------------------------------------------\n"
          ]
        },
        {
          "metadata": {
            "tags": null
          },
          "name": "stderr",
          "output_type": "stream",
          "text": [
            "100%|██████████| 175/175 [01:36<00:00,  1.81it/s]\n"
          ]
        },
        {
          "metadata": {
            "tags": null
          },
          "name": "stdout",
          "output_type": "stream",
          "text": [
            "[epoch 4 PSNR: 31.6786 --- best_epoch 2 Best_PSNR 31.6857]\n",
            "------------------------------------------------------------------\n",
            "Epoch: 4\tTime: 108.5236\tLoss: 7.7651\tLearningRate 0.000100\n",
            "------------------------------------------------------------------\n"
          ]
        },
        {
          "metadata": {
            "tags": null
          },
          "name": "stderr",
          "output_type": "stream",
          "text": [
            "100%|██████████| 175/175 [01:36<00:00,  1.81it/s]\n"
          ]
        },
        {
          "metadata": {
            "tags": null
          },
          "name": "stdout",
          "output_type": "stream",
          "text": [
            "------------------------------------------------------------------\n",
            "Epoch: 5\tTime: 96.9159\tLoss: 7.6370\tLearningRate 0.000100\n",
            "------------------------------------------------------------------\n"
          ]
        },
        {
          "metadata": {
            "tags": null
          },
          "name": "stderr",
          "output_type": "stream",
          "text": [
            "100%|██████████| 175/175 [01:36<00:00,  1.81it/s]\n"
          ]
        },
        {
          "metadata": {
            "tags": null
          },
          "name": "stdout",
          "output_type": "stream",
          "text": [
            "[epoch 6 PSNR: 31.7157 --- best_epoch 6 Best_PSNR 31.7157]\n",
            "------------------------------------------------------------------\n",
            "Epoch: 6\tTime: 108.6557\tLoss: 7.5452\tLearningRate 0.000100\n",
            "------------------------------------------------------------------\n"
          ]
        },
        {
          "metadata": {
            "tags": null
          },
          "name": "stderr",
          "output_type": "stream",
          "text": [
            "100%|██████████| 175/175 [01:36<00:00,  1.81it/s]\n"
          ]
        },
        {
          "metadata": {
            "tags": null
          },
          "name": "stdout",
          "output_type": "stream",
          "text": [
            "------------------------------------------------------------------\n",
            "Epoch: 7\tTime: 96.7871\tLoss: 7.7945\tLearningRate 0.000100\n",
            "------------------------------------------------------------------\n"
          ]
        },
        {
          "metadata": {
            "tags": null
          },
          "name": "stderr",
          "output_type": "stream",
          "text": [
            "100%|██████████| 175/175 [01:36<00:00,  1.81it/s]\n"
          ]
        },
        {
          "metadata": {
            "tags": null
          },
          "name": "stdout",
          "output_type": "stream",
          "text": [
            "[epoch 8 PSNR: 31.6949 --- best_epoch 6 Best_PSNR 31.7157]\n",
            "------------------------------------------------------------------\n",
            "Epoch: 8\tTime: 108.0691\tLoss: 7.4851\tLearningRate 0.000100\n",
            "------------------------------------------------------------------\n"
          ]
        },
        {
          "metadata": {
            "tags": null
          },
          "name": "stderr",
          "output_type": "stream",
          "text": [
            "100%|██████████| 175/175 [01:36<00:00,  1.81it/s]\n"
          ]
        },
        {
          "metadata": {
            "tags": null
          },
          "name": "stdout",
          "output_type": "stream",
          "text": [
            "------------------------------------------------------------------\n",
            "Epoch: 9\tTime: 96.7167\tLoss: 7.7333\tLearningRate 0.000100\n",
            "------------------------------------------------------------------\n"
          ]
        },
        {
          "metadata": {
            "tags": null
          },
          "name": "stderr",
          "output_type": "stream",
          "text": [
            "100%|██████████| 175/175 [01:36<00:00,  1.81it/s]\n"
          ]
        },
        {
          "metadata": {
            "tags": null
          },
          "name": "stdout",
          "output_type": "stream",
          "text": [
            "[epoch 10 PSNR: 31.6904 --- best_epoch 6 Best_PSNR 31.7157]\n",
            "------------------------------------------------------------------\n",
            "Epoch: 10\tTime: 108.0693\tLoss: 7.5402\tLearningRate 0.000100\n",
            "------------------------------------------------------------------\n"
          ]
        },
        {
          "metadata": {
            "tags": null
          },
          "name": "stderr",
          "output_type": "stream",
          "text": [
            "100%|██████████| 175/175 [01:36<00:00,  1.81it/s]\n"
          ]
        },
        {
          "metadata": {
            "tags": null
          },
          "name": "stdout",
          "output_type": "stream",
          "text": [
            "------------------------------------------------------------------\n",
            "Epoch: 11\tTime: 96.8610\tLoss: 7.5637\tLearningRate 0.000100\n",
            "------------------------------------------------------------------\n"
          ]
        },
        {
          "metadata": {
            "tags": null
          },
          "name": "stderr",
          "output_type": "stream",
          "text": [
            "100%|██████████| 175/175 [01:36<00:00,  1.81it/s]\n"
          ]
        },
        {
          "metadata": {
            "tags": null
          },
          "name": "stdout",
          "output_type": "stream",
          "text": [
            "[epoch 12 PSNR: 31.7309 --- best_epoch 12 Best_PSNR 31.7309]\n",
            "------------------------------------------------------------------\n",
            "Epoch: 12\tTime: 102.4803\tLoss: 7.4441\tLearningRate 0.000100\n",
            "------------------------------------------------------------------\n"
          ]
        },
        {
          "metadata": {
            "tags": null
          },
          "name": "stderr",
          "output_type": "stream",
          "text": [
            "100%|██████████| 175/175 [01:36<00:00,  1.81it/s]\n"
          ]
        },
        {
          "metadata": {
            "tags": null
          },
          "name": "stdout",
          "output_type": "stream",
          "text": [
            "------------------------------------------------------------------\n",
            "Epoch: 13\tTime: 96.6571\tLoss: 7.5978\tLearningRate 0.000100\n",
            "------------------------------------------------------------------\n"
          ]
        },
        {
          "metadata": {
            "tags": null
          },
          "name": "stderr",
          "output_type": "stream",
          "text": [
            "100%|██████████| 175/175 [01:36<00:00,  1.81it/s]\n"
          ]
        },
        {
          "metadata": {
            "tags": null
          },
          "name": "stdout",
          "output_type": "stream",
          "text": [
            "[epoch 14 PSNR: 31.7394 --- best_epoch 14 Best_PSNR 31.7394]\n",
            "------------------------------------------------------------------\n",
            "Epoch: 14\tTime: 102.4927\tLoss: 7.5746\tLearningRate 0.000100\n",
            "------------------------------------------------------------------\n"
          ]
        },
        {
          "metadata": {
            "tags": null
          },
          "name": "stderr",
          "output_type": "stream",
          "text": [
            "100%|██████████| 175/175 [01:36<00:00,  1.81it/s]\n"
          ]
        },
        {
          "metadata": {
            "tags": null
          },
          "name": "stdout",
          "output_type": "stream",
          "text": [
            "------------------------------------------------------------------\n",
            "Epoch: 15\tTime: 96.7644\tLoss: 7.4595\tLearningRate 0.000100\n",
            "------------------------------------------------------------------\n"
          ]
        },
        {
          "metadata": {
            "tags": null
          },
          "name": "stderr",
          "output_type": "stream",
          "text": [
            "100%|██████████| 175/175 [01:36<00:00,  1.81it/s]\n"
          ]
        },
        {
          "metadata": {
            "tags": null
          },
          "name": "stdout",
          "output_type": "stream",
          "text": [
            "[epoch 16 PSNR: 31.6962 --- best_epoch 14 Best_PSNR 31.7394]\n",
            "------------------------------------------------------------------\n",
            "Epoch: 16\tTime: 101.7199\tLoss: 7.6753\tLearningRate 0.000100\n",
            "------------------------------------------------------------------\n"
          ]
        },
        {
          "metadata": {
            "tags": null
          },
          "name": "stderr",
          "output_type": "stream",
          "text": [
            "100%|██████████| 175/175 [01:36<00:00,  1.81it/s]\n"
          ]
        },
        {
          "metadata": {
            "tags": null
          },
          "name": "stdout",
          "output_type": "stream",
          "text": [
            "------------------------------------------------------------------\n",
            "Epoch: 17\tTime: 96.7203\tLoss: 7.6331\tLearningRate 0.000100\n",
            "------------------------------------------------------------------\n"
          ]
        },
        {
          "metadata": {
            "tags": null
          },
          "name": "stderr",
          "output_type": "stream",
          "text": [
            "100%|██████████| 175/175 [01:36<00:00,  1.81it/s]\n"
          ]
        },
        {
          "metadata": {
            "tags": null
          },
          "name": "stdout",
          "output_type": "stream",
          "text": [
            "[epoch 18 PSNR: 31.7522 --- best_epoch 18 Best_PSNR 31.7522]\n",
            "------------------------------------------------------------------\n",
            "Epoch: 18\tTime: 102.3566\tLoss: 7.7219\tLearningRate 0.000100\n",
            "------------------------------------------------------------------\n"
          ]
        },
        {
          "metadata": {
            "tags": null
          },
          "name": "stderr",
          "output_type": "stream",
          "text": [
            "100%|██████████| 175/175 [01:36<00:00,  1.81it/s]\n"
          ]
        },
        {
          "metadata": {
            "tags": null
          },
          "name": "stdout",
          "output_type": "stream",
          "text": [
            "------------------------------------------------------------------\n",
            "Epoch: 19\tTime: 96.9154\tLoss: 7.5549\tLearningRate 0.000100\n",
            "------------------------------------------------------------------\n"
          ]
        },
        {
          "metadata": {
            "tags": null
          },
          "name": "stderr",
          "output_type": "stream",
          "text": [
            "100%|██████████| 175/175 [01:36<00:00,  1.81it/s]\n"
          ]
        },
        {
          "metadata": {
            "tags": null
          },
          "name": "stdout",
          "output_type": "stream",
          "text": [
            "[epoch 20 PSNR: 31.7660 --- best_epoch 20 Best_PSNR 31.7660]\n",
            "------------------------------------------------------------------\n",
            "Epoch: 20\tTime: 102.3927\tLoss: 7.6447\tLearningRate 0.000100\n",
            "------------------------------------------------------------------\n"
          ]
        },
        {
          "metadata": {
            "tags": null
          },
          "name": "stderr",
          "output_type": "stream",
          "text": [
            "100%|██████████| 175/175 [01:36<00:00,  1.81it/s]\n"
          ]
        },
        {
          "metadata": {
            "tags": null
          },
          "name": "stdout",
          "output_type": "stream",
          "text": [
            "------------------------------------------------------------------\n",
            "Epoch: 21\tTime: 96.9550\tLoss: 7.4499\tLearningRate 0.000100\n",
            "------------------------------------------------------------------\n"
          ]
        },
        {
          "metadata": {
            "tags": null
          },
          "name": "stderr",
          "output_type": "stream",
          "text": [
            "100%|██████████| 175/175 [01:36<00:00,  1.81it/s]\n"
          ]
        },
        {
          "metadata": {
            "tags": null
          },
          "name": "stdout",
          "output_type": "stream",
          "text": [
            "[epoch 22 PSNR: 31.7717 --- best_epoch 22 Best_PSNR 31.7717]\n",
            "------------------------------------------------------------------\n",
            "Epoch: 22\tTime: 102.5049\tLoss: 7.5709\tLearningRate 0.000100\n",
            "------------------------------------------------------------------\n"
          ]
        },
        {
          "metadata": {
            "tags": null
          },
          "name": "stderr",
          "output_type": "stream",
          "text": [
            "100%|██████████| 175/175 [01:36<00:00,  1.81it/s]\n"
          ]
        },
        {
          "metadata": {
            "tags": null
          },
          "name": "stdout",
          "output_type": "stream",
          "text": [
            "------------------------------------------------------------------\n",
            "Epoch: 23\tTime: 96.8959\tLoss: 7.5217\tLearningRate 0.000100\n",
            "------------------------------------------------------------------\n"
          ]
        },
        {
          "metadata": {
            "tags": null
          },
          "name": "stderr",
          "output_type": "stream",
          "text": [
            "100%|██████████| 175/175 [01:36<00:00,  1.81it/s]\n"
          ]
        },
        {
          "metadata": {
            "tags": null
          },
          "name": "stdout",
          "output_type": "stream",
          "text": [
            "[epoch 24 PSNR: 31.7715 --- best_epoch 22 Best_PSNR 31.7717]\n",
            "------------------------------------------------------------------\n",
            "Epoch: 24\tTime: 101.8044\tLoss: 7.5747\tLearningRate 0.000100\n",
            "------------------------------------------------------------------\n"
          ]
        },
        {
          "metadata": {
            "tags": null
          },
          "name": "stderr",
          "output_type": "stream",
          "text": [
            "100%|██████████| 175/175 [01:36<00:00,  1.81it/s]\n"
          ]
        },
        {
          "metadata": {
            "tags": null
          },
          "name": "stdout",
          "output_type": "stream",
          "text": [
            "------------------------------------------------------------------\n",
            "Epoch: 25\tTime: 96.9477\tLoss: 7.6115\tLearningRate 0.000100\n",
            "------------------------------------------------------------------\n"
          ]
        },
        {
          "metadata": {
            "tags": null
          },
          "name": "stderr",
          "output_type": "stream",
          "text": [
            "100%|██████████| 175/175 [01:36<00:00,  1.81it/s]\n"
          ]
        },
        {
          "metadata": {
            "tags": null
          },
          "name": "stdout",
          "output_type": "stream",
          "text": [
            "[epoch 26 PSNR: 31.7762 --- best_epoch 26 Best_PSNR 31.7762]\n",
            "------------------------------------------------------------------\n",
            "Epoch: 26\tTime: 102.4717\tLoss: 7.6009\tLearningRate 0.000100\n",
            "------------------------------------------------------------------\n"
          ]
        },
        {
          "metadata": {
            "tags": null
          },
          "name": "stderr",
          "output_type": "stream",
          "text": [
            "100%|██████████| 175/175 [01:36<00:00,  1.80it/s]\n"
          ]
        },
        {
          "metadata": {
            "tags": null
          },
          "name": "stdout",
          "output_type": "stream",
          "text": [
            "------------------------------------------------------------------\n",
            "Epoch: 27\tTime: 96.9753\tLoss: 7.5162\tLearningRate 0.000100\n",
            "------------------------------------------------------------------\n"
          ]
        },
        {
          "metadata": {
            "tags": null
          },
          "name": "stderr",
          "output_type": "stream",
          "text": [
            "100%|██████████| 175/175 [01:36<00:00,  1.81it/s]\n"
          ]
        },
        {
          "metadata": {
            "tags": null
          },
          "name": "stdout",
          "output_type": "stream",
          "text": [
            "[epoch 28 PSNR: 31.7582 --- best_epoch 26 Best_PSNR 31.7762]\n",
            "------------------------------------------------------------------\n",
            "Epoch: 28\tTime: 101.9278\tLoss: 7.6404\tLearningRate 0.000100\n",
            "------------------------------------------------------------------\n"
          ]
        },
        {
          "metadata": {
            "tags": null
          },
          "name": "stderr",
          "output_type": "stream",
          "text": [
            "100%|██████████| 175/175 [01:36<00:00,  1.81it/s]\n"
          ]
        },
        {
          "metadata": {
            "tags": null
          },
          "name": "stdout",
          "output_type": "stream",
          "text": [
            "------------------------------------------------------------------\n",
            "Epoch: 29\tTime: 96.8648\tLoss: 7.7365\tLearningRate 0.000100\n",
            "------------------------------------------------------------------\n"
          ]
        },
        {
          "metadata": {
            "tags": null
          },
          "name": "stderr",
          "output_type": "stream",
          "text": [
            "100%|██████████| 175/175 [01:36<00:00,  1.81it/s]\n"
          ]
        },
        {
          "metadata": {
            "tags": null
          },
          "name": "stdout",
          "output_type": "stream",
          "text": [
            "[epoch 30 PSNR: 31.7831 --- best_epoch 30 Best_PSNR 31.7831]\n",
            "------------------------------------------------------------------\n",
            "Epoch: 30\tTime: 102.5168\tLoss: 7.6274\tLearningRate 0.000100\n",
            "------------------------------------------------------------------\n"
          ]
        },
        {
          "metadata": {
            "tags": null
          },
          "name": "stderr",
          "output_type": "stream",
          "text": [
            "100%|██████████| 175/175 [01:36<00:00,  1.80it/s]\n"
          ]
        },
        {
          "metadata": {
            "tags": null
          },
          "name": "stdout",
          "output_type": "stream",
          "text": [
            "------------------------------------------------------------------\n",
            "Epoch: 31\tTime: 96.9995\tLoss: 7.5239\tLearningRate 0.000100\n",
            "------------------------------------------------------------------\n"
          ]
        },
        {
          "metadata": {
            "tags": null
          },
          "name": "stderr",
          "output_type": "stream",
          "text": [
            "100%|██████████| 175/175 [01:36<00:00,  1.81it/s]\n"
          ]
        },
        {
          "metadata": {
            "tags": null
          },
          "name": "stdout",
          "output_type": "stream",
          "text": [
            "[epoch 32 PSNR: 31.7880 --- best_epoch 32 Best_PSNR 31.7880]\n",
            "------------------------------------------------------------------\n",
            "Epoch: 32\tTime: 102.6148\tLoss: 7.5423\tLearningRate 0.000100\n",
            "------------------------------------------------------------------\n"
          ]
        },
        {
          "metadata": {
            "tags": null
          },
          "name": "stderr",
          "output_type": "stream",
          "text": [
            "100%|██████████| 175/175 [01:36<00:00,  1.80it/s]\n"
          ]
        },
        {
          "metadata": {
            "tags": null
          },
          "name": "stdout",
          "output_type": "stream",
          "text": [
            "------------------------------------------------------------------\n",
            "Epoch: 33\tTime: 96.9691\tLoss: 7.5470\tLearningRate 0.000100\n",
            "------------------------------------------------------------------\n"
          ]
        },
        {
          "metadata": {
            "tags": null
          },
          "name": "stderr",
          "output_type": "stream",
          "text": [
            "100%|██████████| 175/175 [01:36<00:00,  1.81it/s]\n"
          ]
        },
        {
          "metadata": {
            "tags": null
          },
          "name": "stdout",
          "output_type": "stream",
          "text": [
            "[epoch 34 PSNR: 31.8077 --- best_epoch 34 Best_PSNR 31.8077]\n",
            "------------------------------------------------------------------\n",
            "Epoch: 34\tTime: 102.4789\tLoss: 7.4880\tLearningRate 0.000100\n",
            "------------------------------------------------------------------\n"
          ]
        },
        {
          "metadata": {
            "tags": null
          },
          "name": "stderr",
          "output_type": "stream",
          "text": [
            "100%|██████████| 175/175 [01:37<00:00,  1.80it/s]\n"
          ]
        },
        {
          "metadata": {
            "tags": null
          },
          "name": "stdout",
          "output_type": "stream",
          "text": [
            "------------------------------------------------------------------\n",
            "Epoch: 35\tTime: 97.0413\tLoss: 7.6429\tLearningRate 0.000100\n",
            "------------------------------------------------------------------\n"
          ]
        },
        {
          "metadata": {
            "tags": null
          },
          "name": "stderr",
          "output_type": "stream",
          "text": [
            "100%|██████████| 175/175 [01:37<00:00,  1.80it/s]\n"
          ]
        },
        {
          "metadata": {
            "tags": null
          },
          "name": "stdout",
          "output_type": "stream",
          "text": [
            "[epoch 36 PSNR: 31.8095 --- best_epoch 36 Best_PSNR 31.8095]\n",
            "------------------------------------------------------------------\n",
            "Epoch: 36\tTime: 102.7102\tLoss: 7.5250\tLearningRate 0.000100\n",
            "------------------------------------------------------------------\n"
          ]
        },
        {
          "metadata": {
            "tags": null
          },
          "name": "stderr",
          "output_type": "stream",
          "text": [
            "100%|██████████| 175/175 [01:36<00:00,  1.81it/s]\n"
          ]
        },
        {
          "metadata": {
            "tags": null
          },
          "name": "stdout",
          "output_type": "stream",
          "text": [
            "------------------------------------------------------------------\n",
            "Epoch: 37\tTime: 96.9338\tLoss: 7.4542\tLearningRate 0.000100\n",
            "------------------------------------------------------------------\n"
          ]
        },
        {
          "metadata": {
            "tags": null
          },
          "name": "stderr",
          "output_type": "stream",
          "text": [
            "100%|██████████| 175/175 [01:37<00:00,  1.80it/s]\n"
          ]
        },
        {
          "metadata": {
            "tags": null
          },
          "name": "stdout",
          "output_type": "stream",
          "text": [
            "[epoch 38 PSNR: 31.8059 --- best_epoch 36 Best_PSNR 31.8095]\n",
            "------------------------------------------------------------------\n",
            "Epoch: 38\tTime: 102.1397\tLoss: 7.6838\tLearningRate 0.000100\n",
            "------------------------------------------------------------------\n"
          ]
        },
        {
          "metadata": {
            "tags": null
          },
          "name": "stderr",
          "output_type": "stream",
          "text": [
            "100%|██████████| 175/175 [01:36<00:00,  1.81it/s]\n"
          ]
        },
        {
          "metadata": {
            "tags": null
          },
          "name": "stdout",
          "output_type": "stream",
          "text": [
            "------------------------------------------------------------------\n",
            "Epoch: 39\tTime: 96.8289\tLoss: 7.3767\tLearningRate 0.000100\n",
            "------------------------------------------------------------------\n"
          ]
        },
        {
          "metadata": {
            "tags": null
          },
          "name": "stderr",
          "output_type": "stream",
          "text": [
            "100%|██████████| 175/175 [01:36<00:00,  1.81it/s]\n"
          ]
        },
        {
          "metadata": {
            "tags": null
          },
          "name": "stdout",
          "output_type": "stream",
          "text": [
            "[epoch 40 PSNR: 31.8001 --- best_epoch 36 Best_PSNR 31.8095]\n",
            "------------------------------------------------------------------\n",
            "Epoch: 40\tTime: 101.9052\tLoss: 7.5645\tLearningRate 0.000100\n",
            "------------------------------------------------------------------\n"
          ]
        },
        {
          "metadata": {
            "tags": null
          },
          "name": "stderr",
          "output_type": "stream",
          "text": [
            "100%|██████████| 175/175 [01:36<00:00,  1.81it/s]\n"
          ]
        },
        {
          "metadata": {
            "tags": null
          },
          "name": "stdout",
          "output_type": "stream",
          "text": [
            "------------------------------------------------------------------\n",
            "Epoch: 41\tTime: 96.9027\tLoss: 7.5450\tLearningRate 0.000100\n",
            "------------------------------------------------------------------\n"
          ]
        },
        {
          "metadata": {
            "tags": null
          },
          "name": "stderr",
          "output_type": "stream",
          "text": [
            "100%|██████████| 175/175 [01:37<00:00,  1.80it/s]\n"
          ]
        },
        {
          "metadata": {
            "tags": null
          },
          "name": "stdout",
          "output_type": "stream",
          "text": [
            "[epoch 42 PSNR: 31.8093 --- best_epoch 36 Best_PSNR 31.8095]\n",
            "------------------------------------------------------------------\n",
            "Epoch: 42\tTime: 102.1929\tLoss: 7.5752\tLearningRate 0.000100\n",
            "------------------------------------------------------------------\n"
          ]
        },
        {
          "metadata": {
            "tags": null
          },
          "name": "stderr",
          "output_type": "stream",
          "text": [
            "100%|██████████| 175/175 [01:36<00:00,  1.81it/s]\n"
          ]
        },
        {
          "metadata": {
            "tags": null
          },
          "name": "stdout",
          "output_type": "stream",
          "text": [
            "------------------------------------------------------------------\n",
            "Epoch: 43\tTime: 96.9260\tLoss: 7.4314\tLearningRate 0.000100\n",
            "------------------------------------------------------------------\n"
          ]
        },
        {
          "metadata": {
            "tags": null
          },
          "name": "stderr",
          "output_type": "stream",
          "text": [
            "100%|██████████| 175/175 [01:36<00:00,  1.81it/s]\n"
          ]
        },
        {
          "metadata": {
            "tags": null
          },
          "name": "stdout",
          "output_type": "stream",
          "text": [
            "[epoch 44 PSNR: 31.8358 --- best_epoch 44 Best_PSNR 31.8358]\n",
            "------------------------------------------------------------------\n",
            "Epoch: 44\tTime: 102.4860\tLoss: 7.5445\tLearningRate 0.000100\n",
            "------------------------------------------------------------------\n"
          ]
        },
        {
          "metadata": {
            "tags": null
          },
          "name": "stderr",
          "output_type": "stream",
          "text": [
            "100%|██████████| 175/175 [01:36<00:00,  1.81it/s]\n"
          ]
        },
        {
          "metadata": {
            "tags": null
          },
          "name": "stdout",
          "output_type": "stream",
          "text": [
            "------------------------------------------------------------------\n",
            "Epoch: 45\tTime: 96.8277\tLoss: 7.5446\tLearningRate 0.000100\n",
            "------------------------------------------------------------------\n"
          ]
        },
        {
          "metadata": {
            "tags": null
          },
          "name": "stderr",
          "output_type": "stream",
          "text": [
            "100%|██████████| 175/175 [01:36<00:00,  1.81it/s]\n"
          ]
        },
        {
          "metadata": {
            "tags": null
          },
          "name": "stdout",
          "output_type": "stream",
          "text": [
            "[epoch 46 PSNR: 31.8216 --- best_epoch 44 Best_PSNR 31.8358]\n",
            "------------------------------------------------------------------\n",
            "Epoch: 46\tTime: 101.6642\tLoss: 7.3974\tLearningRate 0.000100\n",
            "------------------------------------------------------------------\n"
          ]
        },
        {
          "metadata": {
            "tags": null
          },
          "name": "stderr",
          "output_type": "stream",
          "text": [
            "100%|██████████| 175/175 [01:36<00:00,  1.81it/s]\n"
          ]
        },
        {
          "metadata": {
            "tags": null
          },
          "name": "stdout",
          "output_type": "stream",
          "text": [
            "------------------------------------------------------------------\n",
            "Epoch: 47\tTime: 96.8282\tLoss: 7.4878\tLearningRate 0.000100\n",
            "------------------------------------------------------------------\n"
          ]
        },
        {
          "metadata": {
            "tags": null
          },
          "name": "stderr",
          "output_type": "stream",
          "text": [
            "100%|██████████| 175/175 [01:36<00:00,  1.81it/s]\n"
          ]
        },
        {
          "metadata": {
            "tags": null
          },
          "name": "stdout",
          "output_type": "stream",
          "text": [
            "[epoch 48 PSNR: 31.8165 --- best_epoch 44 Best_PSNR 31.8358]\n",
            "------------------------------------------------------------------\n",
            "Epoch: 48\tTime: 101.7515\tLoss: 7.5440\tLearningRate 0.000100\n",
            "------------------------------------------------------------------\n"
          ]
        },
        {
          "metadata": {
            "tags": null
          },
          "name": "stderr",
          "output_type": "stream",
          "text": [
            "100%|██████████| 175/175 [01:36<00:00,  1.81it/s]\n"
          ]
        },
        {
          "metadata": {
            "tags": null
          },
          "name": "stdout",
          "output_type": "stream",
          "text": [
            "------------------------------------------------------------------\n",
            "Epoch: 49\tTime: 96.7877\tLoss: 7.6089\tLearningRate 0.000100\n",
            "------------------------------------------------------------------\n"
          ]
        },
        {
          "metadata": {
            "tags": null
          },
          "name": "stderr",
          "output_type": "stream",
          "text": [
            "100%|██████████| 175/175 [01:36<00:00,  1.81it/s]\n"
          ]
        },
        {
          "metadata": {
            "tags": null
          },
          "name": "stdout",
          "output_type": "stream",
          "text": [
            "[epoch 50 PSNR: 31.8471 --- best_epoch 50 Best_PSNR 31.8471]\n",
            "------------------------------------------------------------------\n",
            "Epoch: 50\tTime: 102.5180\tLoss: 7.5628\tLearningRate 0.000100\n",
            "------------------------------------------------------------------\n"
          ]
        },
        {
          "metadata": {
            "tags": null
          },
          "name": "stderr",
          "output_type": "stream",
          "text": [
            "100%|██████████| 175/175 [01:36<00:00,  1.81it/s]\n"
          ]
        },
        {
          "metadata": {
            "tags": null
          },
          "name": "stdout",
          "output_type": "stream",
          "text": [
            "------------------------------------------------------------------\n",
            "Epoch: 51\tTime: 96.8910\tLoss: 7.5426\tLearningRate 0.000100\n",
            "------------------------------------------------------------------\n"
          ]
        },
        {
          "metadata": {
            "tags": null
          },
          "name": "stderr",
          "output_type": "stream",
          "text": [
            "100%|██████████| 175/175 [01:36<00:00,  1.81it/s]\n"
          ]
        },
        {
          "metadata": {
            "tags": null
          },
          "name": "stdout",
          "output_type": "stream",
          "text": [
            "[epoch 52 PSNR: 31.8371 --- best_epoch 50 Best_PSNR 31.8471]\n",
            "------------------------------------------------------------------\n",
            "Epoch: 52\tTime: 101.7113\tLoss: 7.5265\tLearningRate 0.000100\n",
            "------------------------------------------------------------------\n"
          ]
        },
        {
          "metadata": {
            "tags": null
          },
          "name": "stderr",
          "output_type": "stream",
          "text": [
            "100%|██████████| 175/175 [01:36<00:00,  1.81it/s]\n"
          ]
        },
        {
          "metadata": {
            "tags": null
          },
          "name": "stdout",
          "output_type": "stream",
          "text": [
            "------------------------------------------------------------------\n",
            "Epoch: 53\tTime: 96.8705\tLoss: 7.5703\tLearningRate 0.000100\n",
            "------------------------------------------------------------------\n"
          ]
        },
        {
          "metadata": {
            "tags": null
          },
          "name": "stderr",
          "output_type": "stream",
          "text": [
            "100%|██████████| 175/175 [01:36<00:00,  1.81it/s]\n"
          ]
        },
        {
          "metadata": {
            "tags": null
          },
          "name": "stdout",
          "output_type": "stream",
          "text": [
            "[epoch 54 PSNR: 31.8221 --- best_epoch 50 Best_PSNR 31.8471]\n",
            "------------------------------------------------------------------\n",
            "Epoch: 54\tTime: 101.9109\tLoss: 7.3715\tLearningRate 0.000100\n",
            "------------------------------------------------------------------\n"
          ]
        },
        {
          "output_type": "stream",
          "name": "stderr",
          "text": [
            "100%|██████████| 175/175 [01:36<00:00,  1.81it/s]\n"
          ]
        },
        {
          "output_type": "stream",
          "name": "stdout",
          "text": [
            "------------------------------------------------------------------\n",
            "Epoch: 55\tTime: 96.9211\tLoss: 7.4122\tLearningRate 0.000100\n",
            "------------------------------------------------------------------\n"
          ]
        },
        {
          "output_type": "stream",
          "name": "stderr",
          "text": [
            "100%|██████████| 175/175 [01:36<00:00,  1.81it/s]\n"
          ]
        },
        {
          "output_type": "stream",
          "name": "stdout",
          "text": [
            "[epoch 56 PSNR: 31.8537 --- best_epoch 56 Best_PSNR 31.8537]\n",
            "------------------------------------------------------------------\n",
            "Epoch: 56\tTime: 102.6575\tLoss: 7.4047\tLearningRate 0.000100\n",
            "------------------------------------------------------------------\n"
          ]
        },
        {
          "output_type": "stream",
          "name": "stderr",
          "text": [
            "100%|██████████| 175/175 [01:36<00:00,  1.81it/s]\n"
          ]
        },
        {
          "output_type": "stream",
          "name": "stdout",
          "text": [
            "------------------------------------------------------------------\n",
            "Epoch: 57\tTime: 96.8933\tLoss: 7.4909\tLearningRate 0.000100\n",
            "------------------------------------------------------------------\n"
          ]
        },
        {
          "output_type": "stream",
          "name": "stderr",
          "text": [
            "100%|██████████| 175/175 [01:36<00:00,  1.81it/s]\n"
          ]
        },
        {
          "output_type": "stream",
          "name": "stdout",
          "text": [
            "[epoch 58 PSNR: 31.8487 --- best_epoch 56 Best_PSNR 31.8537]\n",
            "------------------------------------------------------------------\n",
            "Epoch: 58\tTime: 101.9362\tLoss: 7.3537\tLearningRate 0.000100\n",
            "------------------------------------------------------------------\n"
          ]
        },
        {
          "output_type": "stream",
          "name": "stderr",
          "text": [
            "100%|██████████| 175/175 [01:36<00:00,  1.81it/s]\n"
          ]
        },
        {
          "output_type": "stream",
          "name": "stdout",
          "text": [
            "------------------------------------------------------------------\n",
            "Epoch: 59\tTime: 96.9529\tLoss: 7.4851\tLearningRate 0.000100\n",
            "------------------------------------------------------------------\n"
          ]
        },
        {
          "output_type": "stream",
          "name": "stderr",
          "text": [
            "100%|██████████| 175/175 [01:37<00:00,  1.80it/s]\n"
          ]
        },
        {
          "output_type": "stream",
          "name": "stdout",
          "text": [
            "[epoch 60 PSNR: 31.8667 --- best_epoch 60 Best_PSNR 31.8667]\n",
            "------------------------------------------------------------------\n",
            "Epoch: 60\tTime: 102.7455\tLoss: 7.4284\tLearningRate 0.000100\n",
            "------------------------------------------------------------------\n"
          ]
        },
        {
          "output_type": "stream",
          "name": "stderr",
          "text": [
            "100%|██████████| 175/175 [01:36<00:00,  1.81it/s]\n"
          ]
        },
        {
          "output_type": "stream",
          "name": "stdout",
          "text": [
            "------------------------------------------------------------------\n",
            "Epoch: 61\tTime: 96.9623\tLoss: 7.6562\tLearningRate 0.000100\n",
            "------------------------------------------------------------------\n"
          ]
        },
        {
          "output_type": "stream",
          "name": "stderr",
          "text": [
            "100%|██████████| 175/175 [01:36<00:00,  1.81it/s]\n"
          ]
        },
        {
          "output_type": "stream",
          "name": "stdout",
          "text": [
            "[epoch 62 PSNR: 31.8498 --- best_epoch 60 Best_PSNR 31.8667]\n",
            "------------------------------------------------------------------\n",
            "Epoch: 62\tTime: 101.9252\tLoss: 7.5017\tLearningRate 0.000100\n",
            "------------------------------------------------------------------\n"
          ]
        },
        {
          "output_type": "stream",
          "name": "stderr",
          "text": [
            "100%|██████████| 175/175 [01:36<00:00,  1.81it/s]\n"
          ]
        },
        {
          "output_type": "stream",
          "name": "stdout",
          "text": [
            "------------------------------------------------------------------\n",
            "Epoch: 63\tTime: 96.9241\tLoss: 7.4884\tLearningRate 0.000100\n",
            "------------------------------------------------------------------\n"
          ]
        },
        {
          "output_type": "stream",
          "name": "stderr",
          "text": [
            "100%|██████████| 175/175 [01:36<00:00,  1.81it/s]\n"
          ]
        },
        {
          "output_type": "stream",
          "name": "stdout",
          "text": [
            "[epoch 64 PSNR: 31.8573 --- best_epoch 60 Best_PSNR 31.8667]\n",
            "------------------------------------------------------------------\n",
            "Epoch: 64\tTime: 101.8662\tLoss: 7.4076\tLearningRate 0.000100\n",
            "------------------------------------------------------------------\n"
          ]
        },
        {
          "output_type": "stream",
          "name": "stderr",
          "text": [
            "100%|██████████| 175/175 [01:36<00:00,  1.81it/s]\n"
          ]
        },
        {
          "output_type": "stream",
          "name": "stdout",
          "text": [
            "------------------------------------------------------------------\n",
            "Epoch: 65\tTime: 96.9395\tLoss: 7.5229\tLearningRate 0.000100\n",
            "------------------------------------------------------------------\n"
          ]
        },
        {
          "output_type": "stream",
          "name": "stderr",
          "text": [
            "100%|██████████| 175/175 [01:36<00:00,  1.81it/s]\n"
          ]
        },
        {
          "output_type": "stream",
          "name": "stdout",
          "text": [
            "[epoch 66 PSNR: 31.8395 --- best_epoch 60 Best_PSNR 31.8667]\n",
            "------------------------------------------------------------------\n",
            "Epoch: 66\tTime: 101.8753\tLoss: 7.2581\tLearningRate 0.000100\n",
            "------------------------------------------------------------------\n"
          ]
        },
        {
          "output_type": "stream",
          "name": "stderr",
          "text": [
            "100%|██████████| 175/175 [01:36<00:00,  1.81it/s]\n"
          ]
        },
        {
          "output_type": "stream",
          "name": "stdout",
          "text": [
            "------------------------------------------------------------------\n",
            "Epoch: 67\tTime: 96.7631\tLoss: 7.5396\tLearningRate 0.000100\n",
            "------------------------------------------------------------------\n"
          ]
        },
        {
          "output_type": "stream",
          "name": "stderr",
          "text": [
            "100%|██████████| 175/175 [01:36<00:00,  1.81it/s]\n"
          ]
        },
        {
          "output_type": "stream",
          "name": "stdout",
          "text": [
            "[epoch 68 PSNR: 31.8467 --- best_epoch 60 Best_PSNR 31.8667]\n",
            "------------------------------------------------------------------\n",
            "Epoch: 68\tTime: 101.9098\tLoss: 7.5557\tLearningRate 0.000100\n",
            "------------------------------------------------------------------\n"
          ]
        },
        {
          "output_type": "stream",
          "name": "stderr",
          "text": [
            "100%|██████████| 175/175 [01:36<00:00,  1.81it/s]\n"
          ]
        },
        {
          "output_type": "stream",
          "name": "stdout",
          "text": [
            "------------------------------------------------------------------\n",
            "Epoch: 69\tTime: 96.9001\tLoss: 7.6181\tLearningRate 0.000100\n",
            "------------------------------------------------------------------\n"
          ]
        },
        {
          "output_type": "stream",
          "name": "stderr",
          "text": [
            "100%|██████████| 175/175 [01:36<00:00,  1.81it/s]\n"
          ]
        },
        {
          "output_type": "stream",
          "name": "stdout",
          "text": [
            "[epoch 70 PSNR: 31.8724 --- best_epoch 70 Best_PSNR 31.8724]\n",
            "------------------------------------------------------------------\n",
            "Epoch: 70\tTime: 102.5203\tLoss: 7.5577\tLearningRate 0.000100\n",
            "------------------------------------------------------------------\n"
          ]
        },
        {
          "output_type": "stream",
          "name": "stderr",
          "text": [
            "100%|██████████| 175/175 [01:36<00:00,  1.81it/s]\n"
          ]
        },
        {
          "output_type": "stream",
          "name": "stdout",
          "text": [
            "------------------------------------------------------------------\n",
            "Epoch: 71\tTime: 96.7531\tLoss: 7.4192\tLearningRate 0.000100\n",
            "------------------------------------------------------------------\n"
          ]
        },
        {
          "output_type": "stream",
          "name": "stderr",
          "text": [
            "100%|██████████| 175/175 [01:36<00:00,  1.81it/s]\n"
          ]
        },
        {
          "output_type": "stream",
          "name": "stdout",
          "text": [
            "[epoch 72 PSNR: 31.8774 --- best_epoch 72 Best_PSNR 31.8774]\n",
            "------------------------------------------------------------------\n",
            "Epoch: 72\tTime: 102.4575\tLoss: 7.5389\tLearningRate 0.000100\n",
            "------------------------------------------------------------------\n"
          ]
        },
        {
          "output_type": "stream",
          "name": "stderr",
          "text": [
            "100%|██████████| 175/175 [01:36<00:00,  1.81it/s]\n"
          ]
        },
        {
          "output_type": "stream",
          "name": "stdout",
          "text": [
            "------------------------------------------------------------------\n",
            "Epoch: 73\tTime: 96.9090\tLoss: 7.6112\tLearningRate 0.000100\n",
            "------------------------------------------------------------------\n"
          ]
        },
        {
          "output_type": "stream",
          "name": "stderr",
          "text": [
            "100%|██████████| 175/175 [01:36<00:00,  1.81it/s]\n"
          ]
        },
        {
          "output_type": "stream",
          "name": "stdout",
          "text": [
            "[epoch 74 PSNR: 31.8486 --- best_epoch 72 Best_PSNR 31.8774]\n",
            "------------------------------------------------------------------\n",
            "Epoch: 74\tTime: 101.6965\tLoss: 7.3883\tLearningRate 0.000100\n",
            "------------------------------------------------------------------\n"
          ]
        },
        {
          "output_type": "stream",
          "name": "stderr",
          "text": [
            "100%|██████████| 175/175 [01:36<00:00,  1.81it/s]\n"
          ]
        },
        {
          "output_type": "stream",
          "name": "stdout",
          "text": [
            "------------------------------------------------------------------\n",
            "Epoch: 75\tTime: 96.8717\tLoss: 7.4287\tLearningRate 0.000100\n",
            "------------------------------------------------------------------\n"
          ]
        },
        {
          "output_type": "stream",
          "name": "stderr",
          "text": [
            "100%|██████████| 175/175 [01:36<00:00,  1.81it/s]\n"
          ]
        },
        {
          "output_type": "stream",
          "name": "stdout",
          "text": [
            "[epoch 76 PSNR: 31.8694 --- best_epoch 72 Best_PSNR 31.8774]\n",
            "------------------------------------------------------------------\n",
            "Epoch: 76\tTime: 101.9895\tLoss: 7.4631\tLearningRate 0.000100\n",
            "------------------------------------------------------------------\n"
          ]
        },
        {
          "output_type": "stream",
          "name": "stderr",
          "text": [
            "100%|██████████| 175/175 [01:37<00:00,  1.80it/s]\n"
          ]
        },
        {
          "output_type": "stream",
          "name": "stdout",
          "text": [
            "------------------------------------------------------------------\n",
            "Epoch: 77\tTime: 97.0587\tLoss: 7.3337\tLearningRate 0.000100\n",
            "------------------------------------------------------------------\n"
          ]
        },
        {
          "output_type": "stream",
          "name": "stderr",
          "text": [
            "100%|██████████| 175/175 [01:36<00:00,  1.81it/s]\n"
          ]
        },
        {
          "output_type": "stream",
          "name": "stdout",
          "text": [
            "[epoch 78 PSNR: 31.8925 --- best_epoch 78 Best_PSNR 31.8925]\n",
            "------------------------------------------------------------------\n",
            "Epoch: 78\tTime: 102.6785\tLoss: 7.3482\tLearningRate 0.000100\n",
            "------------------------------------------------------------------\n"
          ]
        },
        {
          "output_type": "stream",
          "name": "stderr",
          "text": [
            "100%|██████████| 175/175 [01:36<00:00,  1.81it/s]\n"
          ]
        },
        {
          "output_type": "stream",
          "name": "stdout",
          "text": [
            "------------------------------------------------------------------\n",
            "Epoch: 79\tTime: 96.9018\tLoss: 7.5704\tLearningRate 0.000100\n",
            "------------------------------------------------------------------\n"
          ]
        },
        {
          "output_type": "stream",
          "name": "stderr",
          "text": [
            "100%|██████████| 175/175 [01:36<00:00,  1.81it/s]\n"
          ]
        },
        {
          "output_type": "stream",
          "name": "stdout",
          "text": [
            "[epoch 80 PSNR: 31.8635 --- best_epoch 78 Best_PSNR 31.8925]\n",
            "------------------------------------------------------------------\n",
            "Epoch: 80\tTime: 101.9004\tLoss: 7.5180\tLearningRate 0.000100\n",
            "------------------------------------------------------------------\n"
          ]
        },
        {
          "output_type": "stream",
          "name": "stderr",
          "text": [
            "100%|██████████| 175/175 [01:37<00:00,  1.80it/s]\n"
          ]
        },
        {
          "output_type": "stream",
          "name": "stdout",
          "text": [
            "------------------------------------------------------------------\n",
            "Epoch: 81\tTime: 97.0445\tLoss: 7.5032\tLearningRate 0.000100\n",
            "------------------------------------------------------------------\n"
          ]
        },
        {
          "output_type": "stream",
          "name": "stderr",
          "text": [
            "100%|██████████| 175/175 [01:36<00:00,  1.81it/s]\n"
          ]
        },
        {
          "output_type": "stream",
          "name": "stdout",
          "text": [
            "[epoch 82 PSNR: 31.8862 --- best_epoch 78 Best_PSNR 31.8925]\n",
            "------------------------------------------------------------------\n",
            "Epoch: 82\tTime: 101.8919\tLoss: 7.4723\tLearningRate 0.000100\n",
            "------------------------------------------------------------------\n"
          ]
        },
        {
          "output_type": "stream",
          "name": "stderr",
          "text": [
            "100%|██████████| 175/175 [01:36<00:00,  1.80it/s]\n"
          ]
        },
        {
          "output_type": "stream",
          "name": "stdout",
          "text": [
            "------------------------------------------------------------------\n",
            "Epoch: 83\tTime: 96.9868\tLoss: 7.5408\tLearningRate 0.000100\n",
            "------------------------------------------------------------------\n"
          ]
        },
        {
          "output_type": "stream",
          "name": "stderr",
          "text": [
            "100%|██████████| 175/175 [01:36<00:00,  1.81it/s]\n"
          ]
        },
        {
          "output_type": "stream",
          "name": "stdout",
          "text": [
            "[epoch 84 PSNR: 31.8927 --- best_epoch 84 Best_PSNR 31.8927]\n",
            "------------------------------------------------------------------\n",
            "Epoch: 84\tTime: 103.1491\tLoss: 7.4787\tLearningRate 0.000100\n",
            "------------------------------------------------------------------\n"
          ]
        },
        {
          "output_type": "stream",
          "name": "stderr",
          "text": [
            "100%|██████████| 175/175 [01:36<00:00,  1.81it/s]\n"
          ]
        },
        {
          "output_type": "stream",
          "name": "stdout",
          "text": [
            "------------------------------------------------------------------\n",
            "Epoch: 85\tTime: 96.9501\tLoss: 7.6074\tLearningRate 0.000100\n",
            "------------------------------------------------------------------\n"
          ]
        },
        {
          "output_type": "stream",
          "name": "stderr",
          "text": [
            "100%|██████████| 175/175 [01:36<00:00,  1.81it/s]\n"
          ]
        },
        {
          "output_type": "stream",
          "name": "stdout",
          "text": [
            "[epoch 86 PSNR: 31.8840 --- best_epoch 84 Best_PSNR 31.8927]\n",
            "------------------------------------------------------------------\n",
            "Epoch: 86\tTime: 101.9009\tLoss: 7.5287\tLearningRate 0.000100\n",
            "------------------------------------------------------------------\n"
          ]
        },
        {
          "output_type": "stream",
          "name": "stderr",
          "text": [
            "100%|██████████| 175/175 [01:36<00:00,  1.81it/s]\n"
          ]
        },
        {
          "output_type": "stream",
          "name": "stdout",
          "text": [
            "------------------------------------------------------------------\n",
            "Epoch: 87\tTime: 96.8403\tLoss: 7.3389\tLearningRate 0.000100\n",
            "------------------------------------------------------------------\n"
          ]
        },
        {
          "output_type": "stream",
          "name": "stderr",
          "text": [
            "100%|██████████| 175/175 [01:36<00:00,  1.81it/s]\n"
          ]
        },
        {
          "output_type": "stream",
          "name": "stdout",
          "text": [
            "[epoch 88 PSNR: 31.8934 --- best_epoch 88 Best_PSNR 31.8934]\n",
            "------------------------------------------------------------------\n",
            "Epoch: 88\tTime: 102.3590\tLoss: 7.5207\tLearningRate 0.000100\n",
            "------------------------------------------------------------------\n"
          ]
        },
        {
          "output_type": "stream",
          "name": "stderr",
          "text": [
            "100%|██████████| 175/175 [01:36<00:00,  1.81it/s]\n"
          ]
        },
        {
          "output_type": "stream",
          "name": "stdout",
          "text": [
            "------------------------------------------------------------------\n",
            "Epoch: 89\tTime: 96.8105\tLoss: 7.4599\tLearningRate 0.000100\n",
            "------------------------------------------------------------------\n"
          ]
        },
        {
          "output_type": "stream",
          "name": "stderr",
          "text": [
            "100%|██████████| 175/175 [01:36<00:00,  1.81it/s]\n"
          ]
        },
        {
          "output_type": "stream",
          "name": "stdout",
          "text": [
            "[epoch 90 PSNR: 31.9191 --- best_epoch 90 Best_PSNR 31.9191]\n",
            "------------------------------------------------------------------\n",
            "Epoch: 90\tTime: 103.1563\tLoss: 7.4854\tLearningRate 0.000100\n",
            "------------------------------------------------------------------\n"
          ]
        },
        {
          "output_type": "stream",
          "name": "stderr",
          "text": [
            "100%|██████████| 175/175 [01:36<00:00,  1.81it/s]\n"
          ]
        },
        {
          "output_type": "stream",
          "name": "stdout",
          "text": [
            "------------------------------------------------------------------\n",
            "Epoch: 91\tTime: 96.8949\tLoss: 7.4352\tLearningRate 0.000100\n",
            "------------------------------------------------------------------\n"
          ]
        },
        {
          "output_type": "stream",
          "name": "stderr",
          "text": [
            "100%|██████████| 175/175 [01:36<00:00,  1.81it/s]\n"
          ]
        },
        {
          "output_type": "stream",
          "name": "stdout",
          "text": [
            "[epoch 92 PSNR: 31.9015 --- best_epoch 90 Best_PSNR 31.9191]\n",
            "------------------------------------------------------------------\n",
            "Epoch: 92\tTime: 101.8471\tLoss: 7.5056\tLearningRate 0.000100\n",
            "------------------------------------------------------------------\n"
          ]
        },
        {
          "output_type": "stream",
          "name": "stderr",
          "text": [
            "100%|██████████| 175/175 [01:36<00:00,  1.81it/s]\n"
          ]
        },
        {
          "output_type": "stream",
          "name": "stdout",
          "text": [
            "------------------------------------------------------------------\n",
            "Epoch: 93\tTime: 96.8647\tLoss: 7.5404\tLearningRate 0.000100\n",
            "------------------------------------------------------------------\n"
          ]
        },
        {
          "output_type": "stream",
          "name": "stderr",
          "text": [
            "100%|██████████| 175/175 [01:36<00:00,  1.81it/s]\n"
          ]
        },
        {
          "output_type": "stream",
          "name": "stdout",
          "text": [
            "[epoch 94 PSNR: 31.8871 --- best_epoch 90 Best_PSNR 31.9191]\n",
            "------------------------------------------------------------------\n",
            "Epoch: 94\tTime: 101.8301\tLoss: 7.4998\tLearningRate 0.000100\n",
            "------------------------------------------------------------------\n"
          ]
        },
        {
          "output_type": "stream",
          "name": "stderr",
          "text": [
            "100%|██████████| 175/175 [01:36<00:00,  1.81it/s]\n"
          ]
        },
        {
          "output_type": "stream",
          "name": "stdout",
          "text": [
            "------------------------------------------------------------------\n",
            "Epoch: 95\tTime: 96.8954\tLoss: 7.3010\tLearningRate 0.000100\n",
            "------------------------------------------------------------------\n"
          ]
        },
        {
          "output_type": "stream",
          "name": "stderr",
          "text": [
            "100%|██████████| 175/175 [01:36<00:00,  1.81it/s]\n"
          ]
        },
        {
          "output_type": "stream",
          "name": "stdout",
          "text": [
            "[epoch 96 PSNR: 31.9265 --- best_epoch 96 Best_PSNR 31.9265]\n",
            "------------------------------------------------------------------\n",
            "Epoch: 96\tTime: 102.6233\tLoss: 7.2994\tLearningRate 0.000100\n",
            "------------------------------------------------------------------\n"
          ]
        },
        {
          "output_type": "stream",
          "name": "stderr",
          "text": [
            "100%|██████████| 175/175 [01:36<00:00,  1.81it/s]\n"
          ]
        },
        {
          "output_type": "stream",
          "name": "stdout",
          "text": [
            "------------------------------------------------------------------\n",
            "Epoch: 97\tTime: 96.9017\tLoss: 7.4176\tLearningRate 0.000100\n",
            "------------------------------------------------------------------\n"
          ]
        },
        {
          "output_type": "stream",
          "name": "stderr",
          "text": [
            "100%|██████████| 175/175 [01:36<00:00,  1.81it/s]\n"
          ]
        },
        {
          "output_type": "stream",
          "name": "stdout",
          "text": [
            "[epoch 98 PSNR: 31.9133 --- best_epoch 96 Best_PSNR 31.9265]\n",
            "------------------------------------------------------------------\n",
            "Epoch: 98\tTime: 101.9309\tLoss: 7.5222\tLearningRate 0.000100\n",
            "------------------------------------------------------------------\n"
          ]
        },
        {
          "output_type": "stream",
          "name": "stderr",
          "text": [
            "100%|██████████| 175/175 [01:36<00:00,  1.81it/s]\n"
          ]
        },
        {
          "output_type": "stream",
          "name": "stdout",
          "text": [
            "------------------------------------------------------------------\n",
            "Epoch: 99\tTime: 96.8315\tLoss: 7.3758\tLearningRate 0.000100\n",
            "------------------------------------------------------------------\n"
          ]
        },
        {
          "output_type": "stream",
          "name": "stderr",
          "text": [
            "100%|██████████| 175/175 [01:36<00:00,  1.81it/s]\n"
          ]
        },
        {
          "output_type": "stream",
          "name": "stdout",
          "text": [
            "[epoch 100 PSNR: 31.8975 --- best_epoch 96 Best_PSNR 31.9265]\n",
            "------------------------------------------------------------------\n",
            "Epoch: 100\tTime: 101.8149\tLoss: 7.5149\tLearningRate 0.000100\n",
            "------------------------------------------------------------------\n"
          ]
        },
        {
          "output_type": "stream",
          "name": "stderr",
          "text": [
            "100%|██████████| 175/175 [01:36<00:00,  1.81it/s]\n"
          ]
        },
        {
          "output_type": "stream",
          "name": "stdout",
          "text": [
            "------------------------------------------------------------------\n",
            "Epoch: 101\tTime: 96.7495\tLoss: 7.4561\tLearningRate 0.000100\n",
            "------------------------------------------------------------------\n"
          ]
        },
        {
          "output_type": "stream",
          "name": "stderr",
          "text": [
            "100%|██████████| 175/175 [01:36<00:00,  1.81it/s]\n"
          ]
        },
        {
          "output_type": "stream",
          "name": "stdout",
          "text": [
            "[epoch 102 PSNR: 31.9075 --- best_epoch 96 Best_PSNR 31.9265]\n",
            "------------------------------------------------------------------\n",
            "Epoch: 102\tTime: 101.8267\tLoss: 7.4092\tLearningRate 0.000100\n",
            "------------------------------------------------------------------\n"
          ]
        },
        {
          "output_type": "stream",
          "name": "stderr",
          "text": [
            "100%|██████████| 175/175 [01:36<00:00,  1.81it/s]\n"
          ]
        },
        {
          "output_type": "stream",
          "name": "stdout",
          "text": [
            "------------------------------------------------------------------\n",
            "Epoch: 103\tTime: 96.7660\tLoss: 7.4801\tLearningRate 0.000100\n",
            "------------------------------------------------------------------\n"
          ]
        },
        {
          "output_type": "stream",
          "name": "stderr",
          "text": [
            "100%|██████████| 175/175 [01:36<00:00,  1.81it/s]\n"
          ]
        },
        {
          "output_type": "stream",
          "name": "stdout",
          "text": [
            "[epoch 104 PSNR: 31.9053 --- best_epoch 96 Best_PSNR 31.9265]\n",
            "------------------------------------------------------------------\n",
            "Epoch: 104\tTime: 101.7878\tLoss: 7.4623\tLearningRate 0.000100\n",
            "------------------------------------------------------------------\n"
          ]
        },
        {
          "output_type": "stream",
          "name": "stderr",
          "text": [
            "100%|██████████| 175/175 [01:36<00:00,  1.81it/s]\n"
          ]
        },
        {
          "output_type": "stream",
          "name": "stdout",
          "text": [
            "------------------------------------------------------------------\n",
            "Epoch: 105\tTime: 96.8942\tLoss: 7.5417\tLearningRate 0.000100\n",
            "------------------------------------------------------------------\n"
          ]
        },
        {
          "output_type": "stream",
          "name": "stderr",
          "text": [
            "100%|██████████| 175/175 [01:36<00:00,  1.81it/s]\n"
          ]
        },
        {
          "output_type": "stream",
          "name": "stdout",
          "text": [
            "[epoch 106 PSNR: 31.9117 --- best_epoch 96 Best_PSNR 31.9265]\n",
            "------------------------------------------------------------------\n",
            "Epoch: 106\tTime: 101.8718\tLoss: 7.4134\tLearningRate 0.000100\n",
            "------------------------------------------------------------------\n"
          ]
        },
        {
          "output_type": "stream",
          "name": "stderr",
          "text": [
            "100%|██████████| 175/175 [01:36<00:00,  1.81it/s]\n"
          ]
        },
        {
          "output_type": "stream",
          "name": "stdout",
          "text": [
            "------------------------------------------------------------------\n",
            "Epoch: 107\tTime: 96.9073\tLoss: 7.3871\tLearningRate 0.000100\n",
            "------------------------------------------------------------------\n"
          ]
        },
        {
          "output_type": "stream",
          "name": "stderr",
          "text": [
            "100%|██████████| 175/175 [01:36<00:00,  1.81it/s]\n"
          ]
        },
        {
          "output_type": "stream",
          "name": "stdout",
          "text": [
            "[epoch 108 PSNR: 31.8994 --- best_epoch 96 Best_PSNR 31.9265]\n",
            "------------------------------------------------------------------\n",
            "Epoch: 108\tTime: 101.8446\tLoss: 7.5132\tLearningRate 0.000100\n",
            "------------------------------------------------------------------\n"
          ]
        },
        {
          "output_type": "stream",
          "name": "stderr",
          "text": [
            "100%|██████████| 175/175 [01:36<00:00,  1.81it/s]\n"
          ]
        },
        {
          "output_type": "stream",
          "name": "stdout",
          "text": [
            "------------------------------------------------------------------\n",
            "Epoch: 109\tTime: 96.7780\tLoss: 7.4537\tLearningRate 0.000100\n",
            "------------------------------------------------------------------\n"
          ]
        },
        {
          "output_type": "stream",
          "name": "stderr",
          "text": [
            "100%|██████████| 175/175 [01:36<00:00,  1.81it/s]\n"
          ]
        },
        {
          "output_type": "stream",
          "name": "stdout",
          "text": [
            "[epoch 110 PSNR: 31.9257 --- best_epoch 96 Best_PSNR 31.9265]\n",
            "------------------------------------------------------------------\n",
            "Epoch: 110\tTime: 101.9242\tLoss: 7.5587\tLearningRate 0.000100\n",
            "------------------------------------------------------------------\n"
          ]
        },
        {
          "output_type": "stream",
          "name": "stderr",
          "text": [
            "100%|██████████| 175/175 [01:36<00:00,  1.81it/s]\n"
          ]
        },
        {
          "output_type": "stream",
          "name": "stdout",
          "text": [
            "------------------------------------------------------------------\n",
            "Epoch: 111\tTime: 96.8500\tLoss: 7.3739\tLearningRate 0.000100\n",
            "------------------------------------------------------------------\n"
          ]
        },
        {
          "output_type": "stream",
          "name": "stderr",
          "text": [
            "100%|██████████| 175/175 [01:36<00:00,  1.81it/s]\n"
          ]
        },
        {
          "output_type": "stream",
          "name": "stdout",
          "text": [
            "[epoch 112 PSNR: 31.9072 --- best_epoch 96 Best_PSNR 31.9265]\n",
            "------------------------------------------------------------------\n",
            "Epoch: 112\tTime: 101.8530\tLoss: 7.4405\tLearningRate 0.000100\n",
            "------------------------------------------------------------------\n"
          ]
        },
        {
          "output_type": "stream",
          "name": "stderr",
          "text": [
            "100%|██████████| 175/175 [01:36<00:00,  1.81it/s]\n"
          ]
        },
        {
          "output_type": "stream",
          "name": "stdout",
          "text": [
            "------------------------------------------------------------------\n",
            "Epoch: 113\tTime: 96.9332\tLoss: 7.5674\tLearningRate 0.000100\n",
            "------------------------------------------------------------------\n"
          ]
        },
        {
          "output_type": "stream",
          "name": "stderr",
          "text": [
            "100%|██████████| 175/175 [01:36<00:00,  1.81it/s]\n"
          ]
        },
        {
          "output_type": "stream",
          "name": "stdout",
          "text": [
            "[epoch 114 PSNR: 31.9210 --- best_epoch 96 Best_PSNR 31.9265]\n",
            "------------------------------------------------------------------\n",
            "Epoch: 114\tTime: 101.8905\tLoss: 7.4252\tLearningRate 0.000100\n",
            "------------------------------------------------------------------\n"
          ]
        },
        {
          "output_type": "stream",
          "name": "stderr",
          "text": [
            "100%|██████████| 175/175 [01:36<00:00,  1.81it/s]\n"
          ]
        },
        {
          "output_type": "stream",
          "name": "stdout",
          "text": [
            "------------------------------------------------------------------\n",
            "Epoch: 115\tTime: 96.8860\tLoss: 7.3862\tLearningRate 0.000100\n",
            "------------------------------------------------------------------\n"
          ]
        },
        {
          "output_type": "stream",
          "name": "stderr",
          "text": [
            "100%|██████████| 175/175 [01:36<00:00,  1.81it/s]\n"
          ]
        },
        {
          "output_type": "stream",
          "name": "stdout",
          "text": [
            "[epoch 116 PSNR: 31.9176 --- best_epoch 96 Best_PSNR 31.9265]\n",
            "------------------------------------------------------------------\n",
            "Epoch: 116\tTime: 101.9822\tLoss: 7.4932\tLearningRate 0.000100\n",
            "------------------------------------------------------------------\n"
          ]
        },
        {
          "output_type": "stream",
          "name": "stderr",
          "text": [
            "100%|██████████| 175/175 [01:36<00:00,  1.81it/s]\n"
          ]
        },
        {
          "output_type": "stream",
          "name": "stdout",
          "text": [
            "------------------------------------------------------------------\n",
            "Epoch: 117\tTime: 96.7909\tLoss: 7.4133\tLearningRate 0.000100\n",
            "------------------------------------------------------------------\n"
          ]
        },
        {
          "output_type": "stream",
          "name": "stderr",
          "text": [
            "100%|██████████| 175/175 [01:36<00:00,  1.81it/s]\n"
          ]
        },
        {
          "output_type": "stream",
          "name": "stdout",
          "text": [
            "[epoch 118 PSNR: 31.9107 --- best_epoch 96 Best_PSNR 31.9265]\n",
            "------------------------------------------------------------------\n",
            "Epoch: 118\tTime: 101.8032\tLoss: 7.3275\tLearningRate 0.000100\n",
            "------------------------------------------------------------------\n"
          ]
        },
        {
          "output_type": "stream",
          "name": "stderr",
          "text": [
            "100%|██████████| 175/175 [01:36<00:00,  1.80it/s]\n"
          ]
        },
        {
          "output_type": "stream",
          "name": "stdout",
          "text": [
            "------------------------------------------------------------------\n",
            "Epoch: 119\tTime: 96.9875\tLoss: 7.5301\tLearningRate 0.000100\n",
            "------------------------------------------------------------------\n"
          ]
        },
        {
          "output_type": "stream",
          "name": "stderr",
          "text": [
            "100%|██████████| 175/175 [01:36<00:00,  1.81it/s]\n"
          ]
        },
        {
          "output_type": "stream",
          "name": "stdout",
          "text": [
            "[epoch 120 PSNR: 31.9105 --- best_epoch 96 Best_PSNR 31.9265]\n",
            "------------------------------------------------------------------\n",
            "Epoch: 120\tTime: 101.9333\tLoss: 7.5292\tLearningRate 0.000100\n",
            "------------------------------------------------------------------\n"
          ]
        },
        {
          "output_type": "stream",
          "name": "stderr",
          "text": [
            "100%|██████████| 175/175 [01:36<00:00,  1.81it/s]\n"
          ]
        },
        {
          "output_type": "stream",
          "name": "stdout",
          "text": [
            "------------------------------------------------------------------\n",
            "Epoch: 121\tTime: 96.8842\tLoss: 7.3783\tLearningRate 0.000100\n",
            "------------------------------------------------------------------\n"
          ]
        },
        {
          "output_type": "stream",
          "name": "stderr",
          "text": [
            "100%|██████████| 175/175 [01:36<00:00,  1.81it/s]\n"
          ]
        },
        {
          "output_type": "stream",
          "name": "stdout",
          "text": [
            "[epoch 122 PSNR: 31.9233 --- best_epoch 96 Best_PSNR 31.9265]\n",
            "------------------------------------------------------------------\n",
            "Epoch: 122\tTime: 101.9000\tLoss: 7.5985\tLearningRate 0.000100\n",
            "------------------------------------------------------------------\n"
          ]
        },
        {
          "output_type": "stream",
          "name": "stderr",
          "text": [
            "100%|██████████| 175/175 [01:36<00:00,  1.81it/s]\n"
          ]
        },
        {
          "output_type": "stream",
          "name": "stdout",
          "text": [
            "------------------------------------------------------------------\n",
            "Epoch: 123\tTime: 96.9576\tLoss: 7.4863\tLearningRate 0.000100\n",
            "------------------------------------------------------------------\n"
          ]
        },
        {
          "output_type": "stream",
          "name": "stderr",
          "text": [
            "100%|██████████| 175/175 [01:36<00:00,  1.81it/s]\n"
          ]
        },
        {
          "output_type": "stream",
          "name": "stdout",
          "text": [
            "[epoch 124 PSNR: 31.9380 --- best_epoch 124 Best_PSNR 31.9380]\n",
            "------------------------------------------------------------------\n",
            "Epoch: 124\tTime: 102.5676\tLoss: 7.4822\tLearningRate 0.000100\n",
            "------------------------------------------------------------------\n"
          ]
        },
        {
          "output_type": "stream",
          "name": "stderr",
          "text": [
            "100%|██████████| 175/175 [01:36<00:00,  1.81it/s]\n"
          ]
        },
        {
          "output_type": "stream",
          "name": "stdout",
          "text": [
            "------------------------------------------------------------------\n",
            "Epoch: 125\tTime: 96.7985\tLoss: 7.4948\tLearningRate 0.000100\n",
            "------------------------------------------------------------------\n"
          ]
        },
        {
          "output_type": "stream",
          "name": "stderr",
          "text": [
            "100%|██████████| 175/175 [01:36<00:00,  1.81it/s]\n"
          ]
        },
        {
          "output_type": "stream",
          "name": "stdout",
          "text": [
            "[epoch 126 PSNR: 31.9267 --- best_epoch 124 Best_PSNR 31.9380]\n",
            "------------------------------------------------------------------\n",
            "Epoch: 126\tTime: 101.8429\tLoss: 7.6031\tLearningRate 0.000100\n",
            "------------------------------------------------------------------\n"
          ]
        },
        {
          "output_type": "stream",
          "name": "stderr",
          "text": [
            "100%|██████████| 175/175 [01:36<00:00,  1.81it/s]\n"
          ]
        },
        {
          "output_type": "stream",
          "name": "stdout",
          "text": [
            "------------------------------------------------------------------\n",
            "Epoch: 127\tTime: 96.8241\tLoss: 7.5092\tLearningRate 0.000100\n",
            "------------------------------------------------------------------\n"
          ]
        },
        {
          "output_type": "stream",
          "name": "stderr",
          "text": [
            "100%|██████████| 175/175 [01:36<00:00,  1.81it/s]\n"
          ]
        },
        {
          "output_type": "stream",
          "name": "stdout",
          "text": [
            "[epoch 128 PSNR: 31.8955 --- best_epoch 124 Best_PSNR 31.9380]\n",
            "------------------------------------------------------------------\n",
            "Epoch: 128\tTime: 101.8949\tLoss: 7.3630\tLearningRate 0.000100\n",
            "------------------------------------------------------------------\n"
          ]
        },
        {
          "output_type": "stream",
          "name": "stderr",
          "text": [
            "100%|██████████| 175/175 [01:36<00:00,  1.81it/s]\n"
          ]
        },
        {
          "output_type": "stream",
          "name": "stdout",
          "text": [
            "------------------------------------------------------------------\n",
            "Epoch: 129\tTime: 96.9352\tLoss: 7.4571\tLearningRate 0.000100\n",
            "------------------------------------------------------------------\n"
          ]
        },
        {
          "output_type": "stream",
          "name": "stderr",
          "text": [
            "100%|██████████| 175/175 [01:36<00:00,  1.81it/s]\n"
          ]
        },
        {
          "output_type": "stream",
          "name": "stdout",
          "text": [
            "[epoch 130 PSNR: 31.9394 --- best_epoch 130 Best_PSNR 31.9394]\n",
            "------------------------------------------------------------------\n",
            "Epoch: 130\tTime: 102.4059\tLoss: 7.5239\tLearningRate 0.000100\n",
            "------------------------------------------------------------------\n"
          ]
        },
        {
          "output_type": "stream",
          "name": "stderr",
          "text": [
            "100%|██████████| 175/175 [01:36<00:00,  1.81it/s]\n"
          ]
        },
        {
          "output_type": "stream",
          "name": "stdout",
          "text": [
            "------------------------------------------------------------------\n",
            "Epoch: 131\tTime: 96.8708\tLoss: 7.4832\tLearningRate 0.000100\n",
            "------------------------------------------------------------------\n"
          ]
        },
        {
          "output_type": "stream",
          "name": "stderr",
          "text": [
            "100%|██████████| 175/175 [01:36<00:00,  1.81it/s]\n"
          ]
        },
        {
          "output_type": "stream",
          "name": "stdout",
          "text": [
            "[epoch 132 PSNR: 31.9324 --- best_epoch 130 Best_PSNR 31.9394]\n",
            "------------------------------------------------------------------\n",
            "Epoch: 132\tTime: 101.8146\tLoss: 7.3347\tLearningRate 0.000100\n",
            "------------------------------------------------------------------\n"
          ]
        },
        {
          "output_type": "stream",
          "name": "stderr",
          "text": [
            "100%|██████████| 175/175 [01:36<00:00,  1.81it/s]\n"
          ]
        },
        {
          "output_type": "stream",
          "name": "stdout",
          "text": [
            "------------------------------------------------------------------\n",
            "Epoch: 133\tTime: 96.7600\tLoss: 7.4781\tLearningRate 0.000100\n",
            "------------------------------------------------------------------\n"
          ]
        },
        {
          "output_type": "stream",
          "name": "stderr",
          "text": [
            "100%|██████████| 175/175 [01:36<00:00,  1.81it/s]\n"
          ]
        },
        {
          "output_type": "stream",
          "name": "stdout",
          "text": [
            "[epoch 134 PSNR: 31.9476 --- best_epoch 134 Best_PSNR 31.9476]\n",
            "------------------------------------------------------------------\n",
            "Epoch: 134\tTime: 102.5902\tLoss: 7.3948\tLearningRate 0.000100\n",
            "------------------------------------------------------------------\n"
          ]
        },
        {
          "output_type": "stream",
          "name": "stderr",
          "text": [
            "100%|██████████| 175/175 [01:36<00:00,  1.81it/s]\n"
          ]
        },
        {
          "output_type": "stream",
          "name": "stdout",
          "text": [
            "------------------------------------------------------------------\n",
            "Epoch: 135\tTime: 96.9402\tLoss: 7.4899\tLearningRate 0.000100\n",
            "------------------------------------------------------------------\n"
          ]
        },
        {
          "output_type": "stream",
          "name": "stderr",
          "text": [
            "100%|██████████| 175/175 [01:36<00:00,  1.81it/s]\n"
          ]
        },
        {
          "output_type": "stream",
          "name": "stdout",
          "text": [
            "[epoch 136 PSNR: 31.9137 --- best_epoch 134 Best_PSNR 31.9476]\n",
            "------------------------------------------------------------------\n",
            "Epoch: 136\tTime: 101.8232\tLoss: 7.4884\tLearningRate 0.000100\n",
            "------------------------------------------------------------------\n"
          ]
        },
        {
          "output_type": "stream",
          "name": "stderr",
          "text": [
            "100%|██████████| 175/175 [01:36<00:00,  1.81it/s]\n"
          ]
        },
        {
          "output_type": "stream",
          "name": "stdout",
          "text": [
            "------------------------------------------------------------------\n",
            "Epoch: 137\tTime: 96.9420\tLoss: 7.6294\tLearningRate 0.000100\n",
            "------------------------------------------------------------------\n"
          ]
        },
        {
          "output_type": "stream",
          "name": "stderr",
          "text": [
            "100%|██████████| 175/175 [01:36<00:00,  1.81it/s]\n"
          ]
        },
        {
          "output_type": "stream",
          "name": "stdout",
          "text": [
            "[epoch 138 PSNR: 31.9236 --- best_epoch 134 Best_PSNR 31.9476]\n",
            "------------------------------------------------------------------\n",
            "Epoch: 138\tTime: 101.8063\tLoss: 7.5637\tLearningRate 0.000100\n",
            "------------------------------------------------------------------\n"
          ]
        },
        {
          "output_type": "stream",
          "name": "stderr",
          "text": [
            "100%|██████████| 175/175 [01:37<00:00,  1.80it/s]\n"
          ]
        },
        {
          "output_type": "stream",
          "name": "stdout",
          "text": [
            "------------------------------------------------------------------\n",
            "Epoch: 139\tTime: 97.1814\tLoss: 7.4025\tLearningRate 0.000099\n",
            "------------------------------------------------------------------\n"
          ]
        },
        {
          "output_type": "stream",
          "name": "stderr",
          "text": [
            "100%|██████████| 175/175 [01:36<00:00,  1.81it/s]\n"
          ]
        },
        {
          "output_type": "stream",
          "name": "stdout",
          "text": [
            "[epoch 140 PSNR: 31.9461 --- best_epoch 134 Best_PSNR 31.9476]\n",
            "------------------------------------------------------------------\n",
            "Epoch: 140\tTime: 101.9393\tLoss: 7.4271\tLearningRate 0.000099\n",
            "------------------------------------------------------------------\n"
          ]
        },
        {
          "output_type": "stream",
          "name": "stderr",
          "text": [
            "100%|██████████| 175/175 [01:36<00:00,  1.81it/s]\n"
          ]
        },
        {
          "output_type": "stream",
          "name": "stdout",
          "text": [
            "------------------------------------------------------------------\n",
            "Epoch: 141\tTime: 96.9461\tLoss: 7.3719\tLearningRate 0.000099\n",
            "------------------------------------------------------------------\n"
          ]
        },
        {
          "output_type": "stream",
          "name": "stderr",
          "text": [
            "100%|██████████| 175/175 [01:36<00:00,  1.81it/s]\n"
          ]
        },
        {
          "output_type": "stream",
          "name": "stdout",
          "text": [
            "[epoch 142 PSNR: 31.9406 --- best_epoch 134 Best_PSNR 31.9476]\n",
            "------------------------------------------------------------------\n",
            "Epoch: 142\tTime: 101.8339\tLoss: 7.4630\tLearningRate 0.000099\n",
            "------------------------------------------------------------------\n"
          ]
        },
        {
          "output_type": "stream",
          "name": "stderr",
          "text": [
            "100%|██████████| 175/175 [01:36<00:00,  1.81it/s]\n"
          ]
        },
        {
          "output_type": "stream",
          "name": "stdout",
          "text": [
            "------------------------------------------------------------------\n",
            "Epoch: 143\tTime: 96.8253\tLoss: 7.4409\tLearningRate 0.000099\n",
            "------------------------------------------------------------------\n"
          ]
        },
        {
          "output_type": "stream",
          "name": "stderr",
          "text": [
            "100%|██████████| 175/175 [01:36<00:00,  1.81it/s]\n"
          ]
        },
        {
          "output_type": "stream",
          "name": "stdout",
          "text": [
            "[epoch 144 PSNR: 31.9514 --- best_epoch 144 Best_PSNR 31.9514]\n",
            "------------------------------------------------------------------\n",
            "Epoch: 144\tTime: 102.4429\tLoss: 7.4630\tLearningRate 0.000099\n",
            "------------------------------------------------------------------\n"
          ]
        },
        {
          "output_type": "stream",
          "name": "stderr",
          "text": [
            "100%|██████████| 175/175 [01:36<00:00,  1.81it/s]\n"
          ]
        },
        {
          "output_type": "stream",
          "name": "stdout",
          "text": [
            "------------------------------------------------------------------\n",
            "Epoch: 145\tTime: 96.8510\tLoss: 7.4758\tLearningRate 0.000099\n",
            "------------------------------------------------------------------\n"
          ]
        },
        {
          "output_type": "stream",
          "name": "stderr",
          "text": [
            "100%|██████████| 175/175 [01:36<00:00,  1.81it/s]\n"
          ]
        },
        {
          "output_type": "stream",
          "name": "stdout",
          "text": [
            "[epoch 146 PSNR: 31.9627 --- best_epoch 146 Best_PSNR 31.9627]\n",
            "------------------------------------------------------------------\n",
            "Epoch: 146\tTime: 102.6398\tLoss: 7.4948\tLearningRate 0.000099\n",
            "------------------------------------------------------------------\n"
          ]
        },
        {
          "output_type": "stream",
          "name": "stderr",
          "text": [
            "100%|██████████| 175/175 [01:36<00:00,  1.81it/s]\n"
          ]
        },
        {
          "output_type": "stream",
          "name": "stdout",
          "text": [
            "------------------------------------------------------------------\n",
            "Epoch: 147\tTime: 96.8443\tLoss: 7.3276\tLearningRate 0.000099\n",
            "------------------------------------------------------------------\n"
          ]
        },
        {
          "output_type": "stream",
          "name": "stderr",
          "text": [
            "100%|██████████| 175/175 [01:36<00:00,  1.81it/s]\n"
          ]
        },
        {
          "output_type": "stream",
          "name": "stdout",
          "text": [
            "[epoch 148 PSNR: 31.9281 --- best_epoch 146 Best_PSNR 31.9627]\n",
            "------------------------------------------------------------------\n",
            "Epoch: 148\tTime: 101.8754\tLoss: 7.4499\tLearningRate 0.000099\n",
            "------------------------------------------------------------------\n"
          ]
        },
        {
          "output_type": "stream",
          "name": "stderr",
          "text": [
            "100%|██████████| 175/175 [01:36<00:00,  1.81it/s]\n"
          ]
        },
        {
          "output_type": "stream",
          "name": "stdout",
          "text": [
            "------------------------------------------------------------------\n",
            "Epoch: 149\tTime: 96.8163\tLoss: 7.4195\tLearningRate 0.000099\n",
            "------------------------------------------------------------------\n"
          ]
        },
        {
          "output_type": "stream",
          "name": "stderr",
          "text": [
            "100%|██████████| 175/175 [01:36<00:00,  1.81it/s]\n"
          ]
        },
        {
          "output_type": "stream",
          "name": "stdout",
          "text": [
            "[epoch 150 PSNR: 31.9477 --- best_epoch 146 Best_PSNR 31.9627]\n",
            "------------------------------------------------------------------\n",
            "Epoch: 150\tTime: 101.8896\tLoss: 7.4638\tLearningRate 0.000099\n",
            "------------------------------------------------------------------\n"
          ]
        },
        {
          "output_type": "stream",
          "name": "stderr",
          "text": [
            "100%|██████████| 175/175 [01:36<00:00,  1.81it/s]\n"
          ]
        },
        {
          "output_type": "stream",
          "name": "stdout",
          "text": [
            "------------------------------------------------------------------\n",
            "Epoch: 151\tTime: 96.9114\tLoss: 7.5134\tLearningRate 0.000099\n",
            "------------------------------------------------------------------\n"
          ]
        },
        {
          "output_type": "stream",
          "name": "stderr",
          "text": [
            "100%|██████████| 175/175 [01:36<00:00,  1.81it/s]\n"
          ]
        },
        {
          "output_type": "stream",
          "name": "stdout",
          "text": [
            "[epoch 152 PSNR: 31.9417 --- best_epoch 146 Best_PSNR 31.9627]\n",
            "------------------------------------------------------------------\n",
            "Epoch: 152\tTime: 101.7581\tLoss: 7.5348\tLearningRate 0.000099\n",
            "------------------------------------------------------------------\n"
          ]
        },
        {
          "output_type": "stream",
          "name": "stderr",
          "text": [
            "100%|██████████| 175/175 [01:36<00:00,  1.81it/s]\n"
          ]
        },
        {
          "output_type": "stream",
          "name": "stdout",
          "text": [
            "------------------------------------------------------------------\n",
            "Epoch: 153\tTime: 96.8266\tLoss: 7.4352\tLearningRate 0.000099\n",
            "------------------------------------------------------------------\n"
          ]
        },
        {
          "output_type": "stream",
          "name": "stderr",
          "text": [
            "100%|██████████| 175/175 [01:36<00:00,  1.81it/s]\n"
          ]
        },
        {
          "output_type": "stream",
          "name": "stdout",
          "text": [
            "[epoch 154 PSNR: 31.9669 --- best_epoch 154 Best_PSNR 31.9669]\n",
            "------------------------------------------------------------------\n",
            "Epoch: 154\tTime: 102.5760\tLoss: 7.3127\tLearningRate 0.000099\n",
            "------------------------------------------------------------------\n"
          ]
        },
        {
          "output_type": "stream",
          "name": "stderr",
          "text": [
            "100%|██████████| 175/175 [01:36<00:00,  1.80it/s]\n"
          ]
        },
        {
          "output_type": "stream",
          "name": "stdout",
          "text": [
            "------------------------------------------------------------------\n",
            "Epoch: 155\tTime: 97.0044\tLoss: 7.4005\tLearningRate 0.000099\n",
            "------------------------------------------------------------------\n"
          ]
        },
        {
          "output_type": "stream",
          "name": "stderr",
          "text": [
            "100%|██████████| 175/175 [01:36<00:00,  1.81it/s]\n"
          ]
        },
        {
          "output_type": "stream",
          "name": "stdout",
          "text": [
            "[epoch 156 PSNR: 31.9676 --- best_epoch 156 Best_PSNR 31.9676]\n",
            "------------------------------------------------------------------\n",
            "Epoch: 156\tTime: 102.6591\tLoss: 7.3450\tLearningRate 0.000099\n",
            "------------------------------------------------------------------\n"
          ]
        },
        {
          "output_type": "stream",
          "name": "stderr",
          "text": [
            "100%|██████████| 175/175 [01:37<00:00,  1.80it/s]\n"
          ]
        },
        {
          "output_type": "stream",
          "name": "stdout",
          "text": [
            "------------------------------------------------------------------\n",
            "Epoch: 157\tTime: 97.0198\tLoss: 7.3967\tLearningRate 0.000099\n",
            "------------------------------------------------------------------\n"
          ]
        },
        {
          "output_type": "stream",
          "name": "stderr",
          "text": [
            "100%|██████████| 175/175 [01:36<00:00,  1.81it/s]\n"
          ]
        },
        {
          "output_type": "stream",
          "name": "stdout",
          "text": [
            "[epoch 158 PSNR: 31.9434 --- best_epoch 156 Best_PSNR 31.9676]\n",
            "------------------------------------------------------------------\n",
            "Epoch: 158\tTime: 101.8007\tLoss: 7.4409\tLearningRate 0.000099\n",
            "------------------------------------------------------------------\n"
          ]
        },
        {
          "output_type": "stream",
          "name": "stderr",
          "text": [
            " 19%|█▉        | 34/175 [00:20<01:23,  1.68it/s]\n"
          ]
        },
        {
          "output_type": "error",
          "ename": "KeyboardInterrupt",
          "evalue": "ignored",
          "traceback": [
            "\u001b[0;31m---------------------------------------------------------------------------\u001b[0m",
            "\u001b[0;31mKeyboardInterrupt\u001b[0m                         Traceback (most recent call last)",
            "\u001b[0;32m<ipython-input-11-34dcadcaf280>\u001b[0m in \u001b[0;36m<module>\u001b[0;34m\u001b[0m\n\u001b[1;32m     39\u001b[0m         \u001b[0mloss\u001b[0m \u001b[0;34m=\u001b[0m \u001b[0;34m(\u001b[0m\u001b[0mloss_char\u001b[0m\u001b[0;34m)\u001b[0m \u001b[0;34m+\u001b[0m \u001b[0;34m(\u001b[0m\u001b[0;36m0.05\u001b[0m\u001b[0;34m*\u001b[0m\u001b[0mloss_edge\u001b[0m\u001b[0;34m)\u001b[0m\u001b[0;34m\u001b[0m\u001b[0;34m\u001b[0m\u001b[0m\n\u001b[1;32m     40\u001b[0m \u001b[0;34m\u001b[0m\u001b[0m\n\u001b[0;32m---> 41\u001b[0;31m         \u001b[0mloss\u001b[0m\u001b[0;34m.\u001b[0m\u001b[0mbackward\u001b[0m\u001b[0;34m(\u001b[0m\u001b[0;34m)\u001b[0m\u001b[0;34m\u001b[0m\u001b[0;34m\u001b[0m\u001b[0m\n\u001b[0m\u001b[1;32m     42\u001b[0m         \u001b[0moptimizer\u001b[0m\u001b[0;34m.\u001b[0m\u001b[0mstep\u001b[0m\u001b[0;34m(\u001b[0m\u001b[0;34m)\u001b[0m\u001b[0;34m\u001b[0m\u001b[0;34m\u001b[0m\u001b[0m\n\u001b[1;32m     43\u001b[0m         \u001b[0mepoch_loss\u001b[0m \u001b[0;34m+=\u001b[0m\u001b[0mloss\u001b[0m\u001b[0;34m.\u001b[0m\u001b[0mitem\u001b[0m\u001b[0;34m(\u001b[0m\u001b[0;34m)\u001b[0m\u001b[0;34m\u001b[0m\u001b[0;34m\u001b[0m\u001b[0m\n",
            "\u001b[0;32m/usr/local/lib/python3.8/dist-packages/torch/_tensor.py\u001b[0m in \u001b[0;36mbackward\u001b[0;34m(self, gradient, retain_graph, create_graph, inputs)\u001b[0m\n\u001b[1;32m    485\u001b[0m                 \u001b[0minputs\u001b[0m\u001b[0;34m=\u001b[0m\u001b[0minputs\u001b[0m\u001b[0;34m,\u001b[0m\u001b[0;34m\u001b[0m\u001b[0;34m\u001b[0m\u001b[0m\n\u001b[1;32m    486\u001b[0m             )\n\u001b[0;32m--> 487\u001b[0;31m         torch.autograd.backward(\n\u001b[0m\u001b[1;32m    488\u001b[0m             \u001b[0mself\u001b[0m\u001b[0;34m,\u001b[0m \u001b[0mgradient\u001b[0m\u001b[0;34m,\u001b[0m \u001b[0mretain_graph\u001b[0m\u001b[0;34m,\u001b[0m \u001b[0mcreate_graph\u001b[0m\u001b[0;34m,\u001b[0m \u001b[0minputs\u001b[0m\u001b[0;34m=\u001b[0m\u001b[0minputs\u001b[0m\u001b[0;34m\u001b[0m\u001b[0;34m\u001b[0m\u001b[0m\n\u001b[1;32m    489\u001b[0m         )\n",
            "\u001b[0;32m/usr/local/lib/python3.8/dist-packages/torch/autograd/__init__.py\u001b[0m in \u001b[0;36mbackward\u001b[0;34m(tensors, grad_tensors, retain_graph, create_graph, grad_variables, inputs)\u001b[0m\n\u001b[1;32m    195\u001b[0m     \u001b[0;31m# some Python versions print out the first line of a multi-line function\u001b[0m\u001b[0;34m\u001b[0m\u001b[0;34m\u001b[0m\u001b[0;34m\u001b[0m\u001b[0m\n\u001b[1;32m    196\u001b[0m     \u001b[0;31m# calls in the traceback and some print out the last line\u001b[0m\u001b[0;34m\u001b[0m\u001b[0;34m\u001b[0m\u001b[0;34m\u001b[0m\u001b[0m\n\u001b[0;32m--> 197\u001b[0;31m     Variable._execution_engine.run_backward(  # Calls into the C++ engine to run the backward pass\n\u001b[0m\u001b[1;32m    198\u001b[0m         \u001b[0mtensors\u001b[0m\u001b[0;34m,\u001b[0m \u001b[0mgrad_tensors_\u001b[0m\u001b[0;34m,\u001b[0m \u001b[0mretain_graph\u001b[0m\u001b[0;34m,\u001b[0m \u001b[0mcreate_graph\u001b[0m\u001b[0;34m,\u001b[0m \u001b[0minputs\u001b[0m\u001b[0;34m,\u001b[0m\u001b[0;34m\u001b[0m\u001b[0;34m\u001b[0m\u001b[0m\n\u001b[1;32m    199\u001b[0m         allow_unreachable=True, accumulate_grad=True)  # Calls into the C++ engine to run the backward pass\n",
            "\u001b[0;31mKeyboardInterrupt\u001b[0m: "
          ]
        }
      ],
      "source": [
        "# %%capture\n",
        "\n",
        "best_psnr = 0\n",
        "best_epoch = 0\n",
        "\n",
        "for epoch in range(start_epoch, opt.OPTIM.NUM_EPOCHS + 1):\n",
        "    epoch_start_time = time.time()\n",
        "    epoch_loss = 0\n",
        "    train_id = 1\n",
        "\n",
        "    model_restoration.train()\n",
        "\n",
        "    no_grad = ['shallow_feat1', 'shallow_feat2', 'shallow_feat3', 'stage1_encoder', 'stage1_decoder', 'sam12']\n",
        "\n",
        "    for name, child in model_restoration.named_children():\n",
        "        if name not in no_grad:\n",
        "            for param in child.parameters():\n",
        "                param.requires_grad = True\n",
        "        else:\n",
        "            for param in child.parameters():\n",
        "                param.requires_grad = False\n",
        "\n",
        "    for i, data in enumerate(tqdm(train_loader), 0):\n",
        "\n",
        "        # zero_grad\n",
        "        for param in model_restoration.parameters():\n",
        "            param.grad = None\n",
        "\n",
        "        target = data[0].cuda()\n",
        "        input_ = data[1].cuda()\n",
        "\n",
        "        restored = model_restoration(input_)\n",
        " \n",
        "        # Compute loss at each stage\n",
        "        loss_char = sum([criterion_char(restored[j],target) for j in range(len(restored))])\n",
        "        # loss_char = np.sum([criterion_char(restored[j],target) for j in range(len(restored))])\n",
        "        # loss_edge = np.sum([criterion_edge(restored[j],target) for j in range(len(restored))])\n",
        "        loss_edge = sum([criterion_edge(restored[j],target) for j in range(len(restored))])\n",
        "        loss = (loss_char) + (0.05*loss_edge)\n",
        "       \n",
        "        loss.backward()\n",
        "        optimizer.step()\n",
        "        epoch_loss +=loss.item()\n",
        "\n",
        "    #### Evaluation ####\n",
        "    if epoch%opt.TRAINING.VAL_AFTER_EVERY == 0:\n",
        "        model_restoration.eval()\n",
        "        psnr_val_rgb = []\n",
        "        for ii, data_val in enumerate((val_loader), 0):\n",
        "            target = data_val[0].cuda()\n",
        "            input_ = data_val[1].cuda()\n",
        "\n",
        "            with torch.no_grad():\n",
        "                restored = model_restoration(input_)\n",
        "            restored = restored[0]\n",
        "\n",
        "            for res,tar in zip(restored,target):\n",
        "                psnr_val_rgb.append(utils.torchPSNR(res, tar))\n",
        "\n",
        "        psnr_val_rgb  = torch.stack(psnr_val_rgb).mean().item()\n",
        "\n",
        "        if psnr_val_rgb > best_psnr:\n",
        "            best_psnr = psnr_val_rgb\n",
        "            best_epoch = epoch\n",
        "            torch.save({'epoch': epoch, \n",
        "                        'state_dict': model_restoration.state_dict(),\n",
        "                        'optimizer' : optimizer.state_dict()\n",
        "                        }, os.path.join(model_dir,\"model_best.pth\"))\n",
        "\n",
        "        print(\"[epoch %d PSNR: %.4f --- best_epoch %d Best_PSNR %.4f]\" % (epoch, psnr_val_rgb, best_epoch, best_psnr))\n",
        "\n",
        "        torch.save({'epoch': epoch, \n",
        "                    'state_dict': model_restoration.state_dict(),\n",
        "                    'optimizer' : optimizer.state_dict()\n",
        "                    }, os.path.join(model_dir,f\"model_epoch_{epoch}.pth\")) \n",
        "\n",
        "    scheduler.step()\n",
        "    \n",
        "    print(\"------------------------------------------------------------------\")\n",
        "    print(\"Epoch: {}\\tTime: {:.4f}\\tLoss: {:.4f}\\tLearningRate {:.6f}\".format(epoch, time.time()-epoch_start_time, epoch_loss, scheduler.get_lr()[0]))\n",
        "    print(\"------------------------------------------------------------------\")\n",
        "\n",
        "    torch.save({'epoch': epoch, \n",
        "                'state_dict': model_restoration.state_dict(),\n",
        "                'optimizer' : optimizer.state_dict()\n",
        "                }, os.path.join(model_dir,\"model_latest.pth\")) "
      ]
    }
  ],
  "metadata": {
    "accelerator": "GPU",
    "colab": {
      "machine_shape": "hm",
      "provenance": []
    },
    "gpuClass": "premium",
    "kernelspec": {
      "display_name": "Python 3",
      "name": "python3"
    },
    "language_info": {
      "name": "python"
    }
  },
  "nbformat": 4,
  "nbformat_minor": 0
}